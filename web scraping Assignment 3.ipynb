{
 "cells": [
  {
   "cell_type": "code",
   "execution_count": 101,
   "id": "7ddcc24b",
   "metadata": {},
   "outputs": [],
   "source": [
    "import selenium\n",
    "from selenium import webdriver\n",
    "import pandas as pd\n",
    "import warnings\n",
    "warnings.filterwarnings('ignore')"
   ]
  },
  {
   "cell_type": "code",
   "execution_count": 102,
   "id": "740c2a68",
   "metadata": {},
   "outputs": [],
   "source": [
    "import requests\n",
    "from bs4 import BeautifulSoup\n",
    "import pandas as pd"
   ]
  },
  {
   "cell_type": "code",
   "execution_count": 103,
   "id": "28061bb9",
   "metadata": {},
   "outputs": [],
   "source": [
    "driver = webdriver.Chrome(r'C:/webdriver/chromedriver.exe')"
   ]
  },
  {
   "cell_type": "code",
   "execution_count": 104,
   "id": "a4461f3a",
   "metadata": {},
   "outputs": [],
   "source": [
    "url = 'https://www.amazon.in/'\n",
    "driver.get(url)"
   ]
  },
  {
   "cell_type": "code",
   "execution_count": 105,
   "id": "53476242",
   "metadata": {},
   "outputs": [
    {
     "data": {
      "text/plain": [
       "<selenium.webdriver.remote.webelement.WebElement (session=\"3eecee8f45c19d663ee57aef4a2a645e\", element=\"2fb1524d-34a2-4829-bf94-3d743a444f3c\")>"
      ]
     },
     "execution_count": 105,
     "metadata": {},
     "output_type": "execute_result"
    }
   ],
   "source": [
    "search_product = driver.find_element_by_xpath('/html/body/div[1]/header/div/div[1]/div[2]/div/form/div[2]/div[1]/input')\n",
    "search_product"
   ]
  },
  {
   "cell_type": "code",
   "execution_count": 106,
   "id": "c270d668",
   "metadata": {},
   "outputs": [],
   "source": [
    "search_product.send_keys('guitar')"
   ]
  },
  {
   "cell_type": "code",
   "execution_count": 107,
   "id": "5465cbdf",
   "metadata": {},
   "outputs": [
    {
     "data": {
      "text/plain": [
       "<selenium.webdriver.remote.webelement.WebElement (session=\"3eecee8f45c19d663ee57aef4a2a645e\", element=\"62b9de87-60aa-446d-a236-bb34074da840\")>"
      ]
     },
     "execution_count": 107,
     "metadata": {},
     "output_type": "execute_result"
    }
   ],
   "source": [
    "search_btn = driver.find_element_by_xpath('/html/body/div[1]/header/div/div[1]/div[2]/div/form/div[3]/div')\n",
    "search_btn"
   ]
  },
  {
   "cell_type": "code",
   "execution_count": 108,
   "id": "259da705",
   "metadata": {},
   "outputs": [],
   "source": [
    "search_btn.click()"
   ]
  },
  {
   "cell_type": "code",
   "execution_count": 109,
   "id": "301c45ec",
   "metadata": {},
   "outputs": [
    {
     "data": {
      "text/plain": [
       "[<selenium.webdriver.remote.webelement.WebElement (session=\"3eecee8f45c19d663ee57aef4a2a645e\", element=\"42d87c7c-838c-4889-aee9-664012c7bdf6\")>,\n",
       " <selenium.webdriver.remote.webelement.WebElement (session=\"3eecee8f45c19d663ee57aef4a2a645e\", element=\"e38e4e7d-33dd-4e94-9015-799379c6f0d0\")>,\n",
       " <selenium.webdriver.remote.webelement.WebElement (session=\"3eecee8f45c19d663ee57aef4a2a645e\", element=\"ac586e2b-d2db-430a-bdf6-10b96a013a7e\")>,\n",
       " <selenium.webdriver.remote.webelement.WebElement (session=\"3eecee8f45c19d663ee57aef4a2a645e\", element=\"3504cf16-ae80-4c08-8271-4cb7ff0244b3\")>,\n",
       " <selenium.webdriver.remote.webelement.WebElement (session=\"3eecee8f45c19d663ee57aef4a2a645e\", element=\"d0a3f154-88a6-4fb1-97c5-7c5a47f2d961\")>,\n",
       " <selenium.webdriver.remote.webelement.WebElement (session=\"3eecee8f45c19d663ee57aef4a2a645e\", element=\"508ae3e3-23fc-4485-a272-31fa17040d90\")>,\n",
       " <selenium.webdriver.remote.webelement.WebElement (session=\"3eecee8f45c19d663ee57aef4a2a645e\", element=\"a74020f5-ea38-4e0f-8f39-74af2dc526d4\")>,\n",
       " <selenium.webdriver.remote.webelement.WebElement (session=\"3eecee8f45c19d663ee57aef4a2a645e\", element=\"de07e0eb-c5c8-4140-bb54-f8b5f68b15a1\")>,\n",
       " <selenium.webdriver.remote.webelement.WebElement (session=\"3eecee8f45c19d663ee57aef4a2a645e\", element=\"c2874550-fbbe-429a-bb19-bd5f4b339f54\")>,\n",
       " <selenium.webdriver.remote.webelement.WebElement (session=\"3eecee8f45c19d663ee57aef4a2a645e\", element=\"a1d99538-1b1e-4108-abea-4b6787f107fe\")>,\n",
       " <selenium.webdriver.remote.webelement.WebElement (session=\"3eecee8f45c19d663ee57aef4a2a645e\", element=\"c6a72102-240e-48e0-8ddc-06a647b62439\")>,\n",
       " <selenium.webdriver.remote.webelement.WebElement (session=\"3eecee8f45c19d663ee57aef4a2a645e\", element=\"886e9bc5-36e0-4cce-b0e4-bdf932f0d0a5\")>,\n",
       " <selenium.webdriver.remote.webelement.WebElement (session=\"3eecee8f45c19d663ee57aef4a2a645e\", element=\"915b680c-fa36-4141-b20f-ba98d9d5fad4\")>,\n",
       " <selenium.webdriver.remote.webelement.WebElement (session=\"3eecee8f45c19d663ee57aef4a2a645e\", element=\"f693806e-5764-4ad1-bfc2-b896cabeec07\")>,\n",
       " <selenium.webdriver.remote.webelement.WebElement (session=\"3eecee8f45c19d663ee57aef4a2a645e\", element=\"137e87ff-a900-4c19-ab5a-2ff18048db11\")>,\n",
       " <selenium.webdriver.remote.webelement.WebElement (session=\"3eecee8f45c19d663ee57aef4a2a645e\", element=\"82f95eaa-ef3e-4468-885d-f948949e1514\")>,\n",
       " <selenium.webdriver.remote.webelement.WebElement (session=\"3eecee8f45c19d663ee57aef4a2a645e\", element=\"dbfbb4a6-ef89-4315-b405-68d79de564b0\")>,\n",
       " <selenium.webdriver.remote.webelement.WebElement (session=\"3eecee8f45c19d663ee57aef4a2a645e\", element=\"67b57189-9ce7-441e-acd5-a72fd1385101\")>,\n",
       " <selenium.webdriver.remote.webelement.WebElement (session=\"3eecee8f45c19d663ee57aef4a2a645e\", element=\"8a4d3bba-342b-4950-9873-6032c32652a3\")>,\n",
       " <selenium.webdriver.remote.webelement.WebElement (session=\"3eecee8f45c19d663ee57aef4a2a645e\", element=\"a63bd16d-184d-4a3b-b572-8dfc7317f21b\")>,\n",
       " <selenium.webdriver.remote.webelement.WebElement (session=\"3eecee8f45c19d663ee57aef4a2a645e\", element=\"e273ba42-60c7-494f-bc80-ca181c90c9b9\")>,\n",
       " <selenium.webdriver.remote.webelement.WebElement (session=\"3eecee8f45c19d663ee57aef4a2a645e\", element=\"4b754bf4-7280-47c0-bad7-9fff182b6d39\")>,\n",
       " <selenium.webdriver.remote.webelement.WebElement (session=\"3eecee8f45c19d663ee57aef4a2a645e\", element=\"efbf39bd-11b9-49e8-96f4-93b7076955b6\")>,\n",
       " <selenium.webdriver.remote.webelement.WebElement (session=\"3eecee8f45c19d663ee57aef4a2a645e\", element=\"02c6051b-9af0-4488-bd99-dbf885620bba\")>,\n",
       " <selenium.webdriver.remote.webelement.WebElement (session=\"3eecee8f45c19d663ee57aef4a2a645e\", element=\"2ad73e99-70e6-4e47-ac47-7eaaaad58641\")>,\n",
       " <selenium.webdriver.remote.webelement.WebElement (session=\"3eecee8f45c19d663ee57aef4a2a645e\", element=\"5394ad06-4380-4e5a-b781-dba66ad093bd\")>,\n",
       " <selenium.webdriver.remote.webelement.WebElement (session=\"3eecee8f45c19d663ee57aef4a2a645e\", element=\"8fd03fe8-1f65-4345-8e4c-c819aba7a506\")>,\n",
       " <selenium.webdriver.remote.webelement.WebElement (session=\"3eecee8f45c19d663ee57aef4a2a645e\", element=\"86888635-4e98-42d6-ac06-6186ac18cca8\")>,\n",
       " <selenium.webdriver.remote.webelement.WebElement (session=\"3eecee8f45c19d663ee57aef4a2a645e\", element=\"a2b6239d-3ce3-4088-aee3-057877e7c547\")>,\n",
       " <selenium.webdriver.remote.webelement.WebElement (session=\"3eecee8f45c19d663ee57aef4a2a645e\", element=\"faf043ed-16a3-4b6f-ba87-fda2b6f78244\")>,\n",
       " <selenium.webdriver.remote.webelement.WebElement (session=\"3eecee8f45c19d663ee57aef4a2a645e\", element=\"45f5b734-27c1-42a6-a459-8aa3e7b42381\")>,\n",
       " <selenium.webdriver.remote.webelement.WebElement (session=\"3eecee8f45c19d663ee57aef4a2a645e\", element=\"dda0733f-e109-4286-bc30-3c8fbd82d1cb\")>,\n",
       " <selenium.webdriver.remote.webelement.WebElement (session=\"3eecee8f45c19d663ee57aef4a2a645e\", element=\"8c37d873-444a-4e87-979e-c01cf7cb56d2\")>,\n",
       " <selenium.webdriver.remote.webelement.WebElement (session=\"3eecee8f45c19d663ee57aef4a2a645e\", element=\"6ba58caf-aec5-4a5a-b8bc-010fc0aa1e6c\")>,\n",
       " <selenium.webdriver.remote.webelement.WebElement (session=\"3eecee8f45c19d663ee57aef4a2a645e\", element=\"f3889913-9a8b-4100-bf1c-dd3846bdfcb8\")>,\n",
       " <selenium.webdriver.remote.webelement.WebElement (session=\"3eecee8f45c19d663ee57aef4a2a645e\", element=\"c6f6c45b-7422-40ef-9ccd-786e563b0320\")>,\n",
       " <selenium.webdriver.remote.webelement.WebElement (session=\"3eecee8f45c19d663ee57aef4a2a645e\", element=\"c02df775-6de2-4884-add8-b1f95455ad39\")>,\n",
       " <selenium.webdriver.remote.webelement.WebElement (session=\"3eecee8f45c19d663ee57aef4a2a645e\", element=\"61859c79-3cb7-430e-bb5a-e79681ad49c8\")>,\n",
       " <selenium.webdriver.remote.webelement.WebElement (session=\"3eecee8f45c19d663ee57aef4a2a645e\", element=\"284b5232-3a82-48d7-ae9f-08018e1154b4\")>,\n",
       " <selenium.webdriver.remote.webelement.WebElement (session=\"3eecee8f45c19d663ee57aef4a2a645e\", element=\"2d4db178-0861-4223-b900-ed21b5c0667b\")>,\n",
       " <selenium.webdriver.remote.webelement.WebElement (session=\"3eecee8f45c19d663ee57aef4a2a645e\", element=\"170d21fa-f175-4b5e-967c-d0cec27814ce\")>,\n",
       " <selenium.webdriver.remote.webelement.WebElement (session=\"3eecee8f45c19d663ee57aef4a2a645e\", element=\"aca9cfe3-0dfb-4d18-8c56-4b87eda59b3d\")>,\n",
       " <selenium.webdriver.remote.webelement.WebElement (session=\"3eecee8f45c19d663ee57aef4a2a645e\", element=\"3e843a59-df60-4755-9ac2-eb47eb65d7ec\")>,\n",
       " <selenium.webdriver.remote.webelement.WebElement (session=\"3eecee8f45c19d663ee57aef4a2a645e\", element=\"26c7f22f-ef29-4ae0-ba23-46c19c2b8326\")>,\n",
       " <selenium.webdriver.remote.webelement.WebElement (session=\"3eecee8f45c19d663ee57aef4a2a645e\", element=\"7297c6c5-ff47-4ce3-8f7b-ba951da30fca\")>,\n",
       " <selenium.webdriver.remote.webelement.WebElement (session=\"3eecee8f45c19d663ee57aef4a2a645e\", element=\"1458a628-9560-44b7-9c36-f6c86909e217\")>,\n",
       " <selenium.webdriver.remote.webelement.WebElement (session=\"3eecee8f45c19d663ee57aef4a2a645e\", element=\"17b6c2e1-779b-433e-aa9f-689974fbe100\")>,\n",
       " <selenium.webdriver.remote.webelement.WebElement (session=\"3eecee8f45c19d663ee57aef4a2a645e\", element=\"d938f017-98dd-408e-8eb5-331d197c460a\")>,\n",
       " <selenium.webdriver.remote.webelement.WebElement (session=\"3eecee8f45c19d663ee57aef4a2a645e\", element=\"60c82367-64f6-49a5-9c82-3b5bce0f354d\")>,\n",
       " <selenium.webdriver.remote.webelement.WebElement (session=\"3eecee8f45c19d663ee57aef4a2a645e\", element=\"041735b6-70cb-4564-a0a7-73801d3e2fd1\")>,\n",
       " <selenium.webdriver.remote.webelement.WebElement (session=\"3eecee8f45c19d663ee57aef4a2a645e\", element=\"2a061461-b2af-4231-abea-1ad8920acc0b\")>,\n",
       " <selenium.webdriver.remote.webelement.WebElement (session=\"3eecee8f45c19d663ee57aef4a2a645e\", element=\"50ad3538-707d-4619-85d1-30ede83c4b4f\")>,\n",
       " <selenium.webdriver.remote.webelement.WebElement (session=\"3eecee8f45c19d663ee57aef4a2a645e\", element=\"6955e3fd-de91-46c5-ae90-b04c7c5ddce8\")>,\n",
       " <selenium.webdriver.remote.webelement.WebElement (session=\"3eecee8f45c19d663ee57aef4a2a645e\", element=\"286439b5-4728-4f29-83b7-997a5cc660bd\")>,\n",
       " <selenium.webdriver.remote.webelement.WebElement (session=\"3eecee8f45c19d663ee57aef4a2a645e\", element=\"d3b63a4c-8aa4-49b5-9fdf-fc0b9b8431d8\")>,\n",
       " <selenium.webdriver.remote.webelement.WebElement (session=\"3eecee8f45c19d663ee57aef4a2a645e\", element=\"7777f9d5-055f-4405-a1ec-a15061317e1c\")>,\n",
       " <selenium.webdriver.remote.webelement.WebElement (session=\"3eecee8f45c19d663ee57aef4a2a645e\", element=\"b8b5a4fb-69f0-488e-9f2c-783afcaaeacb\")>,\n",
       " <selenium.webdriver.remote.webelement.WebElement (session=\"3eecee8f45c19d663ee57aef4a2a645e\", element=\"b2c04080-1e98-474c-9db5-35477fb716d8\")>,\n",
       " <selenium.webdriver.remote.webelement.WebElement (session=\"3eecee8f45c19d663ee57aef4a2a645e\", element=\"d70932ce-e92e-4c1d-bdd2-a235f5736225\")>,\n",
       " <selenium.webdriver.remote.webelement.WebElement (session=\"3eecee8f45c19d663ee57aef4a2a645e\", element=\"d166d8ed-e346-4860-a253-4b4a23e86ebb\")>,\n",
       " <selenium.webdriver.remote.webelement.WebElement (session=\"3eecee8f45c19d663ee57aef4a2a645e\", element=\"00950d93-6786-4d34-9d2c-cd114bbc1a99\")>,\n",
       " <selenium.webdriver.remote.webelement.WebElement (session=\"3eecee8f45c19d663ee57aef4a2a645e\", element=\"c371fc7f-b7e8-49fe-9f24-afdef9264f4e\")>,\n",
       " <selenium.webdriver.remote.webelement.WebElement (session=\"3eecee8f45c19d663ee57aef4a2a645e\", element=\"ae59e051-ed9e-4505-9ed9-89c3b6a8ee18\")>,\n",
       " <selenium.webdriver.remote.webelement.WebElement (session=\"3eecee8f45c19d663ee57aef4a2a645e\", element=\"6f12c423-70a7-4149-ac20-a7e39cbb6e4a\")>]"
      ]
     },
     "execution_count": 109,
     "metadata": {},
     "output_type": "execute_result"
    }
   ],
   "source": [
    "title_tags = driver.find_elements_by_xpath('//span[@class=\"a-size-base-plus a-color-base a-text-normal\"]')\n",
    "len(title_tags)\n",
    "title_tags"
   ]
  },
  {
   "cell_type": "code",
   "execution_count": 110,
   "id": "e3764fd6",
   "metadata": {},
   "outputs": [
    {
     "data": {
      "text/plain": [
       "['Kadence Frontier guitar with Online Guitar learning course, Wine Red Acoustic Guitar with Die Cast Keys, Set of Strings, Strap, Picks and Bag (Wine Red, Acoustic)',\n",
       " 'Kadence Frontier Jumbo Semi Acoustic Guitar With Die Cast Keys Super Combo (Bag, 1 pack Strings, Strap, Picks, Capo, Tuner (natural)',\n",
       " 'Festra 38C, 38 Inch Acoustic Guitar Kit with Bag, Strap, One Pack Strings And 2 Picks (Black)',\n",
       " 'Blueberry 38C, 38\" Acoustic Guitar Kit with Bag, Strap, One Pack Strings And Picks (Black)',\n",
       " 'Juarez Acoustic Guitar, 38 Inch Curved Body Cutaway, 38CUR with Bag, Strings, Pick and Strap, Black',\n",
       " 'Juârez Acoustic Guitar, 38 Inch Cutaway, 038C with Bag, Strings, Pick and Strap, Black',\n",
       " 'Intern INT-38C Acoustic Guitar Kit (Sunburst) with Carry bag, Picks, Strings set and Guitar Strap, Small',\n",
       " 'Intern INT-38C Acoustic Guitar Kit, With Bag, Strings, Pick And Strap, Black',\n",
       " 'Kadence Frontier guitar with Online Guitar learning course, Wine Red Acoustic Guitar with Die Cast Keys, Set of Strings, Strap, Picks and Bag (Wine Red, Acoustic)',\n",
       " '',\n",
       " '',\n",
       " 'Medellin 38\" Acoustic Guitar Blue Burst Carbon Fiber body+(Free Online Learning Course) - Durable Matt finish with handrest, strings, strap, bag, 3 Picks, capo, stand.',\n",
       " 'Intern 38C Cutaway Design Black Acoustic Guitar with Picks & Carry Bag',\n",
       " 'Yamaha F280 Acoustic Guitar, Natural With Bajaao Gig Bag',\n",
       " 'Yamaha FS100C Acoustic Guitar, Black',\n",
       " 'Kadence Frontier guitar with Online Guitar learning course, Wine Red Acoustic Guitar with Die Cast Keys, Set of Strings, Strap, Picks and Bag (Wine Red, Acoustic)',\n",
       " 'Henrix 38 Acoustic Guitar (Black) with Dual-action Truss Rod - Includes Picks, Bag, Strings, Strap & Polishing Cloth',\n",
       " 'JUAREZ JRZ38C Right Handed Acoustic Guitar with Bag, Strings, Pick and Strap (Natural, 6 Strings)',\n",
       " 'Intern INT-38C Sunburst Acoustic Guitar kit with carry bag & picks',\n",
       " 'Medellin 38\" Carbon Fiber Acoustic Guitar with free specailized learning course- MDCF38BK Heavy Weighted Carbon Fiber Matt White finish Body for beginners with handrest, set of Strings, Strap, Bag, 3 Picks, Capo, Guitar Wall Hanging Stand and Free GUITAR LEARNING COURSE (Special Learning Combo with Guitar)',\n",
       " 'Photron Acoustic Guitar, 38 Inch Cutaway, PH38C/BK with Picks Only, Black (Without Bag, Strap and Extra Strings)',\n",
       " 'Kadence Guitar Frontier Series, Electric Acoustic Black Guitar With EQ, Die Cast Keys, Set of Strings, Strap, Picks and Bag (Black EQ, Electric Acoustic)',\n",
       " 'Kadence Frontier Series, Semi Acoustic Guitar With Die Cast Keys (Bag,Strap,Strings And 3 Picks) (Natural)',\n",
       " 'Yamaha FSX80C Semi Acoustic Cutaway Guitar with Bag (Black)',\n",
       " \"HOMME STORE 4 String Guitar Children's Musical Instrument Educational Toy Guitar Ukulele Instruments Beginner Musical Sound Toys Best Gift for Children\",\n",
       " 'Vault Traveller 34 Inch Acoustic Guitar With Bag, Strap, Strings, Polishing Cloth, String Winder and Picks - Natural Gloss',\n",
       " 'LAVINGSTON Givson Venus Special Guitar combo (black) Acoustic Guitar With Cover/Bag,rhythm string set, strap and 5 plectrums',\n",
       " \"MAA Enterprises 4 String Guitar Children's Musical Instrument Educational Toy Guitar Ukulele Instruments Beginner Musical Sound Toys Best Gift for Children\",\n",
       " 'Hovner 215 Black F-Cut Rosewood Fretboard Acoustic Guitar With Bag,Strap,1 Set of Extra Strings and 2 Picks By K-Retail',\n",
       " 'Intern INT-38C-BK-G Cutaway Right Handed Acoustic Guitar Kit, With Bag, Strings, Pick And Strap (Black, 6 Strings)',\n",
       " 'Henrix 38C 38 inch Cutaway Acoustic Guitar with Dual Action Truss Rod, Gigbag, Picks, String Set, Strap & Cloth',\n",
       " 'Kadence Slowhand Premium Jumbo Semi Acoustic Guitar with Heavy Padded Bag, guitar cable, Pro Capo (Black Spruce Wood)',\n",
       " 'Kadence Frontier Jumbo Semi Acoustic Guitar With Die Cast Keys,Super Combo (Bag, 1 pack Strings, Strap, Picks, Capo, Tuner)',\n",
       " 'Yamaha FS80C The Ultimate Concert Body Cutaway Acoustic Guitar (Black) With Bajaao Gig-Bag',\n",
       " 'Juarez Acoustic Guitar Kit, 38 Inch Cutaway, 38C with Bag, Strings, Pick and Strap, TBS Transparent Blue Sunburst',\n",
       " 'Kadence Guitar Acoustica Series A05, Electric Acoustic Guitar, Zebra Wood with Pickup, Inbuilt tuner and Bag (Zebra Wood, Electro Acoustic)',\n",
       " 'Juarez Acoustic Guitar Kit, 38 Inch Cutaway, 38C with Bag, Strings, Pick and Strap, 3TS Sunburst',\n",
       " 'Medellin 38\" Acoustic Guitar Black Carbon Fiber body+(Free Online Learning Course) - Durable Matt finish with handrest, strings, strap, bag, 3 Picks, capo, stand.',\n",
       " 'Kadence Guitar Acoustica Series, Electric Acoustic Guitar, Ash Wood with Pickup and Inbuilt tuner (Ash Wood, Electro Acoustic)',\n",
       " 'Yamaha FS100C Acoustic Guitar, Natural',\n",
       " 'Vault EA40-CE 41 inch Premium Spruce-Top Cutaway Electro Acoustic Guitar (Natural)',\n",
       " 'Yamaha PACIFICA012 Electric Guitar - Black',\n",
       " 'Yamaha PACIFICA012 Electric Guitar, Dark Blue Metallic',\n",
       " 'Fender CD-60S Dreadnought Acoustic Guitar (Natural)',\n",
       " 'yamaha acoustic guitar F310, 6-Strings Acoustic Guitar, Natural with Sponge Bag, Belt, Plectrums, Combo Pack',\n",
       " 'Cordoba C1 Protege Series Classical Guitar Natural with Bag',\n",
       " 'Epiphone Les Paul Studio 6 String Right Handed Electric Guitar, Inspired by Gibson Series, Alpine White',\n",
       " 'Yamaha Acoustic Guitar F280 Dreadnought With Mexa Sponge Bag Belt,Plectrums, String Set & Guitar Stand (Natural)',\n",
       " 'Vault RG1 Soloist Premium Electric Guitar - Transparent Blue',\n",
       " 'NEWEN Relic Stratocaster Style Electric Guitar Made in Argentina, White Oak, Blue',\n",
       " 'Fender CD60s Dreadnought Acoustic Guitar (Mahagony)',\n",
       " 'Yamaha FX280 Semi acoustic Dreadnought Guitar with Bag (Tobacco Sunburst)',\n",
       " 'Juarez JRZ-ST01, 6 Strings Electric Guitar, Right Handed with Bag/Case, 2 x Picks (3TS Sunburst)',\n",
       " 'Vault EA20 Guitar Kit with Learn to Play Ebook, Bag, Strings, Straps, Picks, String winder & Polishing Cloth - 40 inch Cutaway Acoustic Guitar',\n",
       " 'Kadence Frontier Jumbo Semi Acoustic Guitar With Die Cast Keys Super Combo (Bag, 1 pack Strings, Strap, Picks, Capo, Tuner (natural)',\n",
       " 'Fender SA105CEBK Acoustic Guitar',\n",
       " 'Yamaha Electric-Acoustic Guitar FX280 Dreadnought With Mexa Sponge Guitar Bag, Belt,Plectrums & String Set.(Natural)']"
      ]
     },
     "execution_count": 110,
     "metadata": {},
     "output_type": "execute_result"
    }
   ],
   "source": [
    "product_titles =[]\n",
    "\n",
    "for i in title_tags:\n",
    "    product_titles.append(i.text)\n",
    "len(product_titles)\n",
    "product_titles[0:57]"
   ]
  },
  {
   "cell_type": "code",
   "execution_count": 111,
   "id": "48d94683",
   "metadata": {},
   "outputs": [
    {
     "data": {
      "text/plain": [
       "[<selenium.webdriver.remote.webelement.WebElement (session=\"3eecee8f45c19d663ee57aef4a2a645e\", element=\"06a60009-2181-49ca-a1ca-84f091578bd4\")>,\n",
       " <selenium.webdriver.remote.webelement.WebElement (session=\"3eecee8f45c19d663ee57aef4a2a645e\", element=\"10e649ec-b12c-4d8c-b4a5-49e6c7507ff6\")>,\n",
       " <selenium.webdriver.remote.webelement.WebElement (session=\"3eecee8f45c19d663ee57aef4a2a645e\", element=\"2d13cb8e-407e-459b-b1dd-f0267642eaff\")>,\n",
       " <selenium.webdriver.remote.webelement.WebElement (session=\"3eecee8f45c19d663ee57aef4a2a645e\", element=\"d4711bda-d939-49f5-b45b-7290b73b6e3c\")>,\n",
       " <selenium.webdriver.remote.webelement.WebElement (session=\"3eecee8f45c19d663ee57aef4a2a645e\", element=\"da4934ac-e825-4c72-9065-b174b0ef007f\")>,\n",
       " <selenium.webdriver.remote.webelement.WebElement (session=\"3eecee8f45c19d663ee57aef4a2a645e\", element=\"ad804127-1203-4ddc-bd72-ecf2466b3cc8\")>,\n",
       " <selenium.webdriver.remote.webelement.WebElement (session=\"3eecee8f45c19d663ee57aef4a2a645e\", element=\"4e892c1a-6362-475d-a964-a0a74a843b5a\")>,\n",
       " <selenium.webdriver.remote.webelement.WebElement (session=\"3eecee8f45c19d663ee57aef4a2a645e\", element=\"64ec0d94-ad80-4bb6-a011-3c390592b532\")>,\n",
       " <selenium.webdriver.remote.webelement.WebElement (session=\"3eecee8f45c19d663ee57aef4a2a645e\", element=\"4948453a-27b6-48ad-985f-e8dc9923c0a7\")>,\n",
       " <selenium.webdriver.remote.webelement.WebElement (session=\"3eecee8f45c19d663ee57aef4a2a645e\", element=\"94abfd74-514b-4feb-a354-e7454e74995b\")>,\n",
       " <selenium.webdriver.remote.webelement.WebElement (session=\"3eecee8f45c19d663ee57aef4a2a645e\", element=\"1f28c83b-3c3c-4576-8398-4990c9ce82e6\")>,\n",
       " <selenium.webdriver.remote.webelement.WebElement (session=\"3eecee8f45c19d663ee57aef4a2a645e\", element=\"21d7f5b9-c5a1-42cd-9e9f-bf95ae1fd76d\")>,\n",
       " <selenium.webdriver.remote.webelement.WebElement (session=\"3eecee8f45c19d663ee57aef4a2a645e\", element=\"bfa98883-082e-4d3f-954f-f78017a45ee7\")>,\n",
       " <selenium.webdriver.remote.webelement.WebElement (session=\"3eecee8f45c19d663ee57aef4a2a645e\", element=\"8875c274-39d6-4254-9539-fe7f18c04642\")>,\n",
       " <selenium.webdriver.remote.webelement.WebElement (session=\"3eecee8f45c19d663ee57aef4a2a645e\", element=\"b4d51a66-e019-450f-a6c2-c6e188d80c1b\")>,\n",
       " <selenium.webdriver.remote.webelement.WebElement (session=\"3eecee8f45c19d663ee57aef4a2a645e\", element=\"0caf3e92-a439-4baf-b090-df727085dcfe\")>,\n",
       " <selenium.webdriver.remote.webelement.WebElement (session=\"3eecee8f45c19d663ee57aef4a2a645e\", element=\"b7bfbb67-dc63-469b-8003-78d1b535b7d8\")>,\n",
       " <selenium.webdriver.remote.webelement.WebElement (session=\"3eecee8f45c19d663ee57aef4a2a645e\", element=\"456a785e-7137-4767-bc53-9eab705a73ab\")>,\n",
       " <selenium.webdriver.remote.webelement.WebElement (session=\"3eecee8f45c19d663ee57aef4a2a645e\", element=\"5a35ed85-c079-453e-912f-6d044746b19d\")>,\n",
       " <selenium.webdriver.remote.webelement.WebElement (session=\"3eecee8f45c19d663ee57aef4a2a645e\", element=\"2f0397cb-e0f7-4e44-81f0-ccc6a9df30fb\")>,\n",
       " <selenium.webdriver.remote.webelement.WebElement (session=\"3eecee8f45c19d663ee57aef4a2a645e\", element=\"9a80831e-b489-4f95-b12c-691634423078\")>,\n",
       " <selenium.webdriver.remote.webelement.WebElement (session=\"3eecee8f45c19d663ee57aef4a2a645e\", element=\"55bda6e0-5731-4385-a1d4-bceca2882586\")>,\n",
       " <selenium.webdriver.remote.webelement.WebElement (session=\"3eecee8f45c19d663ee57aef4a2a645e\", element=\"f3aa1871-7880-422e-8f0a-e6dd5af73b1c\")>,\n",
       " <selenium.webdriver.remote.webelement.WebElement (session=\"3eecee8f45c19d663ee57aef4a2a645e\", element=\"416bb68d-3eeb-46e0-899c-64be45fd08a8\")>,\n",
       " <selenium.webdriver.remote.webelement.WebElement (session=\"3eecee8f45c19d663ee57aef4a2a645e\", element=\"ae10bbd9-8807-45b5-b4f2-d980e515b7a9\")>,\n",
       " <selenium.webdriver.remote.webelement.WebElement (session=\"3eecee8f45c19d663ee57aef4a2a645e\", element=\"1ef30fe1-ef33-41b0-943d-ef973bba4f85\")>,\n",
       " <selenium.webdriver.remote.webelement.WebElement (session=\"3eecee8f45c19d663ee57aef4a2a645e\", element=\"f9d01abd-015a-478d-97ed-1ffec40a75d9\")>,\n",
       " <selenium.webdriver.remote.webelement.WebElement (session=\"3eecee8f45c19d663ee57aef4a2a645e\", element=\"ea867728-511b-4bb9-a8a2-866f124d62ed\")>,\n",
       " <selenium.webdriver.remote.webelement.WebElement (session=\"3eecee8f45c19d663ee57aef4a2a645e\", element=\"8e7a1328-b489-4ba7-8c7c-9c7677e6c5eb\")>,\n",
       " <selenium.webdriver.remote.webelement.WebElement (session=\"3eecee8f45c19d663ee57aef4a2a645e\", element=\"dafafe12-2e0d-46be-9caa-adec12769260\")>,\n",
       " <selenium.webdriver.remote.webelement.WebElement (session=\"3eecee8f45c19d663ee57aef4a2a645e\", element=\"b467d8fa-5094-4c88-85c8-d01475308d97\")>,\n",
       " <selenium.webdriver.remote.webelement.WebElement (session=\"3eecee8f45c19d663ee57aef4a2a645e\", element=\"14cd99eb-fd2f-4370-82e1-bc962b641660\")>,\n",
       " <selenium.webdriver.remote.webelement.WebElement (session=\"3eecee8f45c19d663ee57aef4a2a645e\", element=\"c52a249a-7e6e-4ccd-a802-f5c3286bdea4\")>,\n",
       " <selenium.webdriver.remote.webelement.WebElement (session=\"3eecee8f45c19d663ee57aef4a2a645e\", element=\"be7aad3a-2843-4748-aa35-26ab8336a1a1\")>,\n",
       " <selenium.webdriver.remote.webelement.WebElement (session=\"3eecee8f45c19d663ee57aef4a2a645e\", element=\"a37f35f1-1774-4b63-bbe4-d9ada0b69272\")>,\n",
       " <selenium.webdriver.remote.webelement.WebElement (session=\"3eecee8f45c19d663ee57aef4a2a645e\", element=\"7f8dd161-5c3f-472c-8891-59d09f375dd9\")>,\n",
       " <selenium.webdriver.remote.webelement.WebElement (session=\"3eecee8f45c19d663ee57aef4a2a645e\", element=\"ebb550c7-7066-494f-b78d-ccaf5c0f5c65\")>,\n",
       " <selenium.webdriver.remote.webelement.WebElement (session=\"3eecee8f45c19d663ee57aef4a2a645e\", element=\"d11e4568-b389-44c6-a711-cefb7ae22310\")>,\n",
       " <selenium.webdriver.remote.webelement.WebElement (session=\"3eecee8f45c19d663ee57aef4a2a645e\", element=\"b0076d70-1f76-413d-b28f-3483c11aa82b\")>,\n",
       " <selenium.webdriver.remote.webelement.WebElement (session=\"3eecee8f45c19d663ee57aef4a2a645e\", element=\"ed1d2c8b-582c-442f-89cc-f7e0aec099ef\")>,\n",
       " <selenium.webdriver.remote.webelement.WebElement (session=\"3eecee8f45c19d663ee57aef4a2a645e\", element=\"de4ce38c-2604-4ae0-84b4-e2a999cc1d39\")>,\n",
       " <selenium.webdriver.remote.webelement.WebElement (session=\"3eecee8f45c19d663ee57aef4a2a645e\", element=\"c780a5ad-e68c-429b-96bd-4ed806b3c2dd\")>,\n",
       " <selenium.webdriver.remote.webelement.WebElement (session=\"3eecee8f45c19d663ee57aef4a2a645e\", element=\"d9f789d5-df4f-429f-98da-8379f7de1d36\")>,\n",
       " <selenium.webdriver.remote.webelement.WebElement (session=\"3eecee8f45c19d663ee57aef4a2a645e\", element=\"8e604c35-b7b6-4deb-a750-c3af1c9635a1\")>,\n",
       " <selenium.webdriver.remote.webelement.WebElement (session=\"3eecee8f45c19d663ee57aef4a2a645e\", element=\"0aad152f-db3c-4197-be5f-ddcb38161008\")>,\n",
       " <selenium.webdriver.remote.webelement.WebElement (session=\"3eecee8f45c19d663ee57aef4a2a645e\", element=\"91cdbb7d-b501-4db8-9ef5-85c3292e75ff\")>,\n",
       " <selenium.webdriver.remote.webelement.WebElement (session=\"3eecee8f45c19d663ee57aef4a2a645e\", element=\"6926180b-dab3-4720-b81c-67b66519f3fb\")>,\n",
       " <selenium.webdriver.remote.webelement.WebElement (session=\"3eecee8f45c19d663ee57aef4a2a645e\", element=\"9f89bfa3-cd92-425d-951c-fcc236670a0d\")>,\n",
       " <selenium.webdriver.remote.webelement.WebElement (session=\"3eecee8f45c19d663ee57aef4a2a645e\", element=\"d204fb37-5ff2-4e22-88d9-f622ab6ecf5c\")>,\n",
       " <selenium.webdriver.remote.webelement.WebElement (session=\"3eecee8f45c19d663ee57aef4a2a645e\", element=\"ddd06f83-3d76-4787-bd63-2f5227f8756f\")>,\n",
       " <selenium.webdriver.remote.webelement.WebElement (session=\"3eecee8f45c19d663ee57aef4a2a645e\", element=\"9421b945-ce13-4bd8-b30a-58e60742c12b\")>,\n",
       " <selenium.webdriver.remote.webelement.WebElement (session=\"3eecee8f45c19d663ee57aef4a2a645e\", element=\"b11e1770-1dc8-4348-8897-a837b33e08b2\")>,\n",
       " <selenium.webdriver.remote.webelement.WebElement (session=\"3eecee8f45c19d663ee57aef4a2a645e\", element=\"9a32d522-605b-4875-953f-899ac3f6fc43\")>,\n",
       " <selenium.webdriver.remote.webelement.WebElement (session=\"3eecee8f45c19d663ee57aef4a2a645e\", element=\"9033acba-95f8-43ae-ba42-dbf76d680184\")>,\n",
       " <selenium.webdriver.remote.webelement.WebElement (session=\"3eecee8f45c19d663ee57aef4a2a645e\", element=\"15bbce18-dc58-4d19-9c5e-2a940b87eb4e\")>,\n",
       " <selenium.webdriver.remote.webelement.WebElement (session=\"3eecee8f45c19d663ee57aef4a2a645e\", element=\"5f42ee30-f2c2-46ea-89a1-b6da25c2247b\")>,\n",
       " <selenium.webdriver.remote.webelement.WebElement (session=\"3eecee8f45c19d663ee57aef4a2a645e\", element=\"d3269552-d2fd-4c14-aa2d-ee297a3d0043\")>,\n",
       " <selenium.webdriver.remote.webelement.WebElement (session=\"3eecee8f45c19d663ee57aef4a2a645e\", element=\"17427c66-4e17-4b3a-89b6-e520b3b5dfed\")>,\n",
       " <selenium.webdriver.remote.webelement.WebElement (session=\"3eecee8f45c19d663ee57aef4a2a645e\", element=\"8fe0060a-1361-481b-88f1-e2f7ce13cb18\")>,\n",
       " <selenium.webdriver.remote.webelement.WebElement (session=\"3eecee8f45c19d663ee57aef4a2a645e\", element=\"9f2e60f0-da82-4491-b6f8-d1f3df9b9700\")>,\n",
       " <selenium.webdriver.remote.webelement.WebElement (session=\"3eecee8f45c19d663ee57aef4a2a645e\", element=\"ac4b3974-de7d-4dcd-a2b0-8cbd0ed08cfd\")>,\n",
       " <selenium.webdriver.remote.webelement.WebElement (session=\"3eecee8f45c19d663ee57aef4a2a645e\", element=\"bc20969d-08c0-4c56-8302-98d10378a674\")>,\n",
       " <selenium.webdriver.remote.webelement.WebElement (session=\"3eecee8f45c19d663ee57aef4a2a645e\", element=\"bc4a797b-8620-4d7a-b16d-5ffb97f048bc\")>,\n",
       " <selenium.webdriver.remote.webelement.WebElement (session=\"3eecee8f45c19d663ee57aef4a2a645e\", element=\"9d50dbd8-1c19-4e47-9b65-76e7fc86664e\")>,\n",
       " <selenium.webdriver.remote.webelement.WebElement (session=\"3eecee8f45c19d663ee57aef4a2a645e\", element=\"02158f00-4b79-4ee6-aadb-ee18ae0c15e6\")>]"
      ]
     },
     "execution_count": 111,
     "metadata": {},
     "output_type": "execute_result"
    }
   ],
   "source": [
    "price_tags = driver.find_elements_by_xpath('//span[@class=\"a-price-whole\"]')\n",
    "price_tags"
   ]
  },
  {
   "cell_type": "code",
   "execution_count": 112,
   "id": "993ebc08",
   "metadata": {},
   "outputs": [
    {
     "data": {
      "text/plain": [
       "['7,499',\n",
       " '7,499',\n",
       " '',\n",
       " '5,299',\n",
       " '7,348',\n",
       " '2,695',\n",
       " '2,695',\n",
       " '2,520',\n",
       " '2,095',\n",
       " '2,190',\n",
       " '7,499',\n",
       " '2,150',\n",
       " '5,299',\n",
       " '',\n",
       " '',\n",
       " '2,099',\n",
       " '2,090',\n",
       " '7,999',\n",
       " '9,990',\n",
       " '5,299',\n",
       " '2,699',\n",
       " '2,520',\n",
       " '2,090',\n",
       " '1,999',\n",
       " '1,888',\n",
       " '5,999',\n",
       " '5,799',\n",
       " '12,890',\n",
       " '989',\n",
       " '3,999',\n",
       " '4,199',\n",
       " '948',\n",
       " '4,280',\n",
       " '2,290',\n",
       " '2,699',\n",
       " '9,999',\n",
       " '7,349',\n",
       " '9,490',\n",
       " '2,520',\n",
       " '7,499',\n",
       " '2,520',\n",
       " '2,499',\n",
       " '7,499',\n",
       " '9,990',\n",
       " '8,999',\n",
       " '14,990',\n",
       " '13,890',\n",
       " '17,154',\n",
       " '10,850',\n",
       " '46,115',\n",
       " '8,999',\n",
       " '9,599',\n",
       " '18,999',\n",
       " '19,789',\n",
       " '5,759',\n",
       " '4,669',\n",
       " '7,348']"
      ]
     },
     "execution_count": 112,
     "metadata": {},
     "output_type": "execute_result"
    }
   ],
   "source": [
    "prices = []\n",
    "for i in price_tags:\n",
    "    prices.append(i.text)\n",
    "prices[0:57]"
   ]
  },
  {
   "cell_type": "code",
   "execution_count": 113,
   "id": "cd6982b3",
   "metadata": {},
   "outputs": [
    {
     "data": {
      "text/plain": [
       "[<selenium.webdriver.remote.webelement.WebElement (session=\"3eecee8f45c19d663ee57aef4a2a645e\", element=\"47bee314-0cd8-48d3-b44e-1f4252388933\")>,\n",
       " <selenium.webdriver.remote.webelement.WebElement (session=\"3eecee8f45c19d663ee57aef4a2a645e\", element=\"6b1a8460-3d40-4274-b4df-cf784f9fc0f1\")>,\n",
       " <selenium.webdriver.remote.webelement.WebElement (session=\"3eecee8f45c19d663ee57aef4a2a645e\", element=\"1e54eef8-a1d2-4ec8-ba47-92c3568a3d4e\")>,\n",
       " <selenium.webdriver.remote.webelement.WebElement (session=\"3eecee8f45c19d663ee57aef4a2a645e\", element=\"7d47a1da-7270-405d-8d93-9c70dd45521a\")>,\n",
       " <selenium.webdriver.remote.webelement.WebElement (session=\"3eecee8f45c19d663ee57aef4a2a645e\", element=\"cb7acd47-2ded-4084-9a8c-6da161c8b507\")>,\n",
       " <selenium.webdriver.remote.webelement.WebElement (session=\"3eecee8f45c19d663ee57aef4a2a645e\", element=\"2e71d1eb-27c1-43b6-9bb9-b913a1b8a6ce\")>,\n",
       " <selenium.webdriver.remote.webelement.WebElement (session=\"3eecee8f45c19d663ee57aef4a2a645e\", element=\"1c4a1abe-58ef-4c3a-ad60-cda20a181a3d\")>,\n",
       " <selenium.webdriver.remote.webelement.WebElement (session=\"3eecee8f45c19d663ee57aef4a2a645e\", element=\"e866e792-1061-4cad-b89e-e027b26e5f98\")>,\n",
       " <selenium.webdriver.remote.webelement.WebElement (session=\"3eecee8f45c19d663ee57aef4a2a645e\", element=\"8aa916d4-d280-4432-bb42-d2b7ca00ac2b\")>,\n",
       " <selenium.webdriver.remote.webelement.WebElement (session=\"3eecee8f45c19d663ee57aef4a2a645e\", element=\"dc90f76a-2749-43eb-98da-af2d04b619e7\")>,\n",
       " <selenium.webdriver.remote.webelement.WebElement (session=\"3eecee8f45c19d663ee57aef4a2a645e\", element=\"baafb3ee-7db5-43dc-b04f-556a13bcb5b5\")>,\n",
       " <selenium.webdriver.remote.webelement.WebElement (session=\"3eecee8f45c19d663ee57aef4a2a645e\", element=\"96285b39-0cba-42ce-a1e1-2ba76872c537\")>,\n",
       " <selenium.webdriver.remote.webelement.WebElement (session=\"3eecee8f45c19d663ee57aef4a2a645e\", element=\"d4fedea9-ce54-46b0-940f-b8f787baea99\")>,\n",
       " <selenium.webdriver.remote.webelement.WebElement (session=\"3eecee8f45c19d663ee57aef4a2a645e\", element=\"648f551d-d01e-4092-9868-f69a80ad0755\")>,\n",
       " <selenium.webdriver.remote.webelement.WebElement (session=\"3eecee8f45c19d663ee57aef4a2a645e\", element=\"c9da57b0-8d4f-484b-8660-ff8d2d7606ac\")>,\n",
       " <selenium.webdriver.remote.webelement.WebElement (session=\"3eecee8f45c19d663ee57aef4a2a645e\", element=\"cfa255a5-9db9-4bdb-bf93-072813b81bc5\")>,\n",
       " <selenium.webdriver.remote.webelement.WebElement (session=\"3eecee8f45c19d663ee57aef4a2a645e\", element=\"6ea03c52-1b75-4243-be8b-860c6121a15b\")>,\n",
       " <selenium.webdriver.remote.webelement.WebElement (session=\"3eecee8f45c19d663ee57aef4a2a645e\", element=\"4838992b-01f2-45ce-be7a-470c3e33c965\")>,\n",
       " <selenium.webdriver.remote.webelement.WebElement (session=\"3eecee8f45c19d663ee57aef4a2a645e\", element=\"2d799c22-c844-46cf-8409-20ec221126e7\")>,\n",
       " <selenium.webdriver.remote.webelement.WebElement (session=\"3eecee8f45c19d663ee57aef4a2a645e\", element=\"1003729d-bbe7-4ca2-9a2e-2f64f7d7b400\")>,\n",
       " <selenium.webdriver.remote.webelement.WebElement (session=\"3eecee8f45c19d663ee57aef4a2a645e\", element=\"69e9a217-3918-4e0b-8245-e3f6abfb774e\")>,\n",
       " <selenium.webdriver.remote.webelement.WebElement (session=\"3eecee8f45c19d663ee57aef4a2a645e\", element=\"e8bf0a1d-4a6d-4858-9831-74d04d61ec05\")>,\n",
       " <selenium.webdriver.remote.webelement.WebElement (session=\"3eecee8f45c19d663ee57aef4a2a645e\", element=\"ade83198-14f0-458d-913b-0478722f4680\")>,\n",
       " <selenium.webdriver.remote.webelement.WebElement (session=\"3eecee8f45c19d663ee57aef4a2a645e\", element=\"d58234ec-4d00-4688-9492-5f1f9d7e5779\")>,\n",
       " <selenium.webdriver.remote.webelement.WebElement (session=\"3eecee8f45c19d663ee57aef4a2a645e\", element=\"1d4a5821-f1f0-4353-a4cf-83c7691c9995\")>,\n",
       " <selenium.webdriver.remote.webelement.WebElement (session=\"3eecee8f45c19d663ee57aef4a2a645e\", element=\"769c4068-2ae1-4f5b-9b87-1a2aef38cc6d\")>,\n",
       " <selenium.webdriver.remote.webelement.WebElement (session=\"3eecee8f45c19d663ee57aef4a2a645e\", element=\"881ef4a4-10da-4dce-8821-577adab05325\")>,\n",
       " <selenium.webdriver.remote.webelement.WebElement (session=\"3eecee8f45c19d663ee57aef4a2a645e\", element=\"4f46f8d2-ada5-4fad-8f07-6e5799e7ba85\")>,\n",
       " <selenium.webdriver.remote.webelement.WebElement (session=\"3eecee8f45c19d663ee57aef4a2a645e\", element=\"a797a8e8-9f9a-40d7-b501-387a1dbf4ccc\")>,\n",
       " <selenium.webdriver.remote.webelement.WebElement (session=\"3eecee8f45c19d663ee57aef4a2a645e\", element=\"1a39a196-8c28-4078-9d50-4920b1129e94\")>,\n",
       " <selenium.webdriver.remote.webelement.WebElement (session=\"3eecee8f45c19d663ee57aef4a2a645e\", element=\"617f1749-fd87-4d91-8d30-f51ce0ff33bf\")>,\n",
       " <selenium.webdriver.remote.webelement.WebElement (session=\"3eecee8f45c19d663ee57aef4a2a645e\", element=\"6cd5dacc-de3b-4e39-8d36-eba36ace6715\")>,\n",
       " <selenium.webdriver.remote.webelement.WebElement (session=\"3eecee8f45c19d663ee57aef4a2a645e\", element=\"14ad6e7c-cef7-4c6c-bf63-4eb6f5231d86\")>,\n",
       " <selenium.webdriver.remote.webelement.WebElement (session=\"3eecee8f45c19d663ee57aef4a2a645e\", element=\"332c9a37-890d-4da3-bda8-8f6d6449afb1\")>,\n",
       " <selenium.webdriver.remote.webelement.WebElement (session=\"3eecee8f45c19d663ee57aef4a2a645e\", element=\"a1c8d97f-c686-4744-9309-7d614db1ca68\")>,\n",
       " <selenium.webdriver.remote.webelement.WebElement (session=\"3eecee8f45c19d663ee57aef4a2a645e\", element=\"4073dd14-4bcb-463b-9e9f-90f096ee3848\")>,\n",
       " <selenium.webdriver.remote.webelement.WebElement (session=\"3eecee8f45c19d663ee57aef4a2a645e\", element=\"8aae1de1-7281-4777-bb4b-65b747b6686c\")>,\n",
       " <selenium.webdriver.remote.webelement.WebElement (session=\"3eecee8f45c19d663ee57aef4a2a645e\", element=\"1cb0a3b3-aac3-47dc-80dd-841f8ecb70ac\")>,\n",
       " <selenium.webdriver.remote.webelement.WebElement (session=\"3eecee8f45c19d663ee57aef4a2a645e\", element=\"c71bc447-cc5f-461e-aae5-662d930d1690\")>,\n",
       " <selenium.webdriver.remote.webelement.WebElement (session=\"3eecee8f45c19d663ee57aef4a2a645e\", element=\"c198f4a9-82cc-48d9-aaae-4cd84b2a71c4\")>,\n",
       " <selenium.webdriver.remote.webelement.WebElement (session=\"3eecee8f45c19d663ee57aef4a2a645e\", element=\"4e1227a3-c0b7-446a-a950-db89055f63a9\")>,\n",
       " <selenium.webdriver.remote.webelement.WebElement (session=\"3eecee8f45c19d663ee57aef4a2a645e\", element=\"f711fcf1-574b-47bc-a214-d0fb62dd981a\")>,\n",
       " <selenium.webdriver.remote.webelement.WebElement (session=\"3eecee8f45c19d663ee57aef4a2a645e\", element=\"7809d178-dbc8-4dbf-9a76-787998a0efba\")>,\n",
       " <selenium.webdriver.remote.webelement.WebElement (session=\"3eecee8f45c19d663ee57aef4a2a645e\", element=\"9b31dab8-ea6d-45f9-979e-3583da1ab0d0\")>,\n",
       " <selenium.webdriver.remote.webelement.WebElement (session=\"3eecee8f45c19d663ee57aef4a2a645e\", element=\"8960fc03-e8b3-4bdd-860a-4c612b216d1f\")>,\n",
       " <selenium.webdriver.remote.webelement.WebElement (session=\"3eecee8f45c19d663ee57aef4a2a645e\", element=\"7ea536d3-2e1c-41dd-80b7-433a687cc8bc\")>,\n",
       " <selenium.webdriver.remote.webelement.WebElement (session=\"3eecee8f45c19d663ee57aef4a2a645e\", element=\"1e33e2dd-5372-4d94-b8b3-1316b288fe3c\")>,\n",
       " <selenium.webdriver.remote.webelement.WebElement (session=\"3eecee8f45c19d663ee57aef4a2a645e\", element=\"48a334ea-8dc2-47d0-ad16-5e17609c43ad\")>,\n",
       " <selenium.webdriver.remote.webelement.WebElement (session=\"3eecee8f45c19d663ee57aef4a2a645e\", element=\"78551f14-f96a-4e6a-adcd-b6374b822aeb\")>,\n",
       " <selenium.webdriver.remote.webelement.WebElement (session=\"3eecee8f45c19d663ee57aef4a2a645e\", element=\"f76e1bbc-b739-4226-8ff3-4ca1243afd36\")>,\n",
       " <selenium.webdriver.remote.webelement.WebElement (session=\"3eecee8f45c19d663ee57aef4a2a645e\", element=\"783e35f5-ce65-4c2f-8e34-c59805fb8bc8\")>,\n",
       " <selenium.webdriver.remote.webelement.WebElement (session=\"3eecee8f45c19d663ee57aef4a2a645e\", element=\"3bc73483-7f8e-425d-bf43-ffad28648bbe\")>,\n",
       " <selenium.webdriver.remote.webelement.WebElement (session=\"3eecee8f45c19d663ee57aef4a2a645e\", element=\"e8dd4b10-5a76-4993-9699-08be61d7fdfd\")>,\n",
       " <selenium.webdriver.remote.webelement.WebElement (session=\"3eecee8f45c19d663ee57aef4a2a645e\", element=\"0cda34b1-912e-478b-94d4-ecbc9083b365\")>,\n",
       " <selenium.webdriver.remote.webelement.WebElement (session=\"3eecee8f45c19d663ee57aef4a2a645e\", element=\"5758e743-208a-433f-ad85-5df370d7f8d4\")>,\n",
       " <selenium.webdriver.remote.webelement.WebElement (session=\"3eecee8f45c19d663ee57aef4a2a645e\", element=\"2b6b6d18-a006-4534-b25a-7777931d0fac\")>,\n",
       " <selenium.webdriver.remote.webelement.WebElement (session=\"3eecee8f45c19d663ee57aef4a2a645e\", element=\"2a775c55-724d-43c6-8ad6-d27d444a2897\")>,\n",
       " <selenium.webdriver.remote.webelement.WebElement (session=\"3eecee8f45c19d663ee57aef4a2a645e\", element=\"150fb681-d09f-41e7-99a9-deb898710dc9\")>,\n",
       " <selenium.webdriver.remote.webelement.WebElement (session=\"3eecee8f45c19d663ee57aef4a2a645e\", element=\"9342f885-adfe-4638-9604-2f897f2f1afa\")>]"
      ]
     },
     "execution_count": 113,
     "metadata": {},
     "output_type": "execute_result"
    }
   ],
   "source": [
    "delivery_tags = driver.find_elements_by_xpath('//span[@class=\"a-color-base a-text-bold\"]')\n",
    "len(delivery_tags)\n",
    "delivery_tags"
   ]
  },
  {
   "cell_type": "code",
   "execution_count": 114,
   "id": "b8c3abbc",
   "metadata": {},
   "outputs": [
    {
     "data": {
      "text/plain": [
       "['Sunday, April 3',\n",
       " 'Tomorrow, April 1',\n",
       " 'Wednesday, April 6',\n",
       " 'Wednesday, April 6',\n",
       " 'Tomorrow, April 1',\n",
       " 'Monday, April 4',\n",
       " 'Tomorrow, April 1',\n",
       " 'Sunday, April 3',\n",
       " 'Saturday, April 2',\n",
       " 'Saturday, April 2',\n",
       " 'Sunday, April 3',\n",
       " 'Saturday, April 2',\n",
       " 'Sunday, April 3',\n",
       " 'Monday, April 4',\n",
       " 'Monday, April 4',\n",
       " 'Saturday, April 2',\n",
       " 'Sunday, April 3',\n",
       " 'Monday, April 4',\n",
       " 'Sunday, April 3',\n",
       " 'Sunday, April 3',\n",
       " 'Wednesday, April 6',\n",
       " 'Wednesday, April 6',\n",
       " 'Tuesday, April 12',\n",
       " 'Monday, April 4',\n",
       " 'Wednesday, April 6',\n",
       " 'Tuesday, April 5',\n",
       " 'Wednesday, April 6',\n",
       " 'Tomorrow, April 1',\n",
       " 'Monday, April 4',\n",
       " 'Tomorrow, April 1',\n",
       " 'Sunday, April 3',\n",
       " 'Wednesday, April 6',\n",
       " 'Monday, April 4',\n",
       " 'Tomorrow, April 1',\n",
       " 'Monday, April 4',\n",
       " 'Tomorrow, April 1',\n",
       " 'Sunday, April 3',\n",
       " 'Tomorrow, April 1',\n",
       " 'Monday, April 4',\n",
       " 'Tomorrow, April 1',\n",
       " 'Monday, April 4',\n",
       " 'Tuesday, April 5',\n",
       " 'Tomorrow, April 1',\n",
       " 'Sunday, April 3',\n",
       " 'Monday, April 4',\n",
       " 'Wednesday, April 6',\n",
       " 'Sunday, April 3',\n",
       " 'Saturday, April 2',\n",
       " 'Monday, April 4',\n",
       " 'Tomorrow, April 1',\n",
       " 'Wednesday, April 6',\n",
       " 'Friday, April 8',\n",
       " 'Tomorrow, April 1',\n",
       " 'Wednesday, April 6',\n",
       " 'Wednesday, April 6',\n",
       " 'Tuesday, April 12',\n",
       " 'Tuesday, April 5']"
      ]
     },
     "execution_count": 114,
     "metadata": {},
     "output_type": "execute_result"
    }
   ],
   "source": [
    "exc_delivery = []\n",
    "for i in delivery_tags:\n",
    "    exc_delivery.append(i.text)\n",
    "exc_delivery[0:57]"
   ]
  },
  {
   "cell_type": "code",
   "execution_count": 115,
   "id": "b530bd32",
   "metadata": {},
   "outputs": [
    {
     "data": {
      "text/plain": [
       "(64, 65, 59)"
      ]
     },
     "execution_count": 115,
     "metadata": {},
     "output_type": "execute_result"
    }
   ],
   "source": [
    "len(product_titles),len(prices),len(exc_delivery)"
   ]
  },
  {
   "cell_type": "code",
   "execution_count": 116,
   "id": "78767531",
   "metadata": {},
   "outputs": [
    {
     "name": "stdout",
     "output_type": "stream",
     "text": [
      "Empty DataFrame\n",
      "Columns: []\n",
      "Index: []\n"
     ]
    }
   ],
   "source": [
    "import pandas as pd\n",
    " \n",
    "df = pd.DataFrame()\n",
    " \n",
    "print(df)"
   ]
  },
  {
   "cell_type": "code",
   "execution_count": 117,
   "id": "283dd330",
   "metadata": {},
   "outputs": [
    {
     "name": "stdout",
     "output_type": "stream",
     "text": [
      "                                                 Name   price  \\\n",
      "0   Vault EA40 41 inch Premium Spruce-Top Cutaway ...   6,890   \n",
      "1   Vault ST1 Strat Style 6 String Electric Guitar...   7,599   \n",
      "2   Gibz's G-38 Glossy Acoustic Guitar With Truss ...   3,498   \n",
      "3   Festra 38C, 38 Inch Acoustic Guitar Kit with B...   2,695   \n",
      "4   Yamaha FS100C, 6-Strings Acoustic Guitar With ...  11,593   \n",
      "5   Kadence, Chronicle Series Electric Bass Guitar...  12,999   \n",
      "6    Yamaha PACIFICA012 Electric Guitar, Red Metallic  14,949   \n",
      "7   Kadence 39” Classical Guitar Nylon Strings Aco...   5,999   \n",
      "8   Kadence Guitar 36” Acoustica Series, Electric ...   7,348   \n",
      "9   Fender Model FA-15 Red 3/4 Size Steel Stringed...  14,995   \n",
      "10  YAMAHA WINNING STROKE F280 Acoustic Guitar wit...   8,590   \n",
      "11  PRS, Acoustic Electric Guitar, SE P20E Parlor ...  48,478   \n",
      "12  Jackson JS Series Dinky JS11 2910121503 Right ...   2,649   \n",
      "13  Juârez Acoustic Guitar, 38 Inch Cutaway, JRZ38...  26,364   \n",
      "14  FENDER CD60SCE-BLK Dreadnought Solid Spruce To...  12,999   \n",
      "15  Kadence, Chronicle Series Electric Bass Guitar...   4,974   \n",
      "16  ARCTIC Sky series 39\" Guitar (with Truss Rod) ...   1,999   \n",
      "17  Medellin 38\" Carbon Fiber Acoustic Guitar with...  13,390   \n",
      "18  Yamaha Electric-Acoustic Guitar FSX80C Dreadno...  18,999   \n",
      "19    Cort KX100 Electric Guitar Black Metallic Color     998   \n",
      "20  VAIDIKA 4 String Decor Guitar Children's Music...     599   \n",
      "21  LME Laxmi Musical Electronics - Acoustic Picku...     975   \n",
      "22  Mustang 46 PCS Guitar Strings Changing Kit Gui...     999   \n",
      "23  Pack of 2 Universal Guitar Stand by Hola! Musi...  17,813   \n",
      "24  Ibanez GSR180 - BS, 4 Strings Electric Bass Gu...  13,499   \n",
      "25  Epiphone Pro - 1 Acoustic Guitar, Vintage Sunb...   6,999   \n",
      "26  Kadence AstroMan Electric Guitar, 21 FRETS, RO...  14,490   \n",
      "27  Yamaha JR2 Acoustic Guitar 3/4 Size (Travel Gu...  29,782   \n",
      "28  Fender CD-60SCE Dreadnought All Mahogany Elect...  19,654   \n",
      "29               Ibanez GSA60 Electric Guitar - Black  20,000   \n",
      "30  Fender FA125CE Electric Acoustic Guitar With S...   8,799   \n",
      "31  Ibanez Acoustic Guitar MD39C Right Handed Cuta...   6,999   \n",
      "32  Pluto HW41C-201 41-inch Cutaway Acoustic Guita...  19,999   \n",
      "33     Vault HL1 Headless Electric Guitar with GigBag  12,943   \n",
      "34    Yamaha F310, 6-Strings Acoustic Guitar, Natural   6,823   \n",
      "35  Fender Squier 0370005506 Bullet Fat Stratocast...  63,734   \n",
      "36  Kadence Acoustica 40\" Mahogany Left-Handed Aco...   4,169   \n",
      "37  PRS Guitars Electric Guitar, SE Standard 24, 2...  10,999   \n",
      "38  Givsun Diamond Special Blue 6-String Cut A Way...  24,104   \n",
      "39  Cordoba C1 Protege Series Classical Guitar Nat...  15,343   \n",
      "40  RockJam RJEG02-SK-BK Electric Guitar Starter K...   3,161   \n",
      "41  Epiphone ENPTVSNH1 Solid Body Electric Guitars...  26,163   \n",
      "42  Cort SFX-MEM Electro Acoustic Guitar - Open Po...  20,999   \n",
      "43  Juarez Acoustic Guitar, 38 Inch Cutaway with P...  47,224   \n",
      "44  Ibanez RG Gio Series GRGR221PA Electric Guitar...   9,999   \n",
      "45  Fender FA135CE Electric Acoustic Guitar Concer...  51,949   \n",
      "46  Epiphone Les Paul Classic Worn 6 String Right ...  12,999   \n",
      "47  Ibanez GA5TCE - AM, 6 -Strings Acoustic Guitar...   8,571   \n",
      "48  Kadence Slowhand Series Premium Acoustic Guita...  25,990   \n",
      "49  Epiphone Les Paul Muse 6 String Right Handed E...   6,935   \n",
      "50         Givson Monalisa-B Electric Hawaiian Guitar   5,437   \n",
      "51  Ibanez MD39C Cutaway Acoustic Guitar - Sunburs...   9,290   \n",
      "52  Epiphone Les Paul Electric Guitar Player Pack ...     899   \n",
      "53  Granada, Acoustic Guitar, Dreadnought PRLD-14C...     499   \n",
      "54  Granada, Acoustic Guitar, Cutaway, Medium PRS-...     520   \n",
      "55  Standzo Yamaha FS80C The Ultimate Concert-body...     589   \n",
      "56  Mustang Guitar Accessories Kit - Stand, Clip-o...    269.   \n",
      "\n",
      "                deliver  \n",
      "0      Monday, March 28  \n",
      "1      Monday, March 28  \n",
      "2     Tuesday, March 29  \n",
      "3   Wednesday, March 30  \n",
      "4      Sunday, March 27  \n",
      "5      Monday, March 28  \n",
      "6    Saturday, March 26  \n",
      "7    Saturday, March 26  \n",
      "8    Saturday, March 26  \n",
      "9   Wednesday, March 30  \n",
      "10    Tuesday, March 29  \n",
      "11   Tomorrow, March 25  \n",
      "12   Tomorrow, March 25  \n",
      "13     Sunday, March 27  \n",
      "14   Tomorrow, March 25  \n",
      "15   Saturday, March 26  \n",
      "16     Sunday, March 27  \n",
      "17     Sunday, March 27  \n",
      "18    Tuesday, March 29  \n",
      "19   Saturday, March 26  \n",
      "20  Wednesday, March 30  \n",
      "21  Wednesday, March 30  \n",
      "22     Sunday, March 27  \n",
      "23     Sunday, March 27  \n",
      "24   Saturday, March 26  \n",
      "25  Wednesday, March 30  \n",
      "26     Monday, March 28  \n",
      "27   Saturday, March 26  \n",
      "28  Wednesday, March 30  \n",
      "29  Wednesday, March 30  \n",
      "30   Tomorrow, March 25  \n",
      "31     Monday, March 28  \n",
      "32  Wednesday, March 30  \n",
      "33   Saturday, March 26  \n",
      "34   Tomorrow, March 25  \n",
      "35    Tuesday, March 29  \n",
      "36  Wednesday, March 30  \n",
      "37    Saturday, April 2  \n",
      "38   Saturday, March 26  \n",
      "39     Sunday, March 27  \n",
      "40    Saturday, April 2  \n",
      "41     Monday, March 28  \n",
      "42  Wednesday, March 30  \n",
      "43   Tomorrow, March 25  \n",
      "44   Saturday, March 26  \n",
      "45   Saturday, March 26  \n",
      "46  Wednesday, March 30  \n",
      "47      Friday, April 1  \n",
      "48   Tomorrow, March 25  \n",
      "49     Sunday, March 27  \n",
      "50   Tomorrow, March 25  \n",
      "51   Tomorrow, March 25  \n",
      "52  Wednesday, March 30  \n",
      "53  Wednesday, March 30  \n",
      "54    Tuesday, March 29  \n",
      "55   Thursday, March 31  \n",
      "56    Tuesday, March 29  \n"
     ]
    }
   ],
   "source": [
    "data = {'Name':['Vault EA40 41 inch Premium Spruce-Top Cutaway Acoustic Guitar',\n",
    " 'Vault ST1 Strat Style 6 String Electric Guitar- Black',\n",
    " \"Gibz's G-38 Glossy Acoustic Guitar With Truss Rod Natural\",\n",
    " 'Festra 38C, 38 Inch Acoustic Guitar Kit with Bag, Strap, One Pack Strings And 2 Picks (Black) (Acoustic 38C (38 Inch) Guitar Kit, Sunburst)',\n",
    " 'Yamaha FS100C, 6-Strings Acoustic Guitar With Sponge Bag, Belt & Plectrums Combo Pack (Natural) By Mexa',\n",
    " 'Kadence, Chronicle Series Electric Bass Guitar, Natural Ash Wood with P-J Pickup, 2 Tone and 2 Volume Control',\n",
    " 'Yamaha PACIFICA012 Electric Guitar, Red Metallic',\n",
    " 'Kadence 39” Classical Guitar Nylon Strings Acoustic Guitar with Truss Rod for Beginner Professional With Bag (30\" 1/4 Acoustic GL03)',\n",
    " 'Kadence Guitar 36” Acoustica Series, Electric Acoustic Guitar, Ash Wood with Pickup and Inbuilt tuner Travel GUitar Small Size for Kids and Adult (A06 36\")',\n",
    " 'Fender Model FA-15 Red 3/4 Size Steel Stringed Acoustic Guitar with Gig Bag-971170170',\n",
    " 'YAMAHA WINNING STROKE F280 Acoustic Guitar with Bag Combo (Natural)',\n",
    " 'PRS, Acoustic Electric Guitar, SE P20E Parlor w/Fishman Pickup -Vintage Mahogany (106997:VM)',\n",
    " 'Jackson JS Series Dinky JS11 2910121503 Right Handed Electric Guitar (Black, 6-Strings)',\n",
    " 'Juârez Acoustic Guitar, 38 Inch Cutaway, JRZ38C with Bag, Strings, Pick and Strap, Red',\n",
    " 'FENDER CD60SCE-BLK Dreadnought Solid Spruce Top Semi-Acoustic Guitar - Black',\n",
    " 'Kadence, Chronicle Series Electric Bass Guitar, Black Ash Wood with P-J Pickup, 2 Tone and 2 Volume Control',\n",
    " 'ARCTIC Sky series 39\" Guitar (with Truss Rod) with Bag, 3 Picks, Strap & String Set. Standard Pack Red',\n",
    " 'Medellin 38\" Carbon Fiber Acoustic Guitar with free specailized learning course- MDCF38BK Durable Carbon Fiber Matt Sunburst finish Body for beginners with handrest, set of Strings, Strap, Bag, 3 Picks, Capo, Guitar Wall Hanging Stand and Free GUITAR LEARNING COURSE (Special Learning Combo with Guitar)',\n",
    " 'Yamaha Electric-Acoustic Guitar FSX80C Dreadnought With With Mexa Sponge Bag, Guitar Belt, Guitar Stand, String Set & Plectrums.(NT)',\n",
    " 'Cort KX100 Electric Guitar Black Metallic Color',\n",
    " \"VAIDIKA 4 String Decor Guitar Children's Musical Instrument Educational Toy Small Guitar for Beginners Kids Child - 23 Inch\",\n",
    " 'LME Laxmi Musical Electronics - Acoustic Pickup for Violin, Veena, Guitar, Mandolin, Banjo and All Acoustic String Instruments',\n",
    " 'Mustang 46 PCS Guitar Strings Changing Kit Guitar Tool Kit Including Guitar Strings Guitar Tuner Picks Capo Pins Guitar String Cutter and Winder for Beginner',\n",
    " 'Pack of 2 Universal Guitar Stand by Hola! Music Fits Acoustic Classical Electric Bass Guitars Mandolins Banjos Ukuleles and Other Stringed Instruments',\n",
    " 'Ibanez GSR180 - BS, 4 Strings Electric Bass Guitars, Right Handed, Brown Sunburst, without case',\n",
    " 'Epiphone Pro - 1 Acoustic Guitar, Vintage Sunbusrt',\n",
    " 'Kadence AstroMan Electric Guitar, 21 FRETS, ROSEWOOD FRETBOARD, H - S - S PICK UPS Black combo with Bag, Guitar strap,guitar cable and Picks',\n",
    " 'Yamaha JR2 Acoustic Guitar 3/4 Size (Travel Guitar) With Guitar Bag, Belt,Plectrums & String Set.',\n",
    " 'Fender CD-60SCE Dreadnought All Mahogany Electro-Acoustic Guitar',\n",
    " 'Ibanez GSA60 Electric Guitar - Black',\n",
    " 'Fender FA125CE Electric Acoustic Guitar With Sponge Bag, Belt, String Set, & Plectrums Combo Pack (Natural)',\n",
    " 'Ibanez Acoustic Guitar MD39C Right Handed Cutaway Guitar - Sunburst With Bag, Belt, Plectrums Complete Pack.',\n",
    " 'Pluto HW41C-201 41-inch Cutaway Acoustic Guitar (Natural)',\n",
    " 'Vault HL1 Headless Electric Guitar with GigBag',\n",
    " 'Yamaha F310, 6-Strings Acoustic Guitar, Natural',\n",
    " 'Fender Squier 0370005506 Bullet Fat Stratocaster 6-Strings Electric Guitar, Right-Handed, Black, Rosewood Fretboard',\n",
    " 'Kadence Acoustica 40\" Mahogany Left-Handed Acoustic Guitar A03 L with bag',\n",
    " 'PRS Guitars Electric Guitar, SE Standard 24, 2021 Series -Vintage Cherry ST4VC',\n",
    " 'Givsun Diamond Special Blue 6-String Cut A Way Right Hand Acoustic Semi-Electric Guitar With Bag And Free 1 Set String,2 Picks',\n",
    " 'Cordoba C1 Protege Series Classical Guitar Natural with Bag',\n",
    " 'RockJam RJEG02-SK-BK Electric Guitar Starter Kit (Black)',\n",
    " 'Epiphone ENPTVSNH1 Solid Body Electric Guitars Les Paul Studio LT, Vintage Sunburst',\n",
    " 'Cort SFX-MEM Electro Acoustic Guitar - Open Pore, Mahogany, SFXMEMOP (SFXMEMOP)',\n",
    " 'Juarez Acoustic Guitar, 38 Inch Cutaway with Pick Guard, 38C/RDS with Bag, Strings, Pick and Strap, Red Sunburst',\n",
    " 'Ibanez RG Gio Series GRGR221PA Electric Guitar- Aqua Burst',\n",
    " 'Fender FA135CE Electric Acoustic Guitar Concert Body V2 (Inbuilt Fishman Pickup) With Sponge Bag, Belt, String Set, & Plectrums Combo Pack .(NT)',\n",
    " 'Epiphone Les Paul Classic Worn 6 String Right Handed Electric Guitar, Worn Ebony (ELCSWSNH)',\n",
    " 'Ibanez GA5TCE - AM, 6 -Strings Acoustic Guitar, Right-Handed, Amber High Gloss, Rosewood Fretboard',\n",
    " 'Kadence Slowhand Series Premium Acoustic Guitar, 38\" Travel Guitar (Mahogany Wood SHM03)',\n",
    " 'Epiphone Les Paul Muse 6 String Right Handed Electric Guitar, Radio Blue Metallic',\n",
    " 'Givson Monalisa-B Electric Hawaiian Guitar',\n",
    " 'Ibanez MD39C Cutaway Acoustic Guitar - Sunburst, MD-39CDB (IBA-MD39CSB)',\n",
    " 'Epiphone Les Paul Electric Guitar Player Pack (Vintage Sunburst)',\n",
    " 'Granada, Acoustic Guitar, Dreadnought PRLD-14C-F -Natural',\n",
    " 'Granada, Acoustic Guitar, Cutaway, Medium PRS-1-FC -Vintage Sunburst',\n",
    " 'Standzo Yamaha FS80C The Ultimate Concert-body Cutway Acoustic Guitar with Padded Bag, Picks, Belt, Strings and Learning Book Combo Pack',\n",
    " 'Mustang Guitar Accessories Kit - Stand, Clip-on Tuner, Strap, Capo, 4 Assorted Picks, Holder - For Acoustic and Electric Instruments - Great Gift For Beginners and Advanced Players'],\n",
    "'price':['6,890',\n",
    " '7,599',\n",
    " '3,498',\n",
    " '2,695',\n",
    " '11,593',\n",
    " '12,999',\n",
    " '14,949',\n",
    " '5,999',\n",
    " '7,348',\n",
    " '14,995',\n",
    " '8,590',\n",
    " '48,478',\n",
    " '2,649',\n",
    " '26,364',\n",
    " '12,999',\n",
    " '4,974',\n",
    " '1,999',\n",
    " '13,390',\n",
    " '18,999',\n",
    " '998',\n",
    " '599',\n",
    " '975',\n",
    " '999',\n",
    " '17,813',\n",
    " '13,499',\n",
    " '6,999',\n",
    " '14,490',\n",
    " '29,782',\n",
    " '19,654',\n",
    " '20,000',\n",
    " '8,799',\n",
    " '6,999',\n",
    " '19,999',\n",
    " '12,943',\n",
    " '6,823',\n",
    " '63,734',\n",
    " '4,169',\n",
    " '10,999',\n",
    " '24,104',\n",
    " '15,343',\n",
    " '3,161',\n",
    " '26,163',\n",
    " '20,999',\n",
    " '47,224',\n",
    " '9,999',\n",
    " '51,949',\n",
    " '12,999',\n",
    " '8,571',\n",
    " '25,990',\n",
    " '6,935',\n",
    " '5,437',\n",
    " '9,290',\n",
    " '899',\n",
    " '499',\n",
    " '520',\n",
    " '589',\n",
    " '269.'],'deliver':['Monday, March 28',\n",
    " 'Monday, March 28',\n",
    " 'Tuesday, March 29',\n",
    " 'Wednesday, March 30',\n",
    " 'Sunday, March 27',\n",
    " 'Monday, March 28',\n",
    " 'Saturday, March 26',\n",
    " 'Saturday, March 26',\n",
    " 'Saturday, March 26',\n",
    " 'Wednesday, March 30',\n",
    " 'Tuesday, March 29',\n",
    " 'Tomorrow, March 25',\n",
    " 'Tomorrow, March 25',\n",
    " 'Sunday, March 27',\n",
    " 'Tomorrow, March 25',\n",
    " 'Saturday, March 26',\n",
    " 'Sunday, March 27',\n",
    " 'Sunday, March 27',\n",
    " 'Tuesday, March 29',\n",
    " 'Saturday, March 26',\n",
    " 'Wednesday, March 30',\n",
    " 'Wednesday, March 30',\n",
    " 'Sunday, March 27',\n",
    " 'Sunday, March 27',\n",
    " 'Saturday, March 26',\n",
    " 'Wednesday, March 30',\n",
    " 'Monday, March 28',\n",
    " 'Saturday, March 26',\n",
    " 'Wednesday, March 30',\n",
    " 'Wednesday, March 30',\n",
    " 'Tomorrow, March 25',\n",
    " 'Monday, March 28',\n",
    " 'Wednesday, March 30',\n",
    " 'Saturday, March 26',\n",
    " 'Tomorrow, March 25',\n",
    " 'Tuesday, March 29',\n",
    " 'Wednesday, March 30',\n",
    " 'Saturday, April 2',\n",
    " 'Saturday, March 26',\n",
    " 'Sunday, March 27',\n",
    " 'Saturday, April 2',\n",
    " 'Monday, March 28',\n",
    " 'Wednesday, March 30',\n",
    " 'Tomorrow, March 25',\n",
    " 'Saturday, March 26',\n",
    " 'Saturday, March 26',\n",
    " 'Wednesday, March 30',\n",
    " 'Friday, April 1',\n",
    " 'Tomorrow, March 25',\n",
    " 'Sunday, March 27',\n",
    " 'Tomorrow, March 25',\n",
    " 'Tomorrow, March 25',\n",
    " 'Wednesday, March 30',\n",
    " 'Wednesday, March 30',\n",
    " 'Tuesday, March 29',\n",
    " 'Thursday, March 31',\n",
    " 'Tuesday, March 29']\n",
    "} \n",
    "df = pd.DataFrame(data)\n",
    "print(df)"
   ]
  },
  {
   "cell_type": "code",
   "execution_count": 118,
   "id": "04927f96",
   "metadata": {},
   "outputs": [
    {
     "data": {
      "text/plain": [
       "<selenium.webdriver.remote.webelement.WebElement (session=\"3eecee8f45c19d663ee57aef4a2a645e\", element=\"be73d65b-044e-4645-8f8d-ec05a8230de4\")>"
      ]
     },
     "execution_count": 118,
     "metadata": {},
     "output_type": "execute_result"
    }
   ],
   "source": [
    "next_btn = driver.find_element_by_xpath('/html/body/div[1]/div[2]/div[1]/div[1]/div/span[3]/div[2]/div[67]/div/div/span/a[3]')\n",
    "next_btn"
   ]
  },
  {
   "cell_type": "code",
   "execution_count": 119,
   "id": "4d2f8c63",
   "metadata": {},
   "outputs": [],
   "source": [
    "next_btn.click()"
   ]
  },
  {
   "cell_type": "code",
   "execution_count": 120,
   "id": "3617bcf4",
   "metadata": {},
   "outputs": [
    {
     "data": {
      "text/plain": [
       "[]"
      ]
     },
     "execution_count": 120,
     "metadata": {},
     "output_type": "execute_result"
    }
   ],
   "source": [
    "title_tags = driver.find_elements_by_xpath('//span[@class=\"a-size-base-plus a-color-base a-text-normal\"]')\n",
    "len(title_tags)\n",
    "title_tags"
   ]
  },
  {
   "cell_type": "code",
   "execution_count": 121,
   "id": "0fe2d80b",
   "metadata": {},
   "outputs": [
    {
     "data": {
      "text/plain": [
       "[]"
      ]
     },
     "execution_count": 121,
     "metadata": {},
     "output_type": "execute_result"
    }
   ],
   "source": [
    "product_titles =[]\n",
    "\n",
    "for i in title_tags:\n",
    "    product_titles.append(i.text)\n",
    "len(product_titles)\n",
    "product_titles[0:57]"
   ]
  },
  {
   "cell_type": "code",
   "execution_count": 122,
   "id": "b2919691",
   "metadata": {},
   "outputs": [
    {
     "data": {
      "text/plain": [
       "[]"
      ]
     },
     "execution_count": 122,
     "metadata": {},
     "output_type": "execute_result"
    }
   ],
   "source": [
    "price_tags = driver.find_elements_by_xpath('//span[@class=\"a-price-whole\"]')\n",
    "price_tags"
   ]
  },
  {
   "cell_type": "code",
   "execution_count": 123,
   "id": "1da5c524",
   "metadata": {},
   "outputs": [
    {
     "data": {
      "text/plain": [
       "[]"
      ]
     },
     "execution_count": 123,
     "metadata": {},
     "output_type": "execute_result"
    }
   ],
   "source": [
    "prices = []\n",
    "for i in price_tags:\n",
    "    prices.append(i.text)\n",
    "prices[0:57]"
   ]
  },
  {
   "cell_type": "code",
   "execution_count": 124,
   "id": "4b95f0a4",
   "metadata": {},
   "outputs": [
    {
     "data": {
      "text/plain": [
       "[]"
      ]
     },
     "execution_count": 124,
     "metadata": {},
     "output_type": "execute_result"
    }
   ],
   "source": [
    "delivery_tags = driver.find_elements_by_xpath('//span[@class=\"a-color-base a-text-bold\"]')\n",
    "len(delivery_tags)\n",
    "delivery_tags"
   ]
  },
  {
   "cell_type": "code",
   "execution_count": 125,
   "id": "6207434d",
   "metadata": {},
   "outputs": [
    {
     "data": {
      "text/plain": [
       "[]"
      ]
     },
     "execution_count": 125,
     "metadata": {},
     "output_type": "execute_result"
    }
   ],
   "source": [
    "exc_delivery = []\n",
    "for i in delivery_tags:\n",
    "    exc_delivery.append(i.text)\n",
    "exc_delivery[0:57]"
   ]
  },
  {
   "cell_type": "code",
   "execution_count": 126,
   "id": "f9d4b888",
   "metadata": {},
   "outputs": [
    {
     "data": {
      "text/plain": [
       "(0, 0, 0)"
      ]
     },
     "execution_count": 126,
     "metadata": {},
     "output_type": "execute_result"
    }
   ],
   "source": [
    "len(product_titles),len(prices),len(exc_delivery)"
   ]
  },
  {
   "cell_type": "code",
   "execution_count": 127,
   "id": "079b36ac",
   "metadata": {},
   "outputs": [
    {
     "name": "stdout",
     "output_type": "stream",
     "text": [
      "                                                 Name         exc_delivery  \\\n",
      "0   Vault EA40 41 inch Premium Spruce-Top Cutaway ...     Monday, March 28   \n",
      "1   Vault ST1 Strat Style 6 String Electric Guitar...     Monday, March 28   \n",
      "2   Gibz's G-38 Glossy Acoustic Guitar With Truss ...    Tuesday, March 29   \n",
      "3   Festra 38C, 38 Inch Acoustic Guitar Kit with B...  Wednesday, March 30   \n",
      "4   Yamaha FS100C, 6-Strings Acoustic Guitar With ...     Sunday, March 27   \n",
      "5   Kadence, Chronicle Series Electric Bass Guitar...     Monday, March 28   \n",
      "6    Yamaha PACIFICA012 Electric Guitar, Red Metallic   Saturday, March 26   \n",
      "7   Kadence 39” Classical Guitar Nylon Strings Aco...   Saturday, March 26   \n",
      "8   Kadence Guitar 36” Acoustica Series, Electric ...   Saturday, March 26   \n",
      "9   Fender Model FA-15 Red 3/4 Size Steel Stringed...  Wednesday, March 30   \n",
      "10  YAMAHA WINNING STROKE F280 Acoustic Guitar wit...    Tuesday, March 29   \n",
      "11  PRS, Acoustic Electric Guitar, SE P20E Parlor ...   Tomorrow, March 25   \n",
      "12  Jackson JS Series Dinky JS11 2910121503 Right ...   Tomorrow, March 25   \n",
      "13  Juârez Acoustic Guitar, 38 Inch Cutaway, JRZ38...     Sunday, March 27   \n",
      "14  FENDER CD60SCE-BLK Dreadnought Solid Spruce To...   Tomorrow, March 25   \n",
      "15  Kadence, Chronicle Series Electric Bass Guitar...   Saturday, March 26   \n",
      "16  ARCTIC Sky series 39\" Guitar (with Truss Rod) ...     Sunday, March 27   \n",
      "17  Medellin 38\" Carbon Fiber Acoustic Guitar with...     Sunday, March 27   \n",
      "18  Yamaha Electric-Acoustic Guitar FSX80C Dreadno...    Tuesday, March 29   \n",
      "19    Cort KX100 Electric Guitar Black Metallic Color   Saturday, March 26   \n",
      "20  VAIDIKA 4 String Decor Guitar Children's Music...  Wednesday, March 30   \n",
      "21  LME Laxmi Musical Electronics - Acoustic Picku...  Wednesday, March 30   \n",
      "22  Mustang 46 PCS Guitar Strings Changing Kit Gui...     Sunday, March 27   \n",
      "23  Pack of 2 Universal Guitar Stand by Hola! Musi...     Sunday, March 27   \n",
      "24  Ibanez GSR180 - BS, 4 Strings Electric Bass Gu...   Saturday, March 26   \n",
      "25  Epiphone Pro - 1 Acoustic Guitar, Vintage Sunb...  Wednesday, March 30   \n",
      "26  Kadence AstroMan Electric Guitar, 21 FRETS, RO...     Monday, March 28   \n",
      "27  Yamaha JR2 Acoustic Guitar 3/4 Size (Travel Gu...   Saturday, March 26   \n",
      "28  Fender CD-60SCE Dreadnought All Mahogany Elect...  Wednesday, March 30   \n",
      "29               Ibanez GSA60 Electric Guitar - Black  Wednesday, March 30   \n",
      "30  Fender FA125CE Electric Acoustic Guitar With S...   Tomorrow, March 25   \n",
      "31  Ibanez Acoustic Guitar MD39C Right Handed Cuta...     Monday, March 28   \n",
      "32  Pluto HW41C-201 41-inch Cutaway Acoustic Guita...  Wednesday, March 30   \n",
      "33     Vault HL1 Headless Electric Guitar with GigBag   Saturday, March 26   \n",
      "34    Yamaha F310, 6-Strings Acoustic Guitar, Natural   Tomorrow, March 25   \n",
      "35  Fender Squier 0370005506 Bullet Fat Stratocast...    Tuesday, March 29   \n",
      "36  Kadence Acoustica 40\" Mahogany Left-Handed Aco...  Wednesday, March 30   \n",
      "37  PRS Guitars Electric Guitar, SE Standard 24, 2...    Saturday, April 2   \n",
      "38  Givsun Diamond Special Blue 6-String Cut A Way...   Saturday, March 26   \n",
      "39  Cordoba C1 Protege Series Classical Guitar Nat...     Sunday, March 27   \n",
      "40  RockJam RJEG02-SK-BK Electric Guitar Starter K...    Saturday, April 2   \n",
      "41  Epiphone ENPTVSNH1 Solid Body Electric Guitars...     Monday, March 28   \n",
      "42  Cort SFX-MEM Electro Acoustic Guitar - Open Po...  Wednesday, March 30   \n",
      "43  Juarez Acoustic Guitar, 38 Inch Cutaway with P...   Tomorrow, March 25   \n",
      "44  Ibanez RG Gio Series GRGR221PA Electric Guitar...   Saturday, March 26   \n",
      "45  Fender FA135CE Electric Acoustic Guitar Concer...   Saturday, March 26   \n",
      "46  Epiphone Les Paul Classic Worn 6 String Right ...  Wednesday, March 30   \n",
      "47  Ibanez GA5TCE - AM, 6 -Strings Acoustic Guitar...      Friday, April 1   \n",
      "48  Kadence Slowhand Series Premium Acoustic Guita...   Tomorrow, March 25   \n",
      "49  Epiphone Les Paul Muse 6 String Right Handed E...     Sunday, March 27   \n",
      "50         Givson Monalisa-B Electric Hawaiian Guitar   Tomorrow, March 25   \n",
      "51  Ibanez MD39C Cutaway Acoustic Guitar - Sunburs...   Tomorrow, March 25   \n",
      "52  Epiphone Les Paul Electric Guitar Player Pack ...  Wednesday, March 30   \n",
      "53  Granada, Acoustic Guitar, Dreadnought PRLD-14C...  Wednesday, March 30   \n",
      "54  Granada, Acoustic Guitar, Cutaway, Medium PRS-...    Tuesday, March 29   \n",
      "55  Standzo Yamaha FS80C The Ultimate Concert-body...   Thursday, March 31   \n",
      "56  Mustang Guitar Accessories Kit - Stand, Clip-o...    Tuesday, March 29   \n",
      "\n",
      "    prices  \n",
      "0    6,890  \n",
      "1    7,599  \n",
      "2    3,498  \n",
      "3    2,695  \n",
      "4   11,593  \n",
      "5   12,999  \n",
      "6   14,949  \n",
      "7    5,999  \n",
      "8    7,348  \n",
      "9   14,995  \n",
      "10   8,590  \n",
      "11  48,478  \n",
      "12   2,649  \n",
      "13  26,364  \n",
      "14  12,999  \n",
      "15   4,974  \n",
      "16   1,999  \n",
      "17  13,390  \n",
      "18  18,999  \n",
      "19     998  \n",
      "20     599  \n",
      "21     975  \n",
      "22     999  \n",
      "23  17,813  \n",
      "24  13,499  \n",
      "25   6,999  \n",
      "26  14,490  \n",
      "27  29,782  \n",
      "28  19,654  \n",
      "29  20,000  \n",
      "30   8,799  \n",
      "31   6,999  \n",
      "32  19,999  \n",
      "33  12,943  \n",
      "34   6,823  \n",
      "35  63,734  \n",
      "36   4,169  \n",
      "37  10,999  \n",
      "38  24,104  \n",
      "39  15,343  \n",
      "40   3,161  \n",
      "41  26,163  \n",
      "42  20,999  \n",
      "43  47,224  \n",
      "44   9,999  \n",
      "45  51,949  \n",
      "46  12,999  \n",
      "47   8,571  \n",
      "48  25,990  \n",
      "49   6,935  \n",
      "50   5,437  \n",
      "51   9,290  \n",
      "52     899  \n",
      "53     499  \n",
      "54     520  \n",
      "55     589  \n",
      "56    269.  \n"
     ]
    }
   ],
   "source": [
    "data2= {'Name':['Vault EA40 41 inch Premium Spruce-Top Cutaway Acoustic Guitar',\n",
    " 'Vault ST1 Strat Style 6 String Electric Guitar- Black',\n",
    " \"Gibz's G-38 Glossy Acoustic Guitar With Truss Rod Natural\",\n",
    " 'Festra 38C, 38 Inch Acoustic Guitar Kit with Bag, Strap, One Pack Strings And 2 Picks (Black) (Acoustic 38C (38 Inch) Guitar Kit, Sunburst)',\n",
    " 'Yamaha FS100C, 6-Strings Acoustic Guitar With Sponge Bag, Belt & Plectrums Combo Pack (Natural) By Mexa',\n",
    " 'Kadence, Chronicle Series Electric Bass Guitar, Natural Ash Wood with P-J Pickup, 2 Tone and 2 Volume Control',\n",
    " 'Yamaha PACIFICA012 Electric Guitar, Red Metallic',\n",
    " 'Kadence 39” Classical Guitar Nylon Strings Acoustic Guitar with Truss Rod for Beginner Professional With Bag (30\" 1/4 Acoustic GL03)',\n",
    " 'Kadence Guitar 36” Acoustica Series, Electric Acoustic Guitar, Ash Wood with Pickup and Inbuilt tuner Travel GUitar Small Size for Kids and Adult (A06 36\")',\n",
    " 'Fender Model FA-15 Red 3/4 Size Steel Stringed Acoustic Guitar with Gig Bag-971170170',\n",
    " 'YAMAHA WINNING STROKE F280 Acoustic Guitar with Bag Combo (Natural)',\n",
    " 'PRS, Acoustic Electric Guitar, SE P20E Parlor w/Fishman Pickup -Vintage Mahogany (106997:VM)',\n",
    " 'Jackson JS Series Dinky JS11 2910121503 Right Handed Electric Guitar (Black, 6-Strings)',\n",
    " 'Juârez Acoustic Guitar, 38 Inch Cutaway, JRZ38C with Bag, Strings, Pick and Strap, Red',\n",
    " 'FENDER CD60SCE-BLK Dreadnought Solid Spruce Top Semi-Acoustic Guitar - Black',\n",
    " 'Kadence, Chronicle Series Electric Bass Guitar, Black Ash Wood with P-J Pickup, 2 Tone and 2 Volume Control',\n",
    " 'ARCTIC Sky series 39\" Guitar (with Truss Rod) with Bag, 3 Picks, Strap & String Set. Standard Pack Red',\n",
    " 'Medellin 38\" Carbon Fiber Acoustic Guitar with free specailized learning course- MDCF38BK Durable Carbon Fiber Matt Sunburst finish Body for beginners with handrest, set of Strings, Strap, Bag, 3 Picks, Capo, Guitar Wall Hanging Stand and Free GUITAR LEARNING COURSE (Special Learning Combo with Guitar)',\n",
    " 'Yamaha Electric-Acoustic Guitar FSX80C Dreadnought With With Mexa Sponge Bag, Guitar Belt, Guitar Stand, String Set & Plectrums.(NT)',\n",
    " 'Cort KX100 Electric Guitar Black Metallic Color',\n",
    " \"VAIDIKA 4 String Decor Guitar Children's Musical Instrument Educational Toy Small Guitar for Beginners Kids Child - 23 Inch\",\n",
    " 'LME Laxmi Musical Electronics - Acoustic Pickup for Violin, Veena, Guitar, Mandolin, Banjo and All Acoustic String Instruments',\n",
    " 'Mustang 46 PCS Guitar Strings Changing Kit Guitar Tool Kit Including Guitar Strings Guitar Tuner Picks Capo Pins Guitar String Cutter and Winder for Beginner',\n",
    " 'Pack of 2 Universal Guitar Stand by Hola! Music Fits Acoustic Classical Electric Bass Guitars Mandolins Banjos Ukuleles and Other Stringed Instruments',\n",
    " 'Ibanez GSR180 - BS, 4 Strings Electric Bass Guitars, Right Handed, Brown Sunburst, without case',\n",
    " 'Epiphone Pro - 1 Acoustic Guitar, Vintage Sunbusrt',\n",
    " 'Kadence AstroMan Electric Guitar, 21 FRETS, ROSEWOOD FRETBOARD, H - S - S PICK UPS Black combo with Bag, Guitar strap,guitar cable and Picks',\n",
    " 'Yamaha JR2 Acoustic Guitar 3/4 Size (Travel Guitar) With Guitar Bag, Belt,Plectrums & String Set.',\n",
    " 'Fender CD-60SCE Dreadnought All Mahogany Electro-Acoustic Guitar',\n",
    " 'Ibanez GSA60 Electric Guitar - Black',\n",
    " 'Fender FA125CE Electric Acoustic Guitar With Sponge Bag, Belt, String Set, & Plectrums Combo Pack (Natural)',\n",
    " 'Ibanez Acoustic Guitar MD39C Right Handed Cutaway Guitar - Sunburst With Bag, Belt, Plectrums Complete Pack.',\n",
    " 'Pluto HW41C-201 41-inch Cutaway Acoustic Guitar (Natural)',\n",
    " 'Vault HL1 Headless Electric Guitar with GigBag',\n",
    " 'Yamaha F310, 6-Strings Acoustic Guitar, Natural',\n",
    " 'Fender Squier 0370005506 Bullet Fat Stratocaster 6-Strings Electric Guitar, Right-Handed, Black, Rosewood Fretboard',\n",
    " 'Kadence Acoustica 40\" Mahogany Left-Handed Acoustic Guitar A03 L with bag',\n",
    " 'PRS Guitars Electric Guitar, SE Standard 24, 2021 Series -Vintage Cherry ST4VC',\n",
    " 'Givsun Diamond Special Blue 6-String Cut A Way Right Hand Acoustic Semi-Electric Guitar With Bag And Free 1 Set String,2 Picks',\n",
    " 'Cordoba C1 Protege Series Classical Guitar Natural with Bag',\n",
    " 'RockJam RJEG02-SK-BK Electric Guitar Starter Kit (Black)',\n",
    " 'Epiphone ENPTVSNH1 Solid Body Electric Guitars Les Paul Studio LT, Vintage Sunburst',\n",
    " 'Cort SFX-MEM Electro Acoustic Guitar - Open Pore, Mahogany, SFXMEMOP (SFXMEMOP)',\n",
    " 'Juarez Acoustic Guitar, 38 Inch Cutaway with Pick Guard, 38C/RDS with Bag, Strings, Pick and Strap, Red Sunburst',\n",
    " 'Ibanez RG Gio Series GRGR221PA Electric Guitar- Aqua Burst',\n",
    " 'Fender FA135CE Electric Acoustic Guitar Concert Body V2 (Inbuilt Fishman Pickup) With Sponge Bag, Belt, String Set, & Plectrums Combo Pack .(NT)',\n",
    " 'Epiphone Les Paul Classic Worn 6 String Right Handed Electric Guitar, Worn Ebony (ELCSWSNH)',\n",
    " 'Ibanez GA5TCE - AM, 6 -Strings Acoustic Guitar, Right-Handed, Amber High Gloss, Rosewood Fretboard',\n",
    " 'Kadence Slowhand Series Premium Acoustic Guitar, 38\" Travel Guitar (Mahogany Wood SHM03)',\n",
    " 'Epiphone Les Paul Muse 6 String Right Handed Electric Guitar, Radio Blue Metallic',\n",
    " 'Givson Monalisa-B Electric Hawaiian Guitar',\n",
    " 'Ibanez MD39C Cutaway Acoustic Guitar - Sunburst, MD-39CDB (IBA-MD39CSB)',\n",
    " 'Epiphone Les Paul Electric Guitar Player Pack (Vintage Sunburst)',\n",
    " 'Granada, Acoustic Guitar, Dreadnought PRLD-14C-F -Natural',\n",
    " 'Granada, Acoustic Guitar, Cutaway, Medium PRS-1-FC -Vintage Sunburst',\n",
    " 'Standzo Yamaha FS80C The Ultimate Concert-body Cutway Acoustic Guitar with Padded Bag, Picks, Belt, Strings and Learning Book Combo Pack',\n",
    " 'Mustang Guitar Accessories Kit - Stand, Clip-on Tuner, Strap, Capo, 4 Assorted Picks, Holder - For Acoustic and Electric Instruments - Great Gift For Beginners and Advanced Players'],\n",
    "'exc_delivery':['Monday, March 28',\n",
    " 'Monday, March 28',\n",
    " 'Tuesday, March 29',\n",
    " 'Wednesday, March 30',\n",
    " 'Sunday, March 27',\n",
    " 'Monday, March 28',\n",
    " 'Saturday, March 26',\n",
    " 'Saturday, March 26',\n",
    " 'Saturday, March 26',\n",
    " 'Wednesday, March 30',\n",
    " 'Tuesday, March 29',\n",
    " 'Tomorrow, March 25',\n",
    " 'Tomorrow, March 25',\n",
    " 'Sunday, March 27',\n",
    " 'Tomorrow, March 25',\n",
    " 'Saturday, March 26',\n",
    " 'Sunday, March 27',\n",
    " 'Sunday, March 27',\n",
    " 'Tuesday, March 29',\n",
    " 'Saturday, March 26',\n",
    " 'Wednesday, March 30',\n",
    " 'Wednesday, March 30',\n",
    " 'Sunday, March 27',\n",
    " 'Sunday, March 27',\n",
    " 'Saturday, March 26',\n",
    " 'Wednesday, March 30',\n",
    " 'Monday, March 28',\n",
    " 'Saturday, March 26',\n",
    " 'Wednesday, March 30',\n",
    " 'Wednesday, March 30',\n",
    " 'Tomorrow, March 25',\n",
    " 'Monday, March 28',\n",
    " 'Wednesday, March 30',\n",
    " 'Saturday, March 26',\n",
    " 'Tomorrow, March 25',\n",
    " 'Tuesday, March 29',\n",
    " 'Wednesday, March 30',\n",
    " 'Saturday, April 2',\n",
    " 'Saturday, March 26',\n",
    " 'Sunday, March 27',\n",
    " 'Saturday, April 2',\n",
    " 'Monday, March 28',\n",
    " 'Wednesday, March 30',\n",
    " 'Tomorrow, March 25',\n",
    " 'Saturday, March 26',\n",
    " 'Saturday, March 26',\n",
    " 'Wednesday, March 30',\n",
    " 'Friday, April 1',\n",
    " 'Tomorrow, March 25',\n",
    " 'Sunday, March 27',\n",
    " 'Tomorrow, March 25',\n",
    " 'Tomorrow, March 25',\n",
    " 'Wednesday, March 30',\n",
    " 'Wednesday, March 30',\n",
    " 'Tuesday, March 29',\n",
    " 'Thursday, March 31',\n",
    " 'Tuesday, March 29'],\n",
    "'prices':['6,890',\n",
    " '7,599',\n",
    " '3,498',\n",
    " '2,695',\n",
    " '11,593',\n",
    " '12,999',\n",
    " '14,949',\n",
    " '5,999',\n",
    " '7,348',\n",
    " '14,995',\n",
    " '8,590',\n",
    " '48,478',\n",
    " '2,649',\n",
    " '26,364',\n",
    " '12,999',\n",
    " '4,974',\n",
    " '1,999',\n",
    " '13,390',\n",
    " '18,999',\n",
    " '998',\n",
    " '599',\n",
    " '975',\n",
    " '999',\n",
    " '17,813',\n",
    " '13,499',\n",
    " '6,999',\n",
    " '14,490',\n",
    " '29,782',\n",
    " '19,654',\n",
    " '20,000',\n",
    " '8,799',\n",
    " '6,999',\n",
    " '19,999',\n",
    " '12,943',\n",
    " '6,823',\n",
    " '63,734',\n",
    " '4,169',\n",
    " '10,999',\n",
    " '24,104',\n",
    " '15,343',\n",
    " '3,161',\n",
    " '26,163',\n",
    " '20,999',\n",
    " '47,224',\n",
    " '9,999',\n",
    " '51,949',\n",
    " '12,999',\n",
    " '8,571',\n",
    " '25,990',\n",
    " '6,935',\n",
    " '5,437',\n",
    " '9,290',\n",
    " '899',\n",
    " '499',\n",
    " '520',\n",
    " '589',\n",
    " '269.']\n",
    "}\n",
    "\n",
    "df = pd.DataFrame(data2)\n",
    " \n",
    "print(df)"
   ]
  },
  {
   "cell_type": "code",
   "execution_count": 128,
   "id": "578e27f6",
   "metadata": {},
   "outputs": [
    {
     "ename": "NoSuchElementException",
     "evalue": "Message: no such element: Unable to locate element: {\"method\":\"xpath\",\"selector\":\"/html/body/div[1]/div[2]/div[1]/div[1]/div/span[3]/div[2]/div[66]/div/div/span/a[4]\"}\n  (Session info: chrome=99.0.4844.84)\nStacktrace:\nBacktrace:\n\tOrdinal0 [0x006D9943+2595139]\n\tOrdinal0 [0x0066C9F1+2148849]\n\tOrdinal0 [0x00564528+1066280]\n\tOrdinal0 [0x00590FD4+1249236]\n\tOrdinal0 [0x005911CB+1249739]\n\tOrdinal0 [0x005BD812+1431570]\n\tOrdinal0 [0x005ABA34+1358388]\n\tOrdinal0 [0x005BBAF2+1424114]\n\tOrdinal0 [0x005AB806+1357830]\n\tOrdinal0 [0x00586086+1204358]\n\tOrdinal0 [0x00586F96+1208214]\n\tGetHandleVerifier [0x0087B232+1658114]\n\tGetHandleVerifier [0x0093312C+2411516]\n\tGetHandleVerifier [0x0076F261+560433]\n\tGetHandleVerifier [0x0076E366+556598]\n\tOrdinal0 [0x0067286B+2173035]\n\tOrdinal0 [0x006775F8+2192888]\n\tOrdinal0 [0x006776E5+2193125]\n\tOrdinal0 [0x006811FC+2232828]\n\tBaseThreadInitThunk [0x75E5FA29+25]\n\tRtlGetAppContainerNamedObjectPath [0x77E87A7E+286]\n\tRtlGetAppContainerNamedObjectPath [0x77E87A4E+238]\n",
     "output_type": "error",
     "traceback": [
      "\u001b[1;31m---------------------------------------------------------------------------\u001b[0m",
      "\u001b[1;31mNoSuchElementException\u001b[0m                    Traceback (most recent call last)",
      "\u001b[1;32m<ipython-input-128-2668ef28116d>\u001b[0m in \u001b[0;36m<module>\u001b[1;34m\u001b[0m\n\u001b[1;32m----> 1\u001b[1;33m \u001b[0mnext_btn\u001b[0m \u001b[1;33m=\u001b[0m \u001b[0mdriver\u001b[0m\u001b[1;33m.\u001b[0m\u001b[0mfind_element_by_xpath\u001b[0m\u001b[1;33m(\u001b[0m\u001b[1;34m'/html/body/div[1]/div[2]/div[1]/div[1]/div/span[3]/div[2]/div[66]/div/div/span/a[4]'\u001b[0m\u001b[1;33m)\u001b[0m\u001b[1;33m\u001b[0m\u001b[1;33m\u001b[0m\u001b[0m\n\u001b[0m\u001b[0;32m      2\u001b[0m \u001b[0mnext_btn\u001b[0m\u001b[1;33m\u001b[0m\u001b[1;33m\u001b[0m\u001b[0m\n",
      "\u001b[1;32m~\\anaconda3\\lib\\site-packages\\selenium\\webdriver\\remote\\webdriver.py\u001b[0m in \u001b[0;36mfind_element_by_xpath\u001b[1;34m(self, xpath)\u001b[0m\n\u001b[0;32m    519\u001b[0m             \u001b[0mstacklevel\u001b[0m\u001b[1;33m=\u001b[0m\u001b[1;36m2\u001b[0m\u001b[1;33m,\u001b[0m\u001b[1;33m\u001b[0m\u001b[1;33m\u001b[0m\u001b[0m\n\u001b[0;32m    520\u001b[0m         )\n\u001b[1;32m--> 521\u001b[1;33m         \u001b[1;32mreturn\u001b[0m \u001b[0mself\u001b[0m\u001b[1;33m.\u001b[0m\u001b[0mfind_element\u001b[0m\u001b[1;33m(\u001b[0m\u001b[0mby\u001b[0m\u001b[1;33m=\u001b[0m\u001b[0mBy\u001b[0m\u001b[1;33m.\u001b[0m\u001b[0mXPATH\u001b[0m\u001b[1;33m,\u001b[0m \u001b[0mvalue\u001b[0m\u001b[1;33m=\u001b[0m\u001b[0mxpath\u001b[0m\u001b[1;33m)\u001b[0m\u001b[1;33m\u001b[0m\u001b[1;33m\u001b[0m\u001b[0m\n\u001b[0m\u001b[0;32m    522\u001b[0m \u001b[1;33m\u001b[0m\u001b[0m\n\u001b[0;32m    523\u001b[0m     \u001b[1;32mdef\u001b[0m \u001b[0mfind_elements_by_xpath\u001b[0m\u001b[1;33m(\u001b[0m\u001b[0mself\u001b[0m\u001b[1;33m,\u001b[0m \u001b[0mxpath\u001b[0m\u001b[1;33m)\u001b[0m \u001b[1;33m->\u001b[0m \u001b[0mList\u001b[0m\u001b[1;33m[\u001b[0m\u001b[0mWebElement\u001b[0m\u001b[1;33m]\u001b[0m\u001b[1;33m:\u001b[0m\u001b[1;33m\u001b[0m\u001b[1;33m\u001b[0m\u001b[0m\n",
      "\u001b[1;32m~\\anaconda3\\lib\\site-packages\\selenium\\webdriver\\remote\\webdriver.py\u001b[0m in \u001b[0;36mfind_element\u001b[1;34m(self, by, value)\u001b[0m\n\u001b[0;32m   1246\u001b[0m             \u001b[0mvalue\u001b[0m \u001b[1;33m=\u001b[0m \u001b[1;34m'[name=\"%s\"]'\u001b[0m \u001b[1;33m%\u001b[0m \u001b[0mvalue\u001b[0m\u001b[1;33m\u001b[0m\u001b[1;33m\u001b[0m\u001b[0m\n\u001b[0;32m   1247\u001b[0m \u001b[1;33m\u001b[0m\u001b[0m\n\u001b[1;32m-> 1248\u001b[1;33m         return self.execute(Command.FIND_ELEMENT, {\n\u001b[0m\u001b[0;32m   1249\u001b[0m             \u001b[1;34m'using'\u001b[0m\u001b[1;33m:\u001b[0m \u001b[0mby\u001b[0m\u001b[1;33m,\u001b[0m\u001b[1;33m\u001b[0m\u001b[1;33m\u001b[0m\u001b[0m\n\u001b[0;32m   1250\u001b[0m             'value': value})['value']\n",
      "\u001b[1;32m~\\anaconda3\\lib\\site-packages\\selenium\\webdriver\\remote\\webdriver.py\u001b[0m in \u001b[0;36mexecute\u001b[1;34m(self, driver_command, params)\u001b[0m\n\u001b[0;32m    423\u001b[0m         \u001b[0mresponse\u001b[0m \u001b[1;33m=\u001b[0m \u001b[0mself\u001b[0m\u001b[1;33m.\u001b[0m\u001b[0mcommand_executor\u001b[0m\u001b[1;33m.\u001b[0m\u001b[0mexecute\u001b[0m\u001b[1;33m(\u001b[0m\u001b[0mdriver_command\u001b[0m\u001b[1;33m,\u001b[0m \u001b[0mparams\u001b[0m\u001b[1;33m)\u001b[0m\u001b[1;33m\u001b[0m\u001b[1;33m\u001b[0m\u001b[0m\n\u001b[0;32m    424\u001b[0m         \u001b[1;32mif\u001b[0m \u001b[0mresponse\u001b[0m\u001b[1;33m:\u001b[0m\u001b[1;33m\u001b[0m\u001b[1;33m\u001b[0m\u001b[0m\n\u001b[1;32m--> 425\u001b[1;33m             \u001b[0mself\u001b[0m\u001b[1;33m.\u001b[0m\u001b[0merror_handler\u001b[0m\u001b[1;33m.\u001b[0m\u001b[0mcheck_response\u001b[0m\u001b[1;33m(\u001b[0m\u001b[0mresponse\u001b[0m\u001b[1;33m)\u001b[0m\u001b[1;33m\u001b[0m\u001b[1;33m\u001b[0m\u001b[0m\n\u001b[0m\u001b[0;32m    426\u001b[0m             response['value'] = self._unwrap_value(\n\u001b[0;32m    427\u001b[0m                 response.get('value', None))\n",
      "\u001b[1;32m~\\anaconda3\\lib\\site-packages\\selenium\\webdriver\\remote\\errorhandler.py\u001b[0m in \u001b[0;36mcheck_response\u001b[1;34m(self, response)\u001b[0m\n\u001b[0;32m    245\u001b[0m                 \u001b[0malert_text\u001b[0m \u001b[1;33m=\u001b[0m \u001b[0mvalue\u001b[0m\u001b[1;33m[\u001b[0m\u001b[1;34m'alert'\u001b[0m\u001b[1;33m]\u001b[0m\u001b[1;33m.\u001b[0m\u001b[0mget\u001b[0m\u001b[1;33m(\u001b[0m\u001b[1;34m'text'\u001b[0m\u001b[1;33m)\u001b[0m\u001b[1;33m\u001b[0m\u001b[1;33m\u001b[0m\u001b[0m\n\u001b[0;32m    246\u001b[0m             \u001b[1;32mraise\u001b[0m \u001b[0mexception_class\u001b[0m\u001b[1;33m(\u001b[0m\u001b[0mmessage\u001b[0m\u001b[1;33m,\u001b[0m \u001b[0mscreen\u001b[0m\u001b[1;33m,\u001b[0m \u001b[0mstacktrace\u001b[0m\u001b[1;33m,\u001b[0m \u001b[0malert_text\u001b[0m\u001b[1;33m)\u001b[0m  \u001b[1;31m# type: ignore[call-arg]  # mypy is not smart enough here\u001b[0m\u001b[1;33m\u001b[0m\u001b[1;33m\u001b[0m\u001b[0m\n\u001b[1;32m--> 247\u001b[1;33m         \u001b[1;32mraise\u001b[0m \u001b[0mexception_class\u001b[0m\u001b[1;33m(\u001b[0m\u001b[0mmessage\u001b[0m\u001b[1;33m,\u001b[0m \u001b[0mscreen\u001b[0m\u001b[1;33m,\u001b[0m \u001b[0mstacktrace\u001b[0m\u001b[1;33m)\u001b[0m\u001b[1;33m\u001b[0m\u001b[1;33m\u001b[0m\u001b[0m\n\u001b[0m\u001b[0;32m    248\u001b[0m \u001b[1;33m\u001b[0m\u001b[0m\n\u001b[0;32m    249\u001b[0m     \u001b[1;32mdef\u001b[0m \u001b[0m_value_or_default\u001b[0m\u001b[1;33m(\u001b[0m\u001b[0mself\u001b[0m\u001b[1;33m,\u001b[0m \u001b[0mobj\u001b[0m\u001b[1;33m:\u001b[0m \u001b[0mMapping\u001b[0m\u001b[1;33m[\u001b[0m\u001b[0m_KT\u001b[0m\u001b[1;33m,\u001b[0m \u001b[0m_VT\u001b[0m\u001b[1;33m]\u001b[0m\u001b[1;33m,\u001b[0m \u001b[0mkey\u001b[0m\u001b[1;33m:\u001b[0m \u001b[0m_KT\u001b[0m\u001b[1;33m,\u001b[0m \u001b[0mdefault\u001b[0m\u001b[1;33m:\u001b[0m \u001b[0m_VT\u001b[0m\u001b[1;33m)\u001b[0m \u001b[1;33m->\u001b[0m \u001b[0m_VT\u001b[0m\u001b[1;33m:\u001b[0m\u001b[1;33m\u001b[0m\u001b[1;33m\u001b[0m\u001b[0m\n",
      "\u001b[1;31mNoSuchElementException\u001b[0m: Message: no such element: Unable to locate element: {\"method\":\"xpath\",\"selector\":\"/html/body/div[1]/div[2]/div[1]/div[1]/div/span[3]/div[2]/div[66]/div/div/span/a[4]\"}\n  (Session info: chrome=99.0.4844.84)\nStacktrace:\nBacktrace:\n\tOrdinal0 [0x006D9943+2595139]\n\tOrdinal0 [0x0066C9F1+2148849]\n\tOrdinal0 [0x00564528+1066280]\n\tOrdinal0 [0x00590FD4+1249236]\n\tOrdinal0 [0x005911CB+1249739]\n\tOrdinal0 [0x005BD812+1431570]\n\tOrdinal0 [0x005ABA34+1358388]\n\tOrdinal0 [0x005BBAF2+1424114]\n\tOrdinal0 [0x005AB806+1357830]\n\tOrdinal0 [0x00586086+1204358]\n\tOrdinal0 [0x00586F96+1208214]\n\tGetHandleVerifier [0x0087B232+1658114]\n\tGetHandleVerifier [0x0093312C+2411516]\n\tGetHandleVerifier [0x0076F261+560433]\n\tGetHandleVerifier [0x0076E366+556598]\n\tOrdinal0 [0x0067286B+2173035]\n\tOrdinal0 [0x006775F8+2192888]\n\tOrdinal0 [0x006776E5+2193125]\n\tOrdinal0 [0x006811FC+2232828]\n\tBaseThreadInitThunk [0x75E5FA29+25]\n\tRtlGetAppContainerNamedObjectPath [0x77E87A7E+286]\n\tRtlGetAppContainerNamedObjectPath [0x77E87A4E+238]\n"
     ]
    }
   ],
   "source": [
    "next_btn = driver.find_element_by_xpath('/html/body/div[1]/div[2]/div[1]/div[1]/div/span[3]/div[2]/div[66]/div/div/span/a[4]')\n",
    "next_btn"
   ]
  },
  {
   "cell_type": "code",
   "execution_count": 129,
   "id": "b0467176",
   "metadata": {},
   "outputs": [
    {
     "ename": "StaleElementReferenceException",
     "evalue": "Message: stale element reference: element is not attached to the page document\n  (Session info: chrome=99.0.4844.84)\nStacktrace:\nBacktrace:\n\tOrdinal0 [0x006D9943+2595139]\n\tOrdinal0 [0x0066C9F1+2148849]\n\tOrdinal0 [0x00564528+1066280]\n\tOrdinal0 [0x00566E04+1076740]\n\tOrdinal0 [0x00566CBE+1076414]\n\tOrdinal0 [0x00566F50+1077072]\n\tOrdinal0 [0x0059290C+1255692]\n\tOrdinal0 [0x005879D6+1210838]\n\tOrdinal0 [0x005AB9EC+1358316]\n\tOrdinal0 [0x00587474+1209460]\n\tOrdinal0 [0x005ABC04+1358852]\n\tOrdinal0 [0x005BBAF2+1424114]\n\tOrdinal0 [0x005AB806+1357830]\n\tOrdinal0 [0x00586086+1204358]\n\tOrdinal0 [0x00586F96+1208214]\n\tGetHandleVerifier [0x0087B232+1658114]\n\tGetHandleVerifier [0x0093312C+2411516]\n\tGetHandleVerifier [0x0076F261+560433]\n\tGetHandleVerifier [0x0076E366+556598]\n\tOrdinal0 [0x0067286B+2173035]\n\tOrdinal0 [0x006775F8+2192888]\n\tOrdinal0 [0x006776E5+2193125]\n\tOrdinal0 [0x006811FC+2232828]\n\tBaseThreadInitThunk [0x75E5FA29+25]\n\tRtlGetAppContainerNamedObjectPath [0x77E87A7E+286]\n\tRtlGetAppContainerNamedObjectPath [0x77E87A4E+238]\n",
     "output_type": "error",
     "traceback": [
      "\u001b[1;31m---------------------------------------------------------------------------\u001b[0m",
      "\u001b[1;31mStaleElementReferenceException\u001b[0m            Traceback (most recent call last)",
      "\u001b[1;32m<ipython-input-129-77dc717d8df1>\u001b[0m in \u001b[0;36m<module>\u001b[1;34m\u001b[0m\n\u001b[1;32m----> 1\u001b[1;33m \u001b[0mnext_btn\u001b[0m\u001b[1;33m.\u001b[0m\u001b[0mclick\u001b[0m\u001b[1;33m(\u001b[0m\u001b[1;33m)\u001b[0m\u001b[1;33m\u001b[0m\u001b[1;33m\u001b[0m\u001b[0m\n\u001b[0m",
      "\u001b[1;32m~\\anaconda3\\lib\\site-packages\\selenium\\webdriver\\remote\\webelement.py\u001b[0m in \u001b[0;36mclick\u001b[1;34m(self)\u001b[0m\n\u001b[0;32m     79\u001b[0m     \u001b[1;32mdef\u001b[0m \u001b[0mclick\u001b[0m\u001b[1;33m(\u001b[0m\u001b[0mself\u001b[0m\u001b[1;33m)\u001b[0m \u001b[1;33m->\u001b[0m \u001b[1;32mNone\u001b[0m\u001b[1;33m:\u001b[0m\u001b[1;33m\u001b[0m\u001b[1;33m\u001b[0m\u001b[0m\n\u001b[0;32m     80\u001b[0m         \u001b[1;34m\"\"\"Clicks the element.\"\"\"\u001b[0m\u001b[1;33m\u001b[0m\u001b[1;33m\u001b[0m\u001b[0m\n\u001b[1;32m---> 81\u001b[1;33m         \u001b[0mself\u001b[0m\u001b[1;33m.\u001b[0m\u001b[0m_execute\u001b[0m\u001b[1;33m(\u001b[0m\u001b[0mCommand\u001b[0m\u001b[1;33m.\u001b[0m\u001b[0mCLICK_ELEMENT\u001b[0m\u001b[1;33m)\u001b[0m\u001b[1;33m\u001b[0m\u001b[1;33m\u001b[0m\u001b[0m\n\u001b[0m\u001b[0;32m     82\u001b[0m \u001b[1;33m\u001b[0m\u001b[0m\n\u001b[0;32m     83\u001b[0m     \u001b[1;32mdef\u001b[0m \u001b[0msubmit\u001b[0m\u001b[1;33m(\u001b[0m\u001b[0mself\u001b[0m\u001b[1;33m)\u001b[0m\u001b[1;33m:\u001b[0m\u001b[1;33m\u001b[0m\u001b[1;33m\u001b[0m\u001b[0m\n",
      "\u001b[1;32m~\\anaconda3\\lib\\site-packages\\selenium\\webdriver\\remote\\webelement.py\u001b[0m in \u001b[0;36m_execute\u001b[1;34m(self, command, params)\u001b[0m\n\u001b[0;32m    708\u001b[0m             \u001b[0mparams\u001b[0m \u001b[1;33m=\u001b[0m \u001b[1;33m{\u001b[0m\u001b[1;33m}\u001b[0m\u001b[1;33m\u001b[0m\u001b[1;33m\u001b[0m\u001b[0m\n\u001b[0;32m    709\u001b[0m         \u001b[0mparams\u001b[0m\u001b[1;33m[\u001b[0m\u001b[1;34m'id'\u001b[0m\u001b[1;33m]\u001b[0m \u001b[1;33m=\u001b[0m \u001b[0mself\u001b[0m\u001b[1;33m.\u001b[0m\u001b[0m_id\u001b[0m\u001b[1;33m\u001b[0m\u001b[1;33m\u001b[0m\u001b[0m\n\u001b[1;32m--> 710\u001b[1;33m         \u001b[1;32mreturn\u001b[0m \u001b[0mself\u001b[0m\u001b[1;33m.\u001b[0m\u001b[0m_parent\u001b[0m\u001b[1;33m.\u001b[0m\u001b[0mexecute\u001b[0m\u001b[1;33m(\u001b[0m\u001b[0mcommand\u001b[0m\u001b[1;33m,\u001b[0m \u001b[0mparams\u001b[0m\u001b[1;33m)\u001b[0m\u001b[1;33m\u001b[0m\u001b[1;33m\u001b[0m\u001b[0m\n\u001b[0m\u001b[0;32m    711\u001b[0m \u001b[1;33m\u001b[0m\u001b[0m\n\u001b[0;32m    712\u001b[0m     \u001b[1;32mdef\u001b[0m \u001b[0mfind_element\u001b[0m\u001b[1;33m(\u001b[0m\u001b[0mself\u001b[0m\u001b[1;33m,\u001b[0m \u001b[0mby\u001b[0m\u001b[1;33m=\u001b[0m\u001b[0mBy\u001b[0m\u001b[1;33m.\u001b[0m\u001b[0mID\u001b[0m\u001b[1;33m,\u001b[0m \u001b[0mvalue\u001b[0m\u001b[1;33m=\u001b[0m\u001b[1;32mNone\u001b[0m\u001b[1;33m)\u001b[0m\u001b[1;33m:\u001b[0m\u001b[1;33m\u001b[0m\u001b[1;33m\u001b[0m\u001b[0m\n",
      "\u001b[1;32m~\\anaconda3\\lib\\site-packages\\selenium\\webdriver\\remote\\webdriver.py\u001b[0m in \u001b[0;36mexecute\u001b[1;34m(self, driver_command, params)\u001b[0m\n\u001b[0;32m    423\u001b[0m         \u001b[0mresponse\u001b[0m \u001b[1;33m=\u001b[0m \u001b[0mself\u001b[0m\u001b[1;33m.\u001b[0m\u001b[0mcommand_executor\u001b[0m\u001b[1;33m.\u001b[0m\u001b[0mexecute\u001b[0m\u001b[1;33m(\u001b[0m\u001b[0mdriver_command\u001b[0m\u001b[1;33m,\u001b[0m \u001b[0mparams\u001b[0m\u001b[1;33m)\u001b[0m\u001b[1;33m\u001b[0m\u001b[1;33m\u001b[0m\u001b[0m\n\u001b[0;32m    424\u001b[0m         \u001b[1;32mif\u001b[0m \u001b[0mresponse\u001b[0m\u001b[1;33m:\u001b[0m\u001b[1;33m\u001b[0m\u001b[1;33m\u001b[0m\u001b[0m\n\u001b[1;32m--> 425\u001b[1;33m             \u001b[0mself\u001b[0m\u001b[1;33m.\u001b[0m\u001b[0merror_handler\u001b[0m\u001b[1;33m.\u001b[0m\u001b[0mcheck_response\u001b[0m\u001b[1;33m(\u001b[0m\u001b[0mresponse\u001b[0m\u001b[1;33m)\u001b[0m\u001b[1;33m\u001b[0m\u001b[1;33m\u001b[0m\u001b[0m\n\u001b[0m\u001b[0;32m    426\u001b[0m             response['value'] = self._unwrap_value(\n\u001b[0;32m    427\u001b[0m                 response.get('value', None))\n",
      "\u001b[1;32m~\\anaconda3\\lib\\site-packages\\selenium\\webdriver\\remote\\errorhandler.py\u001b[0m in \u001b[0;36mcheck_response\u001b[1;34m(self, response)\u001b[0m\n\u001b[0;32m    245\u001b[0m                 \u001b[0malert_text\u001b[0m \u001b[1;33m=\u001b[0m \u001b[0mvalue\u001b[0m\u001b[1;33m[\u001b[0m\u001b[1;34m'alert'\u001b[0m\u001b[1;33m]\u001b[0m\u001b[1;33m.\u001b[0m\u001b[0mget\u001b[0m\u001b[1;33m(\u001b[0m\u001b[1;34m'text'\u001b[0m\u001b[1;33m)\u001b[0m\u001b[1;33m\u001b[0m\u001b[1;33m\u001b[0m\u001b[0m\n\u001b[0;32m    246\u001b[0m             \u001b[1;32mraise\u001b[0m \u001b[0mexception_class\u001b[0m\u001b[1;33m(\u001b[0m\u001b[0mmessage\u001b[0m\u001b[1;33m,\u001b[0m \u001b[0mscreen\u001b[0m\u001b[1;33m,\u001b[0m \u001b[0mstacktrace\u001b[0m\u001b[1;33m,\u001b[0m \u001b[0malert_text\u001b[0m\u001b[1;33m)\u001b[0m  \u001b[1;31m# type: ignore[call-arg]  # mypy is not smart enough here\u001b[0m\u001b[1;33m\u001b[0m\u001b[1;33m\u001b[0m\u001b[0m\n\u001b[1;32m--> 247\u001b[1;33m         \u001b[1;32mraise\u001b[0m \u001b[0mexception_class\u001b[0m\u001b[1;33m(\u001b[0m\u001b[0mmessage\u001b[0m\u001b[1;33m,\u001b[0m \u001b[0mscreen\u001b[0m\u001b[1;33m,\u001b[0m \u001b[0mstacktrace\u001b[0m\u001b[1;33m)\u001b[0m\u001b[1;33m\u001b[0m\u001b[1;33m\u001b[0m\u001b[0m\n\u001b[0m\u001b[0;32m    248\u001b[0m \u001b[1;33m\u001b[0m\u001b[0m\n\u001b[0;32m    249\u001b[0m     \u001b[1;32mdef\u001b[0m \u001b[0m_value_or_default\u001b[0m\u001b[1;33m(\u001b[0m\u001b[0mself\u001b[0m\u001b[1;33m,\u001b[0m \u001b[0mobj\u001b[0m\u001b[1;33m:\u001b[0m \u001b[0mMapping\u001b[0m\u001b[1;33m[\u001b[0m\u001b[0m_KT\u001b[0m\u001b[1;33m,\u001b[0m \u001b[0m_VT\u001b[0m\u001b[1;33m]\u001b[0m\u001b[1;33m,\u001b[0m \u001b[0mkey\u001b[0m\u001b[1;33m:\u001b[0m \u001b[0m_KT\u001b[0m\u001b[1;33m,\u001b[0m \u001b[0mdefault\u001b[0m\u001b[1;33m:\u001b[0m \u001b[0m_VT\u001b[0m\u001b[1;33m)\u001b[0m \u001b[1;33m->\u001b[0m \u001b[0m_VT\u001b[0m\u001b[1;33m:\u001b[0m\u001b[1;33m\u001b[0m\u001b[1;33m\u001b[0m\u001b[0m\n",
      "\u001b[1;31mStaleElementReferenceException\u001b[0m: Message: stale element reference: element is not attached to the page document\n  (Session info: chrome=99.0.4844.84)\nStacktrace:\nBacktrace:\n\tOrdinal0 [0x006D9943+2595139]\n\tOrdinal0 [0x0066C9F1+2148849]\n\tOrdinal0 [0x00564528+1066280]\n\tOrdinal0 [0x00566E04+1076740]\n\tOrdinal0 [0x00566CBE+1076414]\n\tOrdinal0 [0x00566F50+1077072]\n\tOrdinal0 [0x0059290C+1255692]\n\tOrdinal0 [0x005879D6+1210838]\n\tOrdinal0 [0x005AB9EC+1358316]\n\tOrdinal0 [0x00587474+1209460]\n\tOrdinal0 [0x005ABC04+1358852]\n\tOrdinal0 [0x005BBAF2+1424114]\n\tOrdinal0 [0x005AB806+1357830]\n\tOrdinal0 [0x00586086+1204358]\n\tOrdinal0 [0x00586F96+1208214]\n\tGetHandleVerifier [0x0087B232+1658114]\n\tGetHandleVerifier [0x0093312C+2411516]\n\tGetHandleVerifier [0x0076F261+560433]\n\tGetHandleVerifier [0x0076E366+556598]\n\tOrdinal0 [0x0067286B+2173035]\n\tOrdinal0 [0x006775F8+2192888]\n\tOrdinal0 [0x006776E5+2193125]\n\tOrdinal0 [0x006811FC+2232828]\n\tBaseThreadInitThunk [0x75E5FA29+25]\n\tRtlGetAppContainerNamedObjectPath [0x77E87A7E+286]\n\tRtlGetAppContainerNamedObjectPath [0x77E87A4E+238]\n"
     ]
    }
   ],
   "source": [
    "next_btn.click()"
   ]
  },
  {
   "cell_type": "code",
   "execution_count": 130,
   "id": "27ce3a94",
   "metadata": {},
   "outputs": [
    {
     "data": {
      "text/plain": [
       "[<selenium.webdriver.remote.webelement.WebElement (session=\"3eecee8f45c19d663ee57aef4a2a645e\", element=\"0e12d372-b935-4a78-9070-8f2f09266f84\")>,\n",
       " <selenium.webdriver.remote.webelement.WebElement (session=\"3eecee8f45c19d663ee57aef4a2a645e\", element=\"dc1bb042-7cdb-47d4-8a13-dbd2517a2584\")>,\n",
       " <selenium.webdriver.remote.webelement.WebElement (session=\"3eecee8f45c19d663ee57aef4a2a645e\", element=\"2caa2500-6e80-4a2f-b469-6fff5e1ab5a0\")>,\n",
       " <selenium.webdriver.remote.webelement.WebElement (session=\"3eecee8f45c19d663ee57aef4a2a645e\", element=\"f62fce72-0981-48b4-8ef7-423b66a83248\")>,\n",
       " <selenium.webdriver.remote.webelement.WebElement (session=\"3eecee8f45c19d663ee57aef4a2a645e\", element=\"4552bf94-b952-4615-84fe-e279c2b6b356\")>,\n",
       " <selenium.webdriver.remote.webelement.WebElement (session=\"3eecee8f45c19d663ee57aef4a2a645e\", element=\"5a051bab-5ac7-4b69-8f2e-6ceacec48202\")>,\n",
       " <selenium.webdriver.remote.webelement.WebElement (session=\"3eecee8f45c19d663ee57aef4a2a645e\", element=\"6cca7555-55bc-41a8-a054-41be17be31af\")>,\n",
       " <selenium.webdriver.remote.webelement.WebElement (session=\"3eecee8f45c19d663ee57aef4a2a645e\", element=\"330ac31c-ff34-4996-b8bd-1b7c856a842f\")>,\n",
       " <selenium.webdriver.remote.webelement.WebElement (session=\"3eecee8f45c19d663ee57aef4a2a645e\", element=\"64dd5b50-a0ce-4490-8328-529513718b55\")>,\n",
       " <selenium.webdriver.remote.webelement.WebElement (session=\"3eecee8f45c19d663ee57aef4a2a645e\", element=\"2e662f19-67d6-4721-90fc-7fa759afd4e7\")>,\n",
       " <selenium.webdriver.remote.webelement.WebElement (session=\"3eecee8f45c19d663ee57aef4a2a645e\", element=\"49af7970-6d15-4990-bc2f-d77c585b130d\")>,\n",
       " <selenium.webdriver.remote.webelement.WebElement (session=\"3eecee8f45c19d663ee57aef4a2a645e\", element=\"9bef929d-111d-4f49-b62c-23874e28fc6d\")>,\n",
       " <selenium.webdriver.remote.webelement.WebElement (session=\"3eecee8f45c19d663ee57aef4a2a645e\", element=\"d651925e-e2cc-434b-9ea4-4b492deecd91\")>,\n",
       " <selenium.webdriver.remote.webelement.WebElement (session=\"3eecee8f45c19d663ee57aef4a2a645e\", element=\"f5324e10-363f-4668-be1c-9bf06e9b8254\")>,\n",
       " <selenium.webdriver.remote.webelement.WebElement (session=\"3eecee8f45c19d663ee57aef4a2a645e\", element=\"01a9dd37-f50f-4f36-978e-32a0ee66366d\")>,\n",
       " <selenium.webdriver.remote.webelement.WebElement (session=\"3eecee8f45c19d663ee57aef4a2a645e\", element=\"13a66b8b-766b-4110-91a7-f34bab57b51d\")>,\n",
       " <selenium.webdriver.remote.webelement.WebElement (session=\"3eecee8f45c19d663ee57aef4a2a645e\", element=\"fda42191-e5f5-4643-a908-c5733325c3f8\")>,\n",
       " <selenium.webdriver.remote.webelement.WebElement (session=\"3eecee8f45c19d663ee57aef4a2a645e\", element=\"28c661b7-5440-40b8-82c1-2ac03c2b4a16\")>,\n",
       " <selenium.webdriver.remote.webelement.WebElement (session=\"3eecee8f45c19d663ee57aef4a2a645e\", element=\"20466cf5-913c-4b81-9034-872b349704bc\")>,\n",
       " <selenium.webdriver.remote.webelement.WebElement (session=\"3eecee8f45c19d663ee57aef4a2a645e\", element=\"64d7ac7a-709b-48ed-8ecb-36cac3da73be\")>,\n",
       " <selenium.webdriver.remote.webelement.WebElement (session=\"3eecee8f45c19d663ee57aef4a2a645e\", element=\"3ffa5ac4-f1b0-403e-871c-6b8bac77d90e\")>,\n",
       " <selenium.webdriver.remote.webelement.WebElement (session=\"3eecee8f45c19d663ee57aef4a2a645e\", element=\"bcdbac3e-cb90-4974-8846-ecf07ce413fb\")>,\n",
       " <selenium.webdriver.remote.webelement.WebElement (session=\"3eecee8f45c19d663ee57aef4a2a645e\", element=\"13f8d141-0860-4d91-bb01-7bb931a06a4b\")>,\n",
       " <selenium.webdriver.remote.webelement.WebElement (session=\"3eecee8f45c19d663ee57aef4a2a645e\", element=\"1503ef43-6255-4fab-872f-ad10fc28ca04\")>,\n",
       " <selenium.webdriver.remote.webelement.WebElement (session=\"3eecee8f45c19d663ee57aef4a2a645e\", element=\"c0874be8-4545-4534-8d6f-edd32f62a957\")>,\n",
       " <selenium.webdriver.remote.webelement.WebElement (session=\"3eecee8f45c19d663ee57aef4a2a645e\", element=\"a6e2f6cf-984b-4f6b-a61d-58c439c09570\")>,\n",
       " <selenium.webdriver.remote.webelement.WebElement (session=\"3eecee8f45c19d663ee57aef4a2a645e\", element=\"22dc4acd-d72f-4b2c-b016-05399898182d\")>,\n",
       " <selenium.webdriver.remote.webelement.WebElement (session=\"3eecee8f45c19d663ee57aef4a2a645e\", element=\"ae314452-2aab-4dd5-8194-7c1b99272b3a\")>,\n",
       " <selenium.webdriver.remote.webelement.WebElement (session=\"3eecee8f45c19d663ee57aef4a2a645e\", element=\"4ef682b0-b697-4c41-8fb2-c6df39133945\")>,\n",
       " <selenium.webdriver.remote.webelement.WebElement (session=\"3eecee8f45c19d663ee57aef4a2a645e\", element=\"6adc605e-517d-4df1-bac0-57826f42f249\")>,\n",
       " <selenium.webdriver.remote.webelement.WebElement (session=\"3eecee8f45c19d663ee57aef4a2a645e\", element=\"6f92c217-d2a7-4401-9489-2ac5d3eebdc2\")>,\n",
       " <selenium.webdriver.remote.webelement.WebElement (session=\"3eecee8f45c19d663ee57aef4a2a645e\", element=\"31312ba8-5ca2-4b8c-b72d-f71b4db62d24\")>,\n",
       " <selenium.webdriver.remote.webelement.WebElement (session=\"3eecee8f45c19d663ee57aef4a2a645e\", element=\"a08bc061-ec17-4037-8534-ce90786d2fb4\")>,\n",
       " <selenium.webdriver.remote.webelement.WebElement (session=\"3eecee8f45c19d663ee57aef4a2a645e\", element=\"88151458-9695-4f09-9087-9097ccef6786\")>,\n",
       " <selenium.webdriver.remote.webelement.WebElement (session=\"3eecee8f45c19d663ee57aef4a2a645e\", element=\"eb40889a-2941-43d7-bc63-9add73bac300\")>,\n",
       " <selenium.webdriver.remote.webelement.WebElement (session=\"3eecee8f45c19d663ee57aef4a2a645e\", element=\"70164138-9166-46ef-88db-5b453dc5bbb5\")>,\n",
       " <selenium.webdriver.remote.webelement.WebElement (session=\"3eecee8f45c19d663ee57aef4a2a645e\", element=\"5bcb8eae-a1c0-4261-b993-d1025c3ede80\")>,\n",
       " <selenium.webdriver.remote.webelement.WebElement (session=\"3eecee8f45c19d663ee57aef4a2a645e\", element=\"37d7b403-ed36-45e3-8ee4-921b106da1b6\")>,\n",
       " <selenium.webdriver.remote.webelement.WebElement (session=\"3eecee8f45c19d663ee57aef4a2a645e\", element=\"882b7532-2caa-4afb-babe-24a09c32918b\")>,\n",
       " <selenium.webdriver.remote.webelement.WebElement (session=\"3eecee8f45c19d663ee57aef4a2a645e\", element=\"f65cb90b-b63c-49ad-80db-e6b3fbd38a39\")>,\n",
       " <selenium.webdriver.remote.webelement.WebElement (session=\"3eecee8f45c19d663ee57aef4a2a645e\", element=\"10fd8e25-f0d8-4edc-9df6-d5ee445207de\")>,\n",
       " <selenium.webdriver.remote.webelement.WebElement (session=\"3eecee8f45c19d663ee57aef4a2a645e\", element=\"ed415f4a-8b5b-4997-b190-73d9226f0212\")>,\n",
       " <selenium.webdriver.remote.webelement.WebElement (session=\"3eecee8f45c19d663ee57aef4a2a645e\", element=\"5fccd61f-2f37-4610-bc9b-74e10155a55b\")>,\n",
       " <selenium.webdriver.remote.webelement.WebElement (session=\"3eecee8f45c19d663ee57aef4a2a645e\", element=\"8e797567-76b1-4f98-b5d3-a9cd67f58591\")>,\n",
       " <selenium.webdriver.remote.webelement.WebElement (session=\"3eecee8f45c19d663ee57aef4a2a645e\", element=\"3ffd9ec7-9acf-4daa-bc95-4ef575bd6269\")>,\n",
       " <selenium.webdriver.remote.webelement.WebElement (session=\"3eecee8f45c19d663ee57aef4a2a645e\", element=\"d8e5a54f-a0f5-480b-bd13-f6ec1a8c560d\")>,\n",
       " <selenium.webdriver.remote.webelement.WebElement (session=\"3eecee8f45c19d663ee57aef4a2a645e\", element=\"0bca4db9-9534-406c-8fe1-30fff5bcb041\")>,\n",
       " <selenium.webdriver.remote.webelement.WebElement (session=\"3eecee8f45c19d663ee57aef4a2a645e\", element=\"c5488f43-741e-4dbc-b533-b012d343cc75\")>,\n",
       " <selenium.webdriver.remote.webelement.WebElement (session=\"3eecee8f45c19d663ee57aef4a2a645e\", element=\"fbbd6df6-a0d4-4665-aff2-50b5ed18c6c5\")>,\n",
       " <selenium.webdriver.remote.webelement.WebElement (session=\"3eecee8f45c19d663ee57aef4a2a645e\", element=\"eda0346e-beee-4422-9815-075b96813b2b\")>,\n",
       " <selenium.webdriver.remote.webelement.WebElement (session=\"3eecee8f45c19d663ee57aef4a2a645e\", element=\"d36c1097-01e7-425c-ab41-711b6f341c3c\")>,\n",
       " <selenium.webdriver.remote.webelement.WebElement (session=\"3eecee8f45c19d663ee57aef4a2a645e\", element=\"659a5952-2021-4969-884a-e223d7e802e0\")>,\n",
       " <selenium.webdriver.remote.webelement.WebElement (session=\"3eecee8f45c19d663ee57aef4a2a645e\", element=\"6b279b6d-d829-46fd-956d-e2e8d513bcc2\")>,\n",
       " <selenium.webdriver.remote.webelement.WebElement (session=\"3eecee8f45c19d663ee57aef4a2a645e\", element=\"c4fb5ec2-cb62-443c-bffd-a7b4e472793d\")>,\n",
       " <selenium.webdriver.remote.webelement.WebElement (session=\"3eecee8f45c19d663ee57aef4a2a645e\", element=\"9acacb8b-817c-4a1b-b4a1-6ccbc091b03c\")>,\n",
       " <selenium.webdriver.remote.webelement.WebElement (session=\"3eecee8f45c19d663ee57aef4a2a645e\", element=\"3e378bec-8885-43d3-8377-b011f042914f\")>,\n",
       " <selenium.webdriver.remote.webelement.WebElement (session=\"3eecee8f45c19d663ee57aef4a2a645e\", element=\"3f24eff5-1bbf-4703-916d-255c8a559946\")>,\n",
       " <selenium.webdriver.remote.webelement.WebElement (session=\"3eecee8f45c19d663ee57aef4a2a645e\", element=\"484b71dc-b240-415f-aa5d-ee66460ee614\")>,\n",
       " <selenium.webdriver.remote.webelement.WebElement (session=\"3eecee8f45c19d663ee57aef4a2a645e\", element=\"cdc576a8-6307-433b-99ec-644eeb496955\")>,\n",
       " <selenium.webdriver.remote.webelement.WebElement (session=\"3eecee8f45c19d663ee57aef4a2a645e\", element=\"9d665eaf-ccf2-4ace-bd46-cb3471d50adf\")>]"
      ]
     },
     "execution_count": 130,
     "metadata": {},
     "output_type": "execute_result"
    }
   ],
   "source": [
    "title_tags = driver.find_elements_by_xpath('//span[@class=\"a-size-base-plus a-color-base a-text-normal\"]')\n",
    "len(title_tags)\n",
    "title_tags"
   ]
  },
  {
   "cell_type": "code",
   "execution_count": 131,
   "id": "fbc151b1",
   "metadata": {},
   "outputs": [
    {
     "data": {
      "text/plain": [
       "['Vault ST1 Premium Electric Guitar - Metallic Blue',\n",
       " 'Vault EA40 41 inch Premium Spruce-Top Cutaway Acoustic Guitar',\n",
       " 'Festra 38C, 38 Inch Acoustic Guitar Kit with Bag, Strap, One Pack Strings And 2 Picks (Black) (Acoustic 38C (38 Inch) Guitar Kit, Blueburst)',\n",
       " 'Festra R-34, 34 Inch Acoustic Guitar Kit Inbuilt Truss Rod, with Bag, Belt & One Pack Strings & Picks (Natural)',\n",
       " 'Acoustic Guitar Linden Wood, Rosewood Linden Wood Right Hand Orientation (Antique Natural)',\n",
       " 'Fender CD 60 Dread V3 DS 6 String Acoustic Guitar - Walnut Fretboard-Natural',\n",
       " 'Ortega pink electric acoustic bass guitar 6 string baby kid electric guitar',\n",
       " 'Fender 370910506 Squier MM Stratocaster Electric Guitar - Black with Maple Neck',\n",
       " 'Epiphone Les Paul Muse 6 String Right Handed Electric Guitar, Wanderlust Green Metallic',\n",
       " 'Intern INT-38C-RD-G Cutaway Right Handed Acoustic Guitar Kit, With Bag, Strings, Pick And Strap (Red, 6 Strings)',\n",
       " 'Epiphone Les Paul Studio LT Electric Guitar, Heritage Cherry Sunburst (ENPTHSNH1)',\n",
       " 'Granada, Acoustic Guitar, Dreadnought PRLD-14C-F -Black',\n",
       " 'Kadence, Chronicle Series Electric Bass Guitar, Natural Ash Wood with P-J Pickup, 2 Tone and 2 Volume Control',\n",
       " 'Epiphone Les Paul Classic 6 String Right Handed Electric Guitar, Heritage Cherry Sunburst',\n",
       " 'Yamaha FX280 Semi acoustic Dreadnought Guitar with Bag (Natural)',\n",
       " 'Ibanez Acoustic Guitar MD39C Right Handed Cutaway Guitar - Sunburst With Bag, Belt, Plectrums Complete Pack.',\n",
       " 'Yamaha FSX80C Semi Acoustic Cutaway Guitar with Bag (Natural)',\n",
       " 'Ibanez MD39C-NT Acoustic Guitar (Natural)',\n",
       " 'Fender SA 135C 39 Inch 6 String Cutaway Acoustic Guitar - Hardwood Fretboard - Natural',\n",
       " 'Epiphone SG Muse 6 String Right Handed Electric Guitar, Inspired by Gibson Series, Radio Blue Metallic',\n",
       " 'Cort AD810 Dreadnought Acoustic Guitar with Gig Bag,Tuner,Picks and Strap (Natural Bundle)',\n",
       " 'Blueberry B-D38, 38\" Acoustic Guitar Kit Inbuilt Truss Rod with Bag, Strap, One Pack Strings And Picks (Black)',\n",
       " 'Blueberry B-40, 40\" Acoustic Guitar Kit with Bag,Belt, One Pack Strings & Picks (Black)',\n",
       " 'Blueberry 38C IN TrussRod Acoustic Guitar Kit with Bag, Belt & Picks (Sunburst)',\n",
       " 'Kadence Frontier Series, Semi Acoustic Guitar With Die Cast Keys (Bag,Strap,Strings And 3 Picks) (Brown)',\n",
       " 'JUAREZ JRZ38CTR/BK 38 Inch Acoustic Guitar with Dual Action Truss Rod, Bag, Picks, Allen Key, Extra String Set, Black',\n",
       " 'PRS Guitars Acoustic Electric Guitar, AX20E Special India Model w/Fishman Pickup -Natural AXM20EGB,AXM20EGB NA',\n",
       " 'Yamaha FS100C Acoustic Guitar, Natural',\n",
       " 'Yamaha TRBX174 4-String Electric Bass Guitar - Dark Blue Metallic',\n",
       " 'Yamaha F310 Acoustic Guitar, Natural',\n",
       " 'Fender Squier 0370005506 Bullet Fat Stratocaster 6-Strings Electric Guitar, Right-Handed, Black, Rosewood Fretboard',\n",
       " 'JUAREZ Arpeggio 99.06 cm (39 Inch) Acoustic Guitar Kit, Spruce Top, Rosewood Fretboard & Bridge, Truss Rod, Chrome Die Cast Machine Tuners, Black',\n",
       " 'Kadence Guitar Acoustica Series, 41” Jumbo Size 6-strings Acoustic Guitar, Spruce body with Pick Guard A311 with bag',\n",
       " 'Epiphone Les Paul Classic 6 String Right Handed Electric Guitar, Ebony',\n",
       " 'Kadence Acoustica 34” Acoustic Guitar A03 with bag',\n",
       " 'Fender Bullet-HSS-BSB 0370005532 Right Handed Squier Bullet Strat with Tremolo (Brown Sunburst)',\n",
       " 'Juârez Acoustic Guitar, 38 Inch Cutaway, JRZ38C with Bag, Strings, Pick and Strap, Red',\n",
       " 'Epiphone Les Paul Standard 60s 6 String Right Handed Electric Guitar, Inspired by Gibson Series, Bourbon Burst',\n",
       " 'Kadence Guitar 36” Acoustica Series, Electric Acoustic Guitar, Ash Wood with Pickup and Inbuilt tuner Travel GUitar Small Size for Kids and Adult (A06 36\")',\n",
       " 'Fender CD 60 Dread V3 DS 6 String Acoustic Guitar - Walnut Fretboard-Sunburst',\n",
       " 'Yamaha F-310 Natural, 6-Strings Natural Acoustic Guitar With Gig-Bag, Polishing Cloth And E-Book',\n",
       " 'JUAREZ Arpeggio 39 Inch Acoustic Guitar Kit, Spruce Top, Rosewood Fretboard & Bridge, Truss Rod, Chrome Die Cast Machine Tuners, Sunburst',\n",
       " 'Vault Traveller 34 Inch Acoustic Guitar With Bag, Strap, Strings, Polishing Cloth, String Winder and Picks - Natural Gloss',\n",
       " 'Epiphone SG Muse 6 String Right Handed Electric Guitar, Inspired by Gibson Series, Pearl White Metallic',\n",
       " 'Kadence, Chronicle Series Electric Bass Guitar, Black Ash Wood with P-J Pickup, 2 Tone and 2 Volume Control',\n",
       " 'JUAREZ Arpeggio Guitar JRB40LN-3TS',\n",
       " 'YAMAHA FS80C NATURAL CONCERT CUTAWAY GUITAR',\n",
       " 'Vault ST1 Strat Style 6 String Electric Guitar- Sunburst',\n",
       " 'Yamaha FS100C Acoustic Guitar Concert body With Sponge Bag, Belt & Plectrums.',\n",
       " 'Yamaha Electric Guitar Pacifica PAC012 With Gig Bag; Belt & Plectrums Combo Pack',\n",
       " 'Fender CD-60SCE Dreadnought All Mahogany Electro-Acoustic Guitar',\n",
       " 'JUAREZ Arpeggio 99.06 cm (39 Inch) Semi-Acoustic Guitar Kit, Spruce Top, Rosewood Fretboard & Bridge, Truss Rod, 4 Band EQ, Chrome Die Cast Machine Tuners, Sunburst',\n",
       " 'Givson Monalisa-B Electric Hawaiian Guitar',\n",
       " 'Yamaha F310 Acoustic Guitar, Tobacco Brown Sunburst',\n",
       " 'Hovner Carlton Special Quality Rosewood Fretboard Blue Semi Acoustic Guitar With Bag,Strap,1 Set of Extra Strings and 2 Picks By K-Retail (Blue)',\n",
       " 'Fender CD 60 Dread V3 DS 6 String Acoustic Guitar - Walnut Fretboard-Black',\n",
       " 'Kajal Enterprise 4-String Acoustic Learning Guitar Toy Musical Instrument Educational Guitar Toy for Beginners Kids Child (Brown)']"
      ]
     },
     "execution_count": 131,
     "metadata": {},
     "output_type": "execute_result"
    }
   ],
   "source": [
    "product_titles =[]\n",
    "\n",
    "for i in title_tags:\n",
    "    product_titles.append(i.text)\n",
    "len(product_titles)\n",
    "product_titles[0:57]"
   ]
  },
  {
   "cell_type": "code",
   "execution_count": 132,
   "id": "f1965506",
   "metadata": {},
   "outputs": [
    {
     "data": {
      "text/plain": [
       "[<selenium.webdriver.remote.webelement.WebElement (session=\"3eecee8f45c19d663ee57aef4a2a645e\", element=\"311fa687-b1d7-4d1e-843e-4c780982617c\")>,\n",
       " <selenium.webdriver.remote.webelement.WebElement (session=\"3eecee8f45c19d663ee57aef4a2a645e\", element=\"e7a4e940-7c65-4797-956f-50aaa0526974\")>,\n",
       " <selenium.webdriver.remote.webelement.WebElement (session=\"3eecee8f45c19d663ee57aef4a2a645e\", element=\"8ab4716a-fdd6-4d7e-8f43-cf8fec61e0c9\")>,\n",
       " <selenium.webdriver.remote.webelement.WebElement (session=\"3eecee8f45c19d663ee57aef4a2a645e\", element=\"3a450748-57c1-42d3-b7b2-2922a051945c\")>,\n",
       " <selenium.webdriver.remote.webelement.WebElement (session=\"3eecee8f45c19d663ee57aef4a2a645e\", element=\"aebd1f64-d826-46cd-9234-3022a90f5878\")>,\n",
       " <selenium.webdriver.remote.webelement.WebElement (session=\"3eecee8f45c19d663ee57aef4a2a645e\", element=\"224ca04e-0842-47f9-b576-a93076f73803\")>,\n",
       " <selenium.webdriver.remote.webelement.WebElement (session=\"3eecee8f45c19d663ee57aef4a2a645e\", element=\"b63e4069-653a-43ab-b6bd-96646bafb322\")>,\n",
       " <selenium.webdriver.remote.webelement.WebElement (session=\"3eecee8f45c19d663ee57aef4a2a645e\", element=\"aa57f52d-8318-4fd5-9df7-e52953e62597\")>,\n",
       " <selenium.webdriver.remote.webelement.WebElement (session=\"3eecee8f45c19d663ee57aef4a2a645e\", element=\"22cf17bd-1610-4325-9893-4cbd671fb47e\")>,\n",
       " <selenium.webdriver.remote.webelement.WebElement (session=\"3eecee8f45c19d663ee57aef4a2a645e\", element=\"948d5131-1e7a-4b61-bd64-0e498c031390\")>,\n",
       " <selenium.webdriver.remote.webelement.WebElement (session=\"3eecee8f45c19d663ee57aef4a2a645e\", element=\"6d4311f6-eec6-4b04-8962-203e04faddcd\")>,\n",
       " <selenium.webdriver.remote.webelement.WebElement (session=\"3eecee8f45c19d663ee57aef4a2a645e\", element=\"27b6adf1-c061-453d-ae4b-19fe114b5c4c\")>,\n",
       " <selenium.webdriver.remote.webelement.WebElement (session=\"3eecee8f45c19d663ee57aef4a2a645e\", element=\"5f051aa6-c9a8-49f2-87af-90a443d68618\")>,\n",
       " <selenium.webdriver.remote.webelement.WebElement (session=\"3eecee8f45c19d663ee57aef4a2a645e\", element=\"798c789d-990f-45f9-af6f-404786da95ac\")>,\n",
       " <selenium.webdriver.remote.webelement.WebElement (session=\"3eecee8f45c19d663ee57aef4a2a645e\", element=\"a7ab176d-6639-44aa-ae4a-b84a17c7762a\")>,\n",
       " <selenium.webdriver.remote.webelement.WebElement (session=\"3eecee8f45c19d663ee57aef4a2a645e\", element=\"35ff9f1a-e037-4f58-925e-aafb53187a3c\")>,\n",
       " <selenium.webdriver.remote.webelement.WebElement (session=\"3eecee8f45c19d663ee57aef4a2a645e\", element=\"73b3a169-e2b0-4472-b796-1e4040197105\")>,\n",
       " <selenium.webdriver.remote.webelement.WebElement (session=\"3eecee8f45c19d663ee57aef4a2a645e\", element=\"125bc09e-28fd-43ce-90d4-c64aa712315b\")>,\n",
       " <selenium.webdriver.remote.webelement.WebElement (session=\"3eecee8f45c19d663ee57aef4a2a645e\", element=\"cdce31ac-5b85-48ec-a53c-911d15c81992\")>,\n",
       " <selenium.webdriver.remote.webelement.WebElement (session=\"3eecee8f45c19d663ee57aef4a2a645e\", element=\"c943db99-80bb-4e3a-84c4-6a9c6dd4ebe0\")>,\n",
       " <selenium.webdriver.remote.webelement.WebElement (session=\"3eecee8f45c19d663ee57aef4a2a645e\", element=\"32860a46-dbb4-4da6-893c-40123a84c031\")>,\n",
       " <selenium.webdriver.remote.webelement.WebElement (session=\"3eecee8f45c19d663ee57aef4a2a645e\", element=\"53cf269b-deb3-4efc-abab-a162c5a2b720\")>,\n",
       " <selenium.webdriver.remote.webelement.WebElement (session=\"3eecee8f45c19d663ee57aef4a2a645e\", element=\"211bc182-b8a7-4840-a787-42cfd1658a2e\")>,\n",
       " <selenium.webdriver.remote.webelement.WebElement (session=\"3eecee8f45c19d663ee57aef4a2a645e\", element=\"27661b5d-9732-41f8-9e8e-624f6d13350d\")>,\n",
       " <selenium.webdriver.remote.webelement.WebElement (session=\"3eecee8f45c19d663ee57aef4a2a645e\", element=\"a0d4c2ca-c818-495c-9883-b76fd8cdf7fb\")>,\n",
       " <selenium.webdriver.remote.webelement.WebElement (session=\"3eecee8f45c19d663ee57aef4a2a645e\", element=\"14ba569d-9739-4830-8a01-ed7c8bb7b87a\")>,\n",
       " <selenium.webdriver.remote.webelement.WebElement (session=\"3eecee8f45c19d663ee57aef4a2a645e\", element=\"e9156ed5-38e5-413b-b799-23ad32ca8aab\")>,\n",
       " <selenium.webdriver.remote.webelement.WebElement (session=\"3eecee8f45c19d663ee57aef4a2a645e\", element=\"2320eb3a-5c76-4f8f-8a72-6379fe894afe\")>,\n",
       " <selenium.webdriver.remote.webelement.WebElement (session=\"3eecee8f45c19d663ee57aef4a2a645e\", element=\"fb661b52-51d2-466c-99b1-9bedd1f8f150\")>,\n",
       " <selenium.webdriver.remote.webelement.WebElement (session=\"3eecee8f45c19d663ee57aef4a2a645e\", element=\"14adbd52-e795-4639-b182-80ce4955a762\")>,\n",
       " <selenium.webdriver.remote.webelement.WebElement (session=\"3eecee8f45c19d663ee57aef4a2a645e\", element=\"812b02cf-a7eb-40a8-a00b-3844f3500639\")>,\n",
       " <selenium.webdriver.remote.webelement.WebElement (session=\"3eecee8f45c19d663ee57aef4a2a645e\", element=\"3f25869d-9964-4451-a23f-442c933600b2\")>,\n",
       " <selenium.webdriver.remote.webelement.WebElement (session=\"3eecee8f45c19d663ee57aef4a2a645e\", element=\"a1509d89-3a00-49ec-b2c1-f79879eddb4a\")>,\n",
       " <selenium.webdriver.remote.webelement.WebElement (session=\"3eecee8f45c19d663ee57aef4a2a645e\", element=\"47487c77-0afa-4581-a5d6-7506a8a9c0f7\")>,\n",
       " <selenium.webdriver.remote.webelement.WebElement (session=\"3eecee8f45c19d663ee57aef4a2a645e\", element=\"b7722f24-cb6c-49b1-9662-139fcb3ed937\")>,\n",
       " <selenium.webdriver.remote.webelement.WebElement (session=\"3eecee8f45c19d663ee57aef4a2a645e\", element=\"f61e0071-795e-47df-9ecd-518a2c245427\")>,\n",
       " <selenium.webdriver.remote.webelement.WebElement (session=\"3eecee8f45c19d663ee57aef4a2a645e\", element=\"3b0ca9df-1cfa-4965-8a4d-9c24f74b2221\")>,\n",
       " <selenium.webdriver.remote.webelement.WebElement (session=\"3eecee8f45c19d663ee57aef4a2a645e\", element=\"8f812b6f-d520-41ae-b4af-7606637f8bc3\")>,\n",
       " <selenium.webdriver.remote.webelement.WebElement (session=\"3eecee8f45c19d663ee57aef4a2a645e\", element=\"504d5dae-0b87-46d1-9a13-43ba91e976d9\")>,\n",
       " <selenium.webdriver.remote.webelement.WebElement (session=\"3eecee8f45c19d663ee57aef4a2a645e\", element=\"aba22c0a-e36d-4813-9d64-c3be24eaebef\")>,\n",
       " <selenium.webdriver.remote.webelement.WebElement (session=\"3eecee8f45c19d663ee57aef4a2a645e\", element=\"ab4f286a-3b90-4189-a7d5-e958e5f133d8\")>,\n",
       " <selenium.webdriver.remote.webelement.WebElement (session=\"3eecee8f45c19d663ee57aef4a2a645e\", element=\"31fa9dda-f16f-4bf2-a1f4-f65669be50fb\")>,\n",
       " <selenium.webdriver.remote.webelement.WebElement (session=\"3eecee8f45c19d663ee57aef4a2a645e\", element=\"91d818c6-09e7-4695-9b45-0d5a7db47dce\")>,\n",
       " <selenium.webdriver.remote.webelement.WebElement (session=\"3eecee8f45c19d663ee57aef4a2a645e\", element=\"de616fa7-771b-4185-bd62-a03c749bd1a8\")>,\n",
       " <selenium.webdriver.remote.webelement.WebElement (session=\"3eecee8f45c19d663ee57aef4a2a645e\", element=\"3a566cde-f675-4657-bf39-5310fcedd3cf\")>,\n",
       " <selenium.webdriver.remote.webelement.WebElement (session=\"3eecee8f45c19d663ee57aef4a2a645e\", element=\"3a03e79e-fde7-42c2-9e71-c4090f8d0ad0\")>,\n",
       " <selenium.webdriver.remote.webelement.WebElement (session=\"3eecee8f45c19d663ee57aef4a2a645e\", element=\"504cef8e-af1f-4610-b593-87f2c5581cb6\")>,\n",
       " <selenium.webdriver.remote.webelement.WebElement (session=\"3eecee8f45c19d663ee57aef4a2a645e\", element=\"fedd2139-beb2-4fd6-8a2a-164f38645db8\")>,\n",
       " <selenium.webdriver.remote.webelement.WebElement (session=\"3eecee8f45c19d663ee57aef4a2a645e\", element=\"96759490-c89b-454d-bcf0-270142465ffc\")>,\n",
       " <selenium.webdriver.remote.webelement.WebElement (session=\"3eecee8f45c19d663ee57aef4a2a645e\", element=\"77e2cdd2-e598-4d64-b863-2c734a4d0f60\")>,\n",
       " <selenium.webdriver.remote.webelement.WebElement (session=\"3eecee8f45c19d663ee57aef4a2a645e\", element=\"26a5280d-a954-4c0e-8b14-2d2732c4f8cc\")>,\n",
       " <selenium.webdriver.remote.webelement.WebElement (session=\"3eecee8f45c19d663ee57aef4a2a645e\", element=\"f321affe-be7e-4a3e-ac6d-023b5c1b1d00\")>,\n",
       " <selenium.webdriver.remote.webelement.WebElement (session=\"3eecee8f45c19d663ee57aef4a2a645e\", element=\"e89c67fc-507e-4f81-a021-834ec0b8f573\")>,\n",
       " <selenium.webdriver.remote.webelement.WebElement (session=\"3eecee8f45c19d663ee57aef4a2a645e\", element=\"d2eeb473-9c27-4214-8498-f38456e50f18\")>,\n",
       " <selenium.webdriver.remote.webelement.WebElement (session=\"3eecee8f45c19d663ee57aef4a2a645e\", element=\"5dd245f5-0384-439c-b3b3-023b42ea6982\")>,\n",
       " <selenium.webdriver.remote.webelement.WebElement (session=\"3eecee8f45c19d663ee57aef4a2a645e\", element=\"6280d4e9-66d5-4f46-863d-a047ef96262f\")>,\n",
       " <selenium.webdriver.remote.webelement.WebElement (session=\"3eecee8f45c19d663ee57aef4a2a645e\", element=\"77237066-af04-4c2f-adef-17b5488d9144\")>,\n",
       " <selenium.webdriver.remote.webelement.WebElement (session=\"3eecee8f45c19d663ee57aef4a2a645e\", element=\"35d53268-8f9f-436d-9572-10336b96d21e\")>]"
      ]
     },
     "execution_count": 132,
     "metadata": {},
     "output_type": "execute_result"
    }
   ],
   "source": [
    "price_tags = driver.find_elements_by_xpath('//span[@class=\"a-price-whole\"]')\n",
    "price_tags"
   ]
  },
  {
   "cell_type": "code",
   "execution_count": 133,
   "id": "0713f6f4",
   "metadata": {},
   "outputs": [
    {
     "data": {
      "text/plain": [
       "['7,599',\n",
       " '6,890',\n",
       " '2,695',\n",
       " '2,995',\n",
       " '21,000',\n",
       " '12,906',\n",
       " '12,426',\n",
       " '9,616',\n",
       " '50,681',\n",
       " '2,690',\n",
       " '25,065',\n",
       " '6,014',\n",
       " '12,999',\n",
       " '51,138',\n",
       " '11,000',\n",
       " '8,799',\n",
       " '12,890',\n",
       " '8,199',\n",
       " '9,260',\n",
       " '43,832',\n",
       " '10,150',\n",
       " '2,795',\n",
       " '3,990',\n",
       " '2,895',\n",
       " '5,999',\n",
       " '3,024',\n",
       " '43,626',\n",
       " '9,990',\n",
       " '17,989',\n",
       " '9,490',\n",
       " '12,899',\n",
       " '5,687',\n",
       " '7,499',\n",
       " '51,138',\n",
       " '5,248',\n",
       " '12,461',\n",
       " '2,649',\n",
       " '61,640',\n",
       " '7,348',\n",
       " '11,040',\n",
       " '10,699',\n",
       " '5,687',\n",
       " '3,999',\n",
       " '43,832',\n",
       " '12,999',\n",
       " '5,039',\n",
       " '7,599',\n",
       " '12,831',\n",
       " '17,999',\n",
       " '29,782',\n",
       " '6,191',\n",
       " '12,999',\n",
       " '4,490',\n",
       " '13,299',\n",
       " '939',\n",
       " '1,199',\n",
       " '2,695']"
      ]
     },
     "execution_count": 133,
     "metadata": {},
     "output_type": "execute_result"
    }
   ],
   "source": [
    "prices = []\n",
    "for i in price_tags:\n",
    "    prices.append(i.text)\n",
    "prices[0:57]"
   ]
  },
  {
   "cell_type": "code",
   "execution_count": 134,
   "id": "51041271",
   "metadata": {},
   "outputs": [
    {
     "data": {
      "text/plain": [
       "[<selenium.webdriver.remote.webelement.WebElement (session=\"3eecee8f45c19d663ee57aef4a2a645e\", element=\"0c31da85-f80c-4961-95c2-d4cd29c3bf97\")>,\n",
       " <selenium.webdriver.remote.webelement.WebElement (session=\"3eecee8f45c19d663ee57aef4a2a645e\", element=\"90ca5444-9732-4bcc-ab0f-80c81047e4fb\")>,\n",
       " <selenium.webdriver.remote.webelement.WebElement (session=\"3eecee8f45c19d663ee57aef4a2a645e\", element=\"16df5b13-c642-4e43-ba4f-857d5468ccc1\")>,\n",
       " <selenium.webdriver.remote.webelement.WebElement (session=\"3eecee8f45c19d663ee57aef4a2a645e\", element=\"caba81b4-f11a-4917-99bf-df62ad1957ba\")>,\n",
       " <selenium.webdriver.remote.webelement.WebElement (session=\"3eecee8f45c19d663ee57aef4a2a645e\", element=\"22a48474-e2cd-4c99-96a1-682661f3891d\")>,\n",
       " <selenium.webdriver.remote.webelement.WebElement (session=\"3eecee8f45c19d663ee57aef4a2a645e\", element=\"0f2c56e6-225c-4c03-b117-ec834d4d8f2d\")>,\n",
       " <selenium.webdriver.remote.webelement.WebElement (session=\"3eecee8f45c19d663ee57aef4a2a645e\", element=\"c076853f-bafa-4af6-8fe9-b8d3694764e1\")>,\n",
       " <selenium.webdriver.remote.webelement.WebElement (session=\"3eecee8f45c19d663ee57aef4a2a645e\", element=\"bf93c3f1-8d1b-49b3-a8aa-4b4484c2adcf\")>,\n",
       " <selenium.webdriver.remote.webelement.WebElement (session=\"3eecee8f45c19d663ee57aef4a2a645e\", element=\"4412bde6-0207-425e-ab22-41ffd9c95e1c\")>,\n",
       " <selenium.webdriver.remote.webelement.WebElement (session=\"3eecee8f45c19d663ee57aef4a2a645e\", element=\"ac52798e-f0d1-407d-a678-e166a4761960\")>,\n",
       " <selenium.webdriver.remote.webelement.WebElement (session=\"3eecee8f45c19d663ee57aef4a2a645e\", element=\"72116d0a-64e9-46a8-ab94-6b91e4e05aca\")>,\n",
       " <selenium.webdriver.remote.webelement.WebElement (session=\"3eecee8f45c19d663ee57aef4a2a645e\", element=\"1109511b-f827-40b1-8727-61a1db9e98f2\")>,\n",
       " <selenium.webdriver.remote.webelement.WebElement (session=\"3eecee8f45c19d663ee57aef4a2a645e\", element=\"b9cdfbdb-4d28-467b-9d29-17d3f9b32f23\")>,\n",
       " <selenium.webdriver.remote.webelement.WebElement (session=\"3eecee8f45c19d663ee57aef4a2a645e\", element=\"a4313668-77b8-494b-bba0-32712f260030\")>,\n",
       " <selenium.webdriver.remote.webelement.WebElement (session=\"3eecee8f45c19d663ee57aef4a2a645e\", element=\"3324e157-fe76-4da5-b0b0-c6424423d818\")>,\n",
       " <selenium.webdriver.remote.webelement.WebElement (session=\"3eecee8f45c19d663ee57aef4a2a645e\", element=\"1a588130-deb8-4fea-a35d-f0a9d25a0301\")>,\n",
       " <selenium.webdriver.remote.webelement.WebElement (session=\"3eecee8f45c19d663ee57aef4a2a645e\", element=\"47f9abe7-2c0d-449a-85c9-83a18c4e7165\")>,\n",
       " <selenium.webdriver.remote.webelement.WebElement (session=\"3eecee8f45c19d663ee57aef4a2a645e\", element=\"dfdaf3aa-884e-4668-833b-142d901d74ab\")>,\n",
       " <selenium.webdriver.remote.webelement.WebElement (session=\"3eecee8f45c19d663ee57aef4a2a645e\", element=\"5b633c9a-30d9-40f8-8bcb-f5a762a046a8\")>,\n",
       " <selenium.webdriver.remote.webelement.WebElement (session=\"3eecee8f45c19d663ee57aef4a2a645e\", element=\"e8787b41-29fa-4183-9da8-4fa44cbabfc2\")>,\n",
       " <selenium.webdriver.remote.webelement.WebElement (session=\"3eecee8f45c19d663ee57aef4a2a645e\", element=\"09cc661a-03c5-4a3e-8313-383e79d65e6a\")>,\n",
       " <selenium.webdriver.remote.webelement.WebElement (session=\"3eecee8f45c19d663ee57aef4a2a645e\", element=\"0cb91265-2556-4a26-9e7c-398232daa173\")>,\n",
       " <selenium.webdriver.remote.webelement.WebElement (session=\"3eecee8f45c19d663ee57aef4a2a645e\", element=\"5560c38d-feab-436c-af01-01a02c4885b2\")>,\n",
       " <selenium.webdriver.remote.webelement.WebElement (session=\"3eecee8f45c19d663ee57aef4a2a645e\", element=\"9236c956-66f6-4562-a390-d6cf16eb8002\")>,\n",
       " <selenium.webdriver.remote.webelement.WebElement (session=\"3eecee8f45c19d663ee57aef4a2a645e\", element=\"1bbe2037-4055-4516-8cb2-4251c8b156f5\")>,\n",
       " <selenium.webdriver.remote.webelement.WebElement (session=\"3eecee8f45c19d663ee57aef4a2a645e\", element=\"ce43f810-0915-455e-8ea9-f6a032dce209\")>,\n",
       " <selenium.webdriver.remote.webelement.WebElement (session=\"3eecee8f45c19d663ee57aef4a2a645e\", element=\"0e64ee0e-2c68-4b27-9718-35af23c7ed61\")>,\n",
       " <selenium.webdriver.remote.webelement.WebElement (session=\"3eecee8f45c19d663ee57aef4a2a645e\", element=\"a534d360-3a40-4fe9-bcd4-336f33e95791\")>,\n",
       " <selenium.webdriver.remote.webelement.WebElement (session=\"3eecee8f45c19d663ee57aef4a2a645e\", element=\"68debb08-9577-4666-b2d7-49b3845954a5\")>,\n",
       " <selenium.webdriver.remote.webelement.WebElement (session=\"3eecee8f45c19d663ee57aef4a2a645e\", element=\"65e82d0f-808e-47e5-84c0-e8f5c4fc6982\")>,\n",
       " <selenium.webdriver.remote.webelement.WebElement (session=\"3eecee8f45c19d663ee57aef4a2a645e\", element=\"8b066495-f835-4d90-be00-55e9184f25cc\")>,\n",
       " <selenium.webdriver.remote.webelement.WebElement (session=\"3eecee8f45c19d663ee57aef4a2a645e\", element=\"a277a7f7-77c2-4e4c-8479-a9641526666f\")>,\n",
       " <selenium.webdriver.remote.webelement.WebElement (session=\"3eecee8f45c19d663ee57aef4a2a645e\", element=\"ddb3e4f7-1022-4290-bfc8-cdff7ce2ebeb\")>,\n",
       " <selenium.webdriver.remote.webelement.WebElement (session=\"3eecee8f45c19d663ee57aef4a2a645e\", element=\"04bbfe1f-78fc-4811-babc-c5f5776ded4b\")>,\n",
       " <selenium.webdriver.remote.webelement.WebElement (session=\"3eecee8f45c19d663ee57aef4a2a645e\", element=\"a05e975c-6b5b-4a3c-ab48-cc1779b11120\")>,\n",
       " <selenium.webdriver.remote.webelement.WebElement (session=\"3eecee8f45c19d663ee57aef4a2a645e\", element=\"5f047727-1761-4133-a349-1177833c0eed\")>,\n",
       " <selenium.webdriver.remote.webelement.WebElement (session=\"3eecee8f45c19d663ee57aef4a2a645e\", element=\"263739b7-0248-4284-b399-afd9d08fa7a8\")>,\n",
       " <selenium.webdriver.remote.webelement.WebElement (session=\"3eecee8f45c19d663ee57aef4a2a645e\", element=\"75206b0b-8ded-409b-bd3b-89809ca83f77\")>,\n",
       " <selenium.webdriver.remote.webelement.WebElement (session=\"3eecee8f45c19d663ee57aef4a2a645e\", element=\"2547f691-2526-4f35-a125-117ab3179f81\")>,\n",
       " <selenium.webdriver.remote.webelement.WebElement (session=\"3eecee8f45c19d663ee57aef4a2a645e\", element=\"01926bbc-cf56-4e13-9c45-20c27877395a\")>,\n",
       " <selenium.webdriver.remote.webelement.WebElement (session=\"3eecee8f45c19d663ee57aef4a2a645e\", element=\"e6e1b2a7-042d-4e7d-8e18-008b442fc3d4\")>,\n",
       " <selenium.webdriver.remote.webelement.WebElement (session=\"3eecee8f45c19d663ee57aef4a2a645e\", element=\"016f611b-b514-43ed-8ff0-dde80c02dbcb\")>,\n",
       " <selenium.webdriver.remote.webelement.WebElement (session=\"3eecee8f45c19d663ee57aef4a2a645e\", element=\"28d8329c-582a-41f9-9930-f4ee804fcabc\")>,\n",
       " <selenium.webdriver.remote.webelement.WebElement (session=\"3eecee8f45c19d663ee57aef4a2a645e\", element=\"31137f52-8952-4a1c-b1ff-68c62999caa7\")>,\n",
       " <selenium.webdriver.remote.webelement.WebElement (session=\"3eecee8f45c19d663ee57aef4a2a645e\", element=\"f1e78030-eeed-4cb4-bddb-5b7df2cf4938\")>,\n",
       " <selenium.webdriver.remote.webelement.WebElement (session=\"3eecee8f45c19d663ee57aef4a2a645e\", element=\"4a6445ea-b9c0-44b8-b1b7-ee46e6e674ba\")>,\n",
       " <selenium.webdriver.remote.webelement.WebElement (session=\"3eecee8f45c19d663ee57aef4a2a645e\", element=\"ba5a5f87-aed6-4e66-8014-fb8e9a3f69dc\")>,\n",
       " <selenium.webdriver.remote.webelement.WebElement (session=\"3eecee8f45c19d663ee57aef4a2a645e\", element=\"568cb97d-86e3-4c70-9b7c-e17d50576527\")>,\n",
       " <selenium.webdriver.remote.webelement.WebElement (session=\"3eecee8f45c19d663ee57aef4a2a645e\", element=\"b674fff1-e007-44f5-85d3-be2d2f5c30e6\")>,\n",
       " <selenium.webdriver.remote.webelement.WebElement (session=\"3eecee8f45c19d663ee57aef4a2a645e\", element=\"f2ae940f-7e3f-40d2-82c8-b73823bdf65c\")>,\n",
       " <selenium.webdriver.remote.webelement.WebElement (session=\"3eecee8f45c19d663ee57aef4a2a645e\", element=\"791d340d-792b-40dd-a095-33290aab9f70\")>,\n",
       " <selenium.webdriver.remote.webelement.WebElement (session=\"3eecee8f45c19d663ee57aef4a2a645e\", element=\"b88df945-5ce7-4ea0-9b5e-242496fd9369\")>,\n",
       " <selenium.webdriver.remote.webelement.WebElement (session=\"3eecee8f45c19d663ee57aef4a2a645e\", element=\"dfb8f7bc-e475-425a-8eff-03b9f262827b\")>,\n",
       " <selenium.webdriver.remote.webelement.WebElement (session=\"3eecee8f45c19d663ee57aef4a2a645e\", element=\"badb718e-2d1b-4005-a21b-fe378d4c44f7\")>,\n",
       " <selenium.webdriver.remote.webelement.WebElement (session=\"3eecee8f45c19d663ee57aef4a2a645e\", element=\"7a528ccf-605a-4aee-817a-f91fd74eef7e\")>,\n",
       " <selenium.webdriver.remote.webelement.WebElement (session=\"3eecee8f45c19d663ee57aef4a2a645e\", element=\"efb0afda-928a-4993-8285-a1bc84bc2c9b\")>,\n",
       " <selenium.webdriver.remote.webelement.WebElement (session=\"3eecee8f45c19d663ee57aef4a2a645e\", element=\"894e1808-5c02-4bd3-bd6e-e361c70c6dca\")>,\n",
       " <selenium.webdriver.remote.webelement.WebElement (session=\"3eecee8f45c19d663ee57aef4a2a645e\", element=\"b2753a45-cbae-4961-aa36-fc6a3db2d4a9\")>,\n",
       " <selenium.webdriver.remote.webelement.WebElement (session=\"3eecee8f45c19d663ee57aef4a2a645e\", element=\"aa2dde37-d24b-4a39-a93f-4855b45fef30\")>,\n",
       " <selenium.webdriver.remote.webelement.WebElement (session=\"3eecee8f45c19d663ee57aef4a2a645e\", element=\"177c9ce3-bcc6-4053-8307-d778c0ff2112\")>,\n",
       " <selenium.webdriver.remote.webelement.WebElement (session=\"3eecee8f45c19d663ee57aef4a2a645e\", element=\"eebc317a-048a-4fca-99f6-ae0b76970108\")>,\n",
       " <selenium.webdriver.remote.webelement.WebElement (session=\"3eecee8f45c19d663ee57aef4a2a645e\", element=\"54d8b57c-0d9c-490b-8c2f-39b82462085a\")>]"
      ]
     },
     "execution_count": 134,
     "metadata": {},
     "output_type": "execute_result"
    }
   ],
   "source": [
    "delivery_tags = driver.find_elements_by_xpath('//span[@class=\"a-color-base a-text-bold\"]')\n",
    "len(delivery_tags)\n",
    "delivery_tags"
   ]
  },
  {
   "cell_type": "code",
   "execution_count": 135,
   "id": "b6af3eff",
   "metadata": {},
   "outputs": [
    {
     "data": {
      "text/plain": [
       "['Monday, April 4',\n",
       " 'Monday, April 4',\n",
       " 'Wednesday, April 6',\n",
       " 'Wednesday, April 6',\n",
       " 'Tuesday, April 5',\n",
       " 'Saturday, April 2',\n",
       " 'Saturday, April 2',\n",
       " 'Sunday, April 3',\n",
       " 'Saturday, April 2',\n",
       " 'Saturday, April 2',\n",
       " 'Tomorrow, April 1',\n",
       " 'Tomorrow, April 1',\n",
       " 'Sunday, April 3',\n",
       " 'Saturday, April 2',\n",
       " 'Wednesday, April 6',\n",
       " 'Wednesday, April 6',\n",
       " 'Tuesday, April 5',\n",
       " 'Thursday, April 7',\n",
       " 'Tomorrow, April 1',\n",
       " 'Monday, April 4',\n",
       " 'Tomorrow, April 1',\n",
       " 'Monday, April 4',\n",
       " 'Wednesday, April 6',\n",
       " 'Wednesday, April 6',\n",
       " 'Wednesday, April 6',\n",
       " 'Sunday, April 3',\n",
       " 'Monday, April 4',\n",
       " 'Tomorrow, April 1',\n",
       " 'Saturday, April 2',\n",
       " 'Tuesday, April 5',\n",
       " 'Saturday, April 2',\n",
       " 'Saturday, April 2',\n",
       " 'Saturday, April 2',\n",
       " 'Saturday, April 2',\n",
       " 'Tomorrow, April 1',\n",
       " 'Tomorrow, April 1',\n",
       " 'Sunday, April 3',\n",
       " 'Tomorrow, April 1',\n",
       " 'Monday, April 4',\n",
       " 'Saturday, April 2',\n",
       " 'Sunday, April 3',\n",
       " 'Saturday, April 2',\n",
       " 'Monday, April 4',\n",
       " 'Monday, April 4',\n",
       " 'Monday, April 4',\n",
       " 'Tomorrow, April 1',\n",
       " 'Sunday, April 3',\n",
       " 'Tomorrow, April 1',\n",
       " 'Monday, April 4',\n",
       " 'Wednesday, April 6',\n",
       " 'Wednesday, April 6',\n",
       " 'Monday, April 4',\n",
       " 'Tomorrow, April 1',\n",
       " 'Wednesday, April 6',\n",
       " 'Friday, April 8',\n",
       " 'Wednesday, April 6',\n",
       " 'Wednesday, April 6']"
      ]
     },
     "execution_count": 135,
     "metadata": {},
     "output_type": "execute_result"
    }
   ],
   "source": [
    "exc_delivery = []\n",
    "for i in delivery_tags:\n",
    "    exc_delivery.append(i.text)\n",
    "exc_delivery[0:57]"
   ]
  },
  {
   "cell_type": "code",
   "execution_count": 136,
   "id": "4c1d7cb0",
   "metadata": {},
   "outputs": [
    {
     "name": "stdout",
     "output_type": "stream",
     "text": [
      "                                                 Name  prices  \\\n",
      "0   Vault EA40 41 inch Premium Spruce-Top Cutaway ...   6,890   \n",
      "1   Vault ST1 Strat Style 6 String Electric Guitar...   7,599   \n",
      "2   Gibz's G-38 Glossy Acoustic Guitar With Truss ...   3,498   \n",
      "3   Festra 38C, 38 Inch Acoustic Guitar Kit with B...   2,695   \n",
      "4   Yamaha FS100C, 6-Strings Acoustic Guitar With ...  11,593   \n",
      "5   Kadence, Chronicle Series Electric Bass Guitar...  12,999   \n",
      "6    Yamaha PACIFICA012 Electric Guitar, Red Metallic  14,949   \n",
      "7   Kadence 39” Classical Guitar Nylon Strings Aco...   5,999   \n",
      "8   Kadence Guitar 36” Acoustica Series, Electric ...   7,348   \n",
      "9   Fender Model FA-15 Red 3/4 Size Steel Stringed...  14,995   \n",
      "10  YAMAHA WINNING STROKE F280 Acoustic Guitar wit...   8,590   \n",
      "11  PRS, Acoustic Electric Guitar, SE P20E Parlor ...  48,478   \n",
      "12  Jackson JS Series Dinky JS11 2910121503 Right ...   2,649   \n",
      "13  Juârez Acoustic Guitar, 38 Inch Cutaway, JRZ38...  26,364   \n",
      "14  FENDER CD60SCE-BLK Dreadnought Solid Spruce To...  12,999   \n",
      "15  Kadence, Chronicle Series Electric Bass Guitar...   4,974   \n",
      "16  ARCTIC Sky series 39\" Guitar (with Truss Rod) ...   1,999   \n",
      "17  Medellin 38\" Carbon Fiber Acoustic Guitar with...  13,390   \n",
      "18  Yamaha Electric-Acoustic Guitar FSX80C Dreadno...  18,999   \n",
      "19    Cort KX100 Electric Guitar Black Metallic Color     998   \n",
      "20  VAIDIKA 4 String Decor Guitar Children's Music...     599   \n",
      "21  LME Laxmi Musical Electronics - Acoustic Picku...     975   \n",
      "22  Mustang 46 PCS Guitar Strings Changing Kit Gui...     999   \n",
      "23  Pack of 2 Universal Guitar Stand by Hola! Musi...  17,813   \n",
      "24  Ibanez GSR180 - BS, 4 Strings Electric Bass Gu...  13,499   \n",
      "25  Epiphone Pro - 1 Acoustic Guitar, Vintage Sunb...   6,999   \n",
      "26  Kadence AstroMan Electric Guitar, 21 FRETS, RO...  14,490   \n",
      "27  Yamaha JR2 Acoustic Guitar 3/4 Size (Travel Gu...  29,782   \n",
      "28  Fender CD-60SCE Dreadnought All Mahogany Elect...  19,654   \n",
      "29               Ibanez GSA60 Electric Guitar - Black  20,000   \n",
      "30  Fender FA125CE Electric Acoustic Guitar With S...   8,799   \n",
      "31  Ibanez Acoustic Guitar MD39C Right Handed Cuta...   6,999   \n",
      "32  Pluto HW41C-201 41-inch Cutaway Acoustic Guita...  19,999   \n",
      "33     Vault HL1 Headless Electric Guitar with GigBag  12,943   \n",
      "34    Yamaha F310, 6-Strings Acoustic Guitar, Natural   6,823   \n",
      "35  Fender Squier 0370005506 Bullet Fat Stratocast...  63,734   \n",
      "36  Kadence Acoustica 40\" Mahogany Left-Handed Aco...   4,169   \n",
      "37  PRS Guitars Electric Guitar, SE Standard 24, 2...  10,999   \n",
      "38  Givsun Diamond Special Blue 6-String Cut A Way...  24,104   \n",
      "39  Cordoba C1 Protege Series Classical Guitar Nat...  15,343   \n",
      "40  RockJam RJEG02-SK-BK Electric Guitar Starter K...   3,161   \n",
      "41  Epiphone ENPTVSNH1 Solid Body Electric Guitars...  26,163   \n",
      "42  Cort SFX-MEM Electro Acoustic Guitar - Open Po...  20,999   \n",
      "43  Juarez Acoustic Guitar, 38 Inch Cutaway with P...  47,224   \n",
      "44  Ibanez RG Gio Series GRGR221PA Electric Guitar...   9,999   \n",
      "45  Fender FA135CE Electric Acoustic Guitar Concer...  51,949   \n",
      "46  Epiphone Les Paul Classic Worn 6 String Right ...  12,999   \n",
      "47  Ibanez GA5TCE - AM, 6 -Strings Acoustic Guitar...   8,571   \n",
      "48  Kadence Slowhand Series Premium Acoustic Guita...  25,990   \n",
      "49  Epiphone Les Paul Muse 6 String Right Handed E...   6,935   \n",
      "50         Givson Monalisa-B Electric Hawaiian Guitar   5,437   \n",
      "51  Ibanez MD39C Cutaway Acoustic Guitar - Sunburs...   9,290   \n",
      "52  Epiphone Les Paul Electric Guitar Player Pack ...     899   \n",
      "53  Granada, Acoustic Guitar, Dreadnought PRLD-14C...     499   \n",
      "54  Granada, Acoustic Guitar, Cutaway, Medium PRS-...     520   \n",
      "55  Standzo Yamaha FS80C The Ultimate Concert-body...     589   \n",
      "56  Mustang Guitar Accessories Kit - Stand, Clip-o...    269.   \n",
      "\n",
      "                deliver  \n",
      "0      Monday, March 28  \n",
      "1      Monday, March 28  \n",
      "2     Tuesday, March 29  \n",
      "3   Wednesday, March 30  \n",
      "4      Sunday, March 27  \n",
      "5      Monday, March 28  \n",
      "6    Saturday, March 26  \n",
      "7    Saturday, March 26  \n",
      "8    Saturday, March 26  \n",
      "9   Wednesday, March 30  \n",
      "10    Tuesday, March 29  \n",
      "11   Tomorrow, March 25  \n",
      "12   Tomorrow, March 25  \n",
      "13     Sunday, March 27  \n",
      "14   Tomorrow, March 25  \n",
      "15   Saturday, March 26  \n",
      "16     Sunday, March 27  \n",
      "17     Sunday, March 27  \n",
      "18    Tuesday, March 29  \n",
      "19   Saturday, March 26  \n",
      "20  Wednesday, March 30  \n",
      "21  Wednesday, March 30  \n",
      "22     Sunday, March 27  \n",
      "23     Sunday, March 27  \n",
      "24   Saturday, March 26  \n",
      "25  Wednesday, March 30  \n",
      "26     Monday, March 28  \n",
      "27   Saturday, March 26  \n",
      "28  Wednesday, March 30  \n",
      "29  Wednesday, March 30  \n",
      "30   Tomorrow, March 25  \n",
      "31     Monday, March 28  \n",
      "32  Wednesday, March 30  \n",
      "33   Saturday, March 26  \n",
      "34   Tomorrow, March 25  \n",
      "35    Tuesday, March 29  \n",
      "36  Wednesday, March 30  \n",
      "37    Saturday, April 2  \n",
      "38   Saturday, March 26  \n",
      "39     Sunday, March 27  \n",
      "40    Saturday, April 2  \n",
      "41     Monday, March 28  \n",
      "42  Wednesday, March 30  \n",
      "43   Tomorrow, March 25  \n",
      "44   Saturday, March 26  \n",
      "45   Saturday, March 26  \n",
      "46  Wednesday, March 30  \n",
      "47      Friday, April 1  \n",
      "48   Tomorrow, March 25  \n",
      "49     Sunday, March 27  \n",
      "50   Tomorrow, March 25  \n",
      "51   Tomorrow, March 25  \n",
      "52  Wednesday, March 30  \n",
      "53  Wednesday, March 30  \n",
      "54    Tuesday, March 29  \n",
      "55   Thursday, March 31  \n",
      "56    Tuesday, March 29  \n"
     ]
    }
   ],
   "source": [
    "data3 = {'Name':['Vault EA40 41 inch Premium Spruce-Top Cutaway Acoustic Guitar',\n",
    " 'Vault ST1 Strat Style 6 String Electric Guitar- Black',\n",
    " \"Gibz's G-38 Glossy Acoustic Guitar With Truss Rod Natural\",\n",
    " 'Festra 38C, 38 Inch Acoustic Guitar Kit with Bag, Strap, One Pack Strings And 2 Picks (Black) (Acoustic 38C (38 Inch) Guitar Kit, Sunburst)',\n",
    " 'Yamaha FS100C, 6-Strings Acoustic Guitar With Sponge Bag, Belt & Plectrums Combo Pack (Natural) By Mexa',\n",
    " 'Kadence, Chronicle Series Electric Bass Guitar, Natural Ash Wood with P-J Pickup, 2 Tone and 2 Volume Control',\n",
    " 'Yamaha PACIFICA012 Electric Guitar, Red Metallic',\n",
    " 'Kadence 39” Classical Guitar Nylon Strings Acoustic Guitar with Truss Rod for Beginner Professional With Bag (30\" 1/4 Acoustic GL03)',\n",
    " 'Kadence Guitar 36” Acoustica Series, Electric Acoustic Guitar, Ash Wood with Pickup and Inbuilt tuner Travel GUitar Small Size for Kids and Adult (A06 36\")',\n",
    " 'Fender Model FA-15 Red 3/4 Size Steel Stringed Acoustic Guitar with Gig Bag-971170170',\n",
    " 'YAMAHA WINNING STROKE F280 Acoustic Guitar with Bag Combo (Natural)',\n",
    " 'PRS, Acoustic Electric Guitar, SE P20E Parlor w/Fishman Pickup -Vintage Mahogany (106997:VM)',\n",
    " 'Jackson JS Series Dinky JS11 2910121503 Right Handed Electric Guitar (Black, 6-Strings)',\n",
    " 'Juârez Acoustic Guitar, 38 Inch Cutaway, JRZ38C with Bag, Strings, Pick and Strap, Red',\n",
    " 'FENDER CD60SCE-BLK Dreadnought Solid Spruce Top Semi-Acoustic Guitar - Black',\n",
    " 'Kadence, Chronicle Series Electric Bass Guitar, Black Ash Wood with P-J Pickup, 2 Tone and 2 Volume Control',\n",
    " 'ARCTIC Sky series 39\" Guitar (with Truss Rod) with Bag, 3 Picks, Strap & String Set. Standard Pack Red',\n",
    " 'Medellin 38\" Carbon Fiber Acoustic Guitar with free specailized learning course- MDCF38BK Durable Carbon Fiber Matt Sunburst finish Body for beginners with handrest, set of Strings, Strap, Bag, 3 Picks, Capo, Guitar Wall Hanging Stand and Free GUITAR LEARNING COURSE (Special Learning Combo with Guitar)',\n",
    " 'Yamaha Electric-Acoustic Guitar FSX80C Dreadnought With With Mexa Sponge Bag, Guitar Belt, Guitar Stand, String Set & Plectrums.(NT)',\n",
    " 'Cort KX100 Electric Guitar Black Metallic Color',\n",
    " \"VAIDIKA 4 String Decor Guitar Children's Musical Instrument Educational Toy Small Guitar for Beginners Kids Child - 23 Inch\",\n",
    " 'LME Laxmi Musical Electronics - Acoustic Pickup for Violin, Veena, Guitar, Mandolin, Banjo and All Acoustic String Instruments',\n",
    " 'Mustang 46 PCS Guitar Strings Changing Kit Guitar Tool Kit Including Guitar Strings Guitar Tuner Picks Capo Pins Guitar String Cutter and Winder for Beginner',\n",
    " 'Pack of 2 Universal Guitar Stand by Hola! Music Fits Acoustic Classical Electric Bass Guitars Mandolins Banjos Ukuleles and Other Stringed Instruments',\n",
    " 'Ibanez GSR180 - BS, 4 Strings Electric Bass Guitars, Right Handed, Brown Sunburst, without case',\n",
    " 'Epiphone Pro - 1 Acoustic Guitar, Vintage Sunbusrt',\n",
    " 'Kadence AstroMan Electric Guitar, 21 FRETS, ROSEWOOD FRETBOARD, H - S - S PICK UPS Black combo with Bag, Guitar strap,guitar cable and Picks',\n",
    " 'Yamaha JR2 Acoustic Guitar 3/4 Size (Travel Guitar) With Guitar Bag, Belt,Plectrums & String Set.',\n",
    " 'Fender CD-60SCE Dreadnought All Mahogany Electro-Acoustic Guitar',\n",
    " 'Ibanez GSA60 Electric Guitar - Black',\n",
    " 'Fender FA125CE Electric Acoustic Guitar With Sponge Bag, Belt, String Set, & Plectrums Combo Pack (Natural)',\n",
    " 'Ibanez Acoustic Guitar MD39C Right Handed Cutaway Guitar - Sunburst With Bag, Belt, Plectrums Complete Pack.',\n",
    " 'Pluto HW41C-201 41-inch Cutaway Acoustic Guitar (Natural)',\n",
    " 'Vault HL1 Headless Electric Guitar with GigBag',\n",
    " 'Yamaha F310, 6-Strings Acoustic Guitar, Natural',\n",
    " 'Fender Squier 0370005506 Bullet Fat Stratocaster 6-Strings Electric Guitar, Right-Handed, Black, Rosewood Fretboard',\n",
    " 'Kadence Acoustica 40\" Mahogany Left-Handed Acoustic Guitar A03 L with bag',\n",
    " 'PRS Guitars Electric Guitar, SE Standard 24, 2021 Series -Vintage Cherry ST4VC',\n",
    " 'Givsun Diamond Special Blue 6-String Cut A Way Right Hand Acoustic Semi-Electric Guitar With Bag And Free 1 Set String,2 Picks',\n",
    " 'Cordoba C1 Protege Series Classical Guitar Natural with Bag',\n",
    " 'RockJam RJEG02-SK-BK Electric Guitar Starter Kit (Black)',\n",
    " 'Epiphone ENPTVSNH1 Solid Body Electric Guitars Les Paul Studio LT, Vintage Sunburst',\n",
    " 'Cort SFX-MEM Electro Acoustic Guitar - Open Pore, Mahogany, SFXMEMOP (SFXMEMOP)',\n",
    " 'Juarez Acoustic Guitar, 38 Inch Cutaway with Pick Guard, 38C/RDS with Bag, Strings, Pick and Strap, Red Sunburst',\n",
    " 'Ibanez RG Gio Series GRGR221PA Electric Guitar- Aqua Burst',\n",
    " 'Fender FA135CE Electric Acoustic Guitar Concert Body V2 (Inbuilt Fishman Pickup) With Sponge Bag, Belt, String Set, & Plectrums Combo Pack .(NT)',\n",
    " 'Epiphone Les Paul Classic Worn 6 String Right Handed Electric Guitar, Worn Ebony (ELCSWSNH)',\n",
    " 'Ibanez GA5TCE - AM, 6 -Strings Acoustic Guitar, Right-Handed, Amber High Gloss, Rosewood Fretboard',\n",
    " 'Kadence Slowhand Series Premium Acoustic Guitar, 38\" Travel Guitar (Mahogany Wood SHM03)',\n",
    " 'Epiphone Les Paul Muse 6 String Right Handed Electric Guitar, Radio Blue Metallic',\n",
    " 'Givson Monalisa-B Electric Hawaiian Guitar',\n",
    " 'Ibanez MD39C Cutaway Acoustic Guitar - Sunburst, MD-39CDB (IBA-MD39CSB)',\n",
    " 'Epiphone Les Paul Electric Guitar Player Pack (Vintage Sunburst)',\n",
    " 'Granada, Acoustic Guitar, Dreadnought PRLD-14C-F -Natural',\n",
    " 'Granada, Acoustic Guitar, Cutaway, Medium PRS-1-FC -Vintage Sunburst',\n",
    " 'Standzo Yamaha FS80C The Ultimate Concert-body Cutway Acoustic Guitar with Padded Bag, Picks, Belt, Strings and Learning Book Combo Pack',\n",
    " 'Mustang Guitar Accessories Kit - Stand, Clip-on Tuner, Strap, Capo, 4 Assorted Picks, Holder - For Acoustic and Electric Instruments - Great Gift For Beginners and Advanced Players'],\n",
    "'prices': ['6,890',\n",
    " '7,599',\n",
    " '3,498',\n",
    " '2,695',\n",
    " '11,593',\n",
    " '12,999',\n",
    " '14,949',\n",
    " '5,999',\n",
    " '7,348',\n",
    " '14,995',\n",
    " '8,590',\n",
    " '48,478',\n",
    " '2,649',\n",
    " '26,364',\n",
    " '12,999',\n",
    " '4,974',\n",
    " '1,999',\n",
    " '13,390',\n",
    " '18,999',\n",
    " '998',\n",
    " '599',\n",
    " '975',\n",
    " '999',\n",
    " '17,813',\n",
    " '13,499',\n",
    " '6,999',\n",
    " '14,490',\n",
    " '29,782',\n",
    " '19,654',\n",
    " '20,000',\n",
    " '8,799',\n",
    " '6,999',\n",
    " '19,999',\n",
    " '12,943',\n",
    " '6,823',\n",
    " '63,734',\n",
    " '4,169',\n",
    " '10,999',\n",
    " '24,104',\n",
    " '15,343',\n",
    " '3,161',\n",
    " '26,163',\n",
    " '20,999',\n",
    " '47,224',\n",
    " '9,999',\n",
    " '51,949',\n",
    " '12,999',\n",
    " '8,571',\n",
    " '25,990',\n",
    " '6,935',\n",
    " '5,437',\n",
    " '9,290',\n",
    " '899',\n",
    " '499',\n",
    " '520',\n",
    " '589',\n",
    " '269.'],\n",
    "'deliver':['Monday, March 28',\n",
    " 'Monday, March 28',\n",
    " 'Tuesday, March 29',\n",
    " 'Wednesday, March 30',\n",
    " 'Sunday, March 27',\n",
    " 'Monday, March 28',\n",
    " 'Saturday, March 26',\n",
    " 'Saturday, March 26',\n",
    " 'Saturday, March 26',\n",
    " 'Wednesday, March 30',\n",
    " 'Tuesday, March 29',\n",
    " 'Tomorrow, March 25',\n",
    " 'Tomorrow, March 25',\n",
    " 'Sunday, March 27',\n",
    " 'Tomorrow, March 25',\n",
    " 'Saturday, March 26',\n",
    " 'Sunday, March 27',\n",
    " 'Sunday, March 27',\n",
    " 'Tuesday, March 29',\n",
    " 'Saturday, March 26',\n",
    " 'Wednesday, March 30',\n",
    " 'Wednesday, March 30',\n",
    " 'Sunday, March 27',\n",
    " 'Sunday, March 27',\n",
    " 'Saturday, March 26',\n",
    " 'Wednesday, March 30',\n",
    " 'Monday, March 28',\n",
    " 'Saturday, March 26',\n",
    " 'Wednesday, March 30',\n",
    " 'Wednesday, March 30',\n",
    " 'Tomorrow, March 25',\n",
    " 'Monday, March 28',\n",
    " 'Wednesday, March 30',\n",
    " 'Saturday, March 26',\n",
    " 'Tomorrow, March 25',\n",
    " 'Tuesday, March 29',\n",
    " 'Wednesday, March 30',\n",
    " 'Saturday, April 2',\n",
    " 'Saturday, March 26',\n",
    " 'Sunday, March 27',\n",
    " 'Saturday, April 2',\n",
    " 'Monday, March 28',\n",
    " 'Wednesday, March 30',\n",
    " 'Tomorrow, March 25',\n",
    " 'Saturday, March 26',\n",
    " 'Saturday, March 26',\n",
    " 'Wednesday, March 30',\n",
    " 'Friday, April 1',\n",
    " 'Tomorrow, March 25',\n",
    " 'Sunday, March 27',\n",
    " 'Tomorrow, March 25',\n",
    " 'Tomorrow, March 25',\n",
    " 'Wednesday, March 30',\n",
    " 'Wednesday, March 30',\n",
    " 'Tuesday, March 29',\n",
    " 'Thursday, March 31',\n",
    " 'Tuesday, March 29']}\n",
    "\n",
    "df = pd.DataFrame(data3)\n",
    "print(df)"
   ]
  },
  {
   "cell_type": "code",
   "execution_count": 137,
   "id": "e2de5f6e",
   "metadata": {},
   "outputs": [],
   "source": [
    "import os\n",
    "import selenium\n",
    "from selenium import webdriver \n",
    "import base64\n",
    "import time\n",
    "import urllib.request"
   ]
  },
  {
   "cell_type": "code",
   "execution_count": 138,
   "id": "85fa174c",
   "metadata": {},
   "outputs": [],
   "source": [
    "url = 'https://images.google.com/'\n",
    "driver.get(url)"
   ]
  },
  {
   "cell_type": "code",
   "execution_count": 139,
   "id": "ab8d3dae",
   "metadata": {},
   "outputs": [
    {
     "data": {
      "text/plain": [
       "<selenium.webdriver.remote.webelement.WebElement (session=\"3eecee8f45c19d663ee57aef4a2a645e\", element=\"173837ee-8c49-4748-b1b2-1c16f2bcc3ba\")>"
      ]
     },
     "execution_count": 139,
     "metadata": {},
     "output_type": "execute_result"
    }
   ],
   "source": [
    "search_product = driver.find_element_by_xpath('/html/body/div[1]/div[3]/form/div[1]/div[1]/div[1]/div/div[2]/input')\n",
    "search_product"
   ]
  },
  {
   "cell_type": "code",
   "execution_count": 140,
   "id": "67a2f5e2",
   "metadata": {},
   "outputs": [],
   "source": [
    "search_product.send_keys('fruits')"
   ]
  },
  {
   "cell_type": "code",
   "execution_count": 141,
   "id": "40fad2e9",
   "metadata": {},
   "outputs": [
    {
     "data": {
      "text/plain": [
       "<selenium.webdriver.remote.webelement.WebElement (session=\"3eecee8f45c19d663ee57aef4a2a645e\", element=\"34cd1e5d-6e17-4ddd-ace8-699bc544c5e6\")>"
      ]
     },
     "execution_count": 141,
     "metadata": {},
     "output_type": "execute_result"
    }
   ],
   "source": [
    "search_btn = driver.find_element_by_xpath('/html/body/div[1]/div[3]/form/div[1]/div[1]/div[1]/button/div/span')\n",
    "search_btn"
   ]
  },
  {
   "cell_type": "code",
   "execution_count": 142,
   "id": "555210d9",
   "metadata": {},
   "outputs": [],
   "source": [
    "search_btn.click()"
   ]
  },
  {
   "cell_type": "code",
   "execution_count": 143,
   "id": "adab8250",
   "metadata": {},
   "outputs": [
    {
     "data": {
      "text/plain": [
       "[<selenium.webdriver.remote.webelement.WebElement (session=\"3eecee8f45c19d663ee57aef4a2a645e\", element=\"1ebe4524-a6ce-4d61-ba79-b8d04d5452bc\")>,\n",
       " <selenium.webdriver.remote.webelement.WebElement (session=\"3eecee8f45c19d663ee57aef4a2a645e\", element=\"4796a91b-12e7-4a55-8834-56d2dfcfaeec\")>,\n",
       " <selenium.webdriver.remote.webelement.WebElement (session=\"3eecee8f45c19d663ee57aef4a2a645e\", element=\"7e62cab0-0085-4130-b2e5-7dc4a64620b0\")>,\n",
       " <selenium.webdriver.remote.webelement.WebElement (session=\"3eecee8f45c19d663ee57aef4a2a645e\", element=\"c42cbc24-4460-469f-8329-e6520732de51\")>,\n",
       " <selenium.webdriver.remote.webelement.WebElement (session=\"3eecee8f45c19d663ee57aef4a2a645e\", element=\"fe7a74fb-78cf-40f0-a357-03eb50aadd19\")>,\n",
       " <selenium.webdriver.remote.webelement.WebElement (session=\"3eecee8f45c19d663ee57aef4a2a645e\", element=\"32f17518-a9c1-4515-8d42-0337a8a9dd1b\")>,\n",
       " <selenium.webdriver.remote.webelement.WebElement (session=\"3eecee8f45c19d663ee57aef4a2a645e\", element=\"dcefc99a-84b4-4c5b-9a62-2f27407df0a8\")>,\n",
       " <selenium.webdriver.remote.webelement.WebElement (session=\"3eecee8f45c19d663ee57aef4a2a645e\", element=\"a1ad953d-e8ff-448c-bdfa-17d36e081d8b\")>,\n",
       " <selenium.webdriver.remote.webelement.WebElement (session=\"3eecee8f45c19d663ee57aef4a2a645e\", element=\"db769762-b7b4-47f8-9b6c-c4760b161c76\")>,\n",
       " <selenium.webdriver.remote.webelement.WebElement (session=\"3eecee8f45c19d663ee57aef4a2a645e\", element=\"09ee4c3a-16cd-4899-b800-588b67bd9108\")>]"
      ]
     },
     "execution_count": 143,
     "metadata": {},
     "output_type": "execute_result"
    }
   ],
   "source": [
    "images=driver.find_elements_by_xpath(\"//div[@class='bRMDJf islir']\")\n",
    "images[0:10]"
   ]
  },
  {
   "cell_type": "code",
   "execution_count": 144,
   "id": "7842b18d",
   "metadata": {},
   "outputs": [
    {
     "data": {
      "text/plain": [
       "['', '', '', '', '', '', '', '', '', '']"
      ]
     },
     "execution_count": 144,
     "metadata": {},
     "output_type": "execute_result"
    }
   ],
   "source": [
    "images_list = []\n",
    "\n",
    "for i in images:\n",
    "    images_list.append(i.text)\n",
    "images_list[0:10]"
   ]
  },
  {
   "cell_type": "code",
   "execution_count": 145,
   "id": "f62c4df8",
   "metadata": {},
   "outputs": [],
   "source": [
    "imgResults = driver.find_elements_by_xpath(\"//img[contains(@class,'Q4LuWd')]\")\n",
    "\n",
    "totalResults=len(imgResults)"
   ]
  },
  {
   "cell_type": "code",
   "execution_count": 146,
   "id": "05d815ab",
   "metadata": {},
   "outputs": [],
   "source": [
    "url='https://www.flipkart.com/'\n",
    "driver.get(url)"
   ]
  },
  {
   "cell_type": "code",
   "execution_count": 147,
   "id": "bdd0e114",
   "metadata": {},
   "outputs": [],
   "source": [
    "search_item=driver.find_element_by_xpath(\"//input[@class='_3704LK']\")"
   ]
  },
  {
   "cell_type": "code",
   "execution_count": 148,
   "id": "b63cda14",
   "metadata": {},
   "outputs": [],
   "source": [
    "search_item.send_keys('samsung')"
   ]
  },
  {
   "cell_type": "code",
   "execution_count": 149,
   "id": "2172935d",
   "metadata": {},
   "outputs": [],
   "source": [
    "search_btn=driver.find_element_by_xpath(\"//button[@class='L0Z3Pu']\")"
   ]
  },
  {
   "cell_type": "code",
   "execution_count": 151,
   "id": "a5ea3157",
   "metadata": {},
   "outputs": [],
   "source": [
    "search_btn.click()"
   ]
  },
  {
   "cell_type": "code",
   "execution_count": 152,
   "id": "b812ba3f",
   "metadata": {},
   "outputs": [],
   "source": [
    "Name=driver.find_element_by_xpath(\"//div[@class='_4rR01T']\")"
   ]
  },
  {
   "cell_type": "code",
   "execution_count": 153,
   "id": "77e9e0f0",
   "metadata": {},
   "outputs": [],
   "source": [
    "Name.click()"
   ]
  },
  {
   "cell_type": "code",
   "execution_count": 154,
   "id": "a521bd75",
   "metadata": {},
   "outputs": [
    {
     "data": {
      "text/plain": [
       "['SAMSUNG Galaxy F12 (Sky Blue, 64 GB)']"
      ]
     },
     "execution_count": 154,
     "metadata": {},
     "output_type": "execute_result"
    }
   ],
   "source": [
    "Namephone=[Name.text]\n",
    "Namephone"
   ]
  },
  {
   "cell_type": "code",
   "execution_count": 155,
   "id": "d0c4fe34",
   "metadata": {},
   "outputs": [
    {
     "data": {
      "text/plain": [
       "<selenium.webdriver.remote.webelement.WebElement (session=\"3eecee8f45c19d663ee57aef4a2a645e\", element=\"8ee04d1b-10f9-49b5-80d8-530b16661911\")>"
      ]
     },
     "execution_count": 155,
     "metadata": {},
     "output_type": "execute_result"
    }
   ],
   "source": [
    "price_and_discount =driver.find_element_by_xpath(\"//div[@class='_25b18c']\")\n",
    "price_and_discount"
   ]
  },
  {
   "cell_type": "code",
   "execution_count": 156,
   "id": "20710c47",
   "metadata": {},
   "outputs": [
    {
     "data": {
      "text/plain": [
       "['₹10,499\\n₹12,99919% off']"
      ]
     },
     "execution_count": 156,
     "metadata": {},
     "output_type": "execute_result"
    }
   ],
   "source": [
    "priceanddiscountlist=[price_and_discount.text]\n",
    "priceanddiscountlist"
   ]
  },
  {
   "cell_type": "code",
   "execution_count": 157,
   "id": "3d3c1156",
   "metadata": {},
   "outputs": [
    {
     "data": {
      "text/plain": [
       "<selenium.webdriver.remote.webelement.WebElement (session=\"3eecee8f45c19d663ee57aef4a2a645e\", element=\"30523816-6675-4ced-b115-6a813d241d64\")>"
      ]
     },
     "execution_count": 157,
     "metadata": {},
     "output_type": "execute_result"
    }
   ],
   "source": [
    "features=driver.find_element_by_xpath('//div[@class=\"_1YokD2 _2GoDe3\"]')\n",
    "features"
   ]
  },
  {
   "cell_type": "code",
   "execution_count": 158,
   "id": "aede659b",
   "metadata": {},
   "outputs": [
    {
     "data": {
      "text/plain": [
       "['Filters\\nCATEGORIES\\nMobiles & Accessories\\nMobiles\\nPRICE\\n............\\nMin\\n₹2000\\n₹4000\\n₹7000\\n₹10000\\n₹13000\\n₹16000\\n₹20000\\n₹25000\\n₹30000\\n₹50000\\nto\\n₹2000\\n₹4000\\n₹7000\\n₹10000\\n₹13000\\n₹16000\\n₹20000\\n₹25000\\n₹30000\\n₹50000\\n₹50000+\\nBRAND\\nSAMSUNG\\nCUSTOMER RATINGS\\n4★ & above\\n3★ & above\\n2★ & above\\n1★ & above\\n?\\nGST INVOICE AVAILABLE\\nRAM\\n6 GB & Above\\n4 GB\\n3 GB\\n2 GB\\n1 GB\\n512 MB - 1 GB\\nLess than 512 MB\\n6 GB Above\\nLessthan512MB\\n4GB\\n3GB\\n2GB\\n1GB\\n6GBAbove\\nINTERNAL STORAGE\\nBATTERY CAPACITY\\nSCREEN SIZE\\nPRIMARY CAMERA\\nSECONDARY CAMERA\\nPROCESSOR BRAND\\nSPECIALITY\\nRESOLUTION TYPE\\nOPERATING SYSTEM\\nNETWORK TYPE\\nSIM TYPE\\nOFFERS\\nBuy More, Save More\\nExchange Offer\\nNo Cost EMI\\nSpecial Price\\nBUDGET\\nFEATURES\\nTYPE\\nNUMBER OF CORES\\nAVAILABILITY\\nDISCOUNT\\n10% or more\\n20% or more\\n30% or more\\n40% or more\\n10% and below\\nOPERATING SYSTEM VERSION NAME\\nCLOCK SPEED\\nNeed help?\\nHelp me decide\\nHomeMobiles & AccessoriesMobiles\\nShowing 1 – 24 of 740 results for \"samsung\"\\nSort By\\nRelevance\\nPopularity\\nPrice -- Low to High\\nPrice -- High to Low\\nNewest First\\nAdd to Compare\\nSAMSUNG Galaxy F12 (Sky Blue, 64 GB)\\n4.32,47,645 Ratings & 19,712 Reviews\\n4 GB RAM | 64 GB ROM | Expandable Upto 512 GB\\n16.55 cm (6.515 inch) HD+ Display\\n48MP + 5MP + 2MP + 2MP | 8MP Front Camera\\n6000 mAh Lithium-ion Battery\\nExynos 850 Processor\\n1 Year Warranty Provided by the Manufacturer from Date of Purchase\\n₹10,499\\n₹12,99919% off\\nFree delivery\\nUpto \\n₹9,800\\n Off on Exchange\\nAdd to Compare\\nSAMSUNG Galaxy F12 (Sea Green, 64 GB)\\n4.32,47,645 Ratings & 19,712 Reviews\\n4 GB RAM | 64 GB ROM | Expandable Upto 512 GB\\n16.55 cm (6.515 inch) HD+ Display\\n48MP + 5MP + 2MP + 2MP | 8MP Front Camera\\n6000 mAh Lithium-ion Battery\\nExynos 850 Processor\\n1 Year Warranty Provided by the Manufacturer from Date of Purchase\\n₹10,499\\n₹12,99919% off\\nFree delivery\\nUpto \\n₹9,800\\n Off on Exchange\\nAdd to Compare\\nSAMSUNG Galaxy F23 5G (Aqua Blue, 128 GB)\\n4.14,149 Ratings & 410 Reviews\\n6 GB RAM | 128 GB ROM | Expandable Upto 1 TB\\n16.76 cm (6.6 inch) Full HD+ Display\\n50MP + 8MP + 2MP | 8MP Front Camera\\n5000 mAh Lithium Ion Battery\\nQualcomm Snapdragon 750G Processor\\n1 Year Warranty Provided by the Manufacturer from Date of Purchase\\n₹16,999\\n₹23,99929% off\\nFree delivery\\nNo Cost EMI from ₹2,834/month\\nUpto \\n₹13,000\\n Off on Exchange\\nAdd to Compare\\nSAMSUNG Galaxy F23 5G (Forest Green, 128 GB)\\n4.14,149 Ratings & 410 Reviews\\n6 GB RAM | 128 GB ROM | Expandable Upto 1 TB\\n16.76 cm (6.6 inch) Full HD+ Display\\n50MP + 8MP + 2MP | 8MP Front Camera\\n5000 mAh Lithium Ion Battery\\nQualcomm Snapdragon 750G Processor\\n1 Year Warranty Provided by the Manufacturer from Date of Purchase\\n₹16,999\\n₹23,99929% off\\nFree delivery\\nNo Cost EMI from ₹2,834/month\\nUpto \\n₹13,000\\n Off on Exchange\\nAdd to Compare\\nSAMSUNG Galaxy F22 (Denim Blue, 64 GB)\\n4.352,685 Ratings & 5,193 Reviews\\n4 GB RAM | 64 GB ROM | Expandable Upto 1 TB\\n16.26 cm (6.4 inch) HD+ Display\\n48MP + 8MP + 2MP + 2MP | 13MP Front Camera\\n6000 mAh Lithium-ion Battery\\nMediaTek Helio G80 Processor\\n1 Year Warranty Provided by the Manufacturer from Date of Purchase\\n₹12,999\\n₹14,99913% off\\nFree delivery\\nNo Cost EMI from ₹2,167/month\\nUpto \\n₹11,550\\n Off on Exchange\\nAdd to Compare\\nSAMSUNG Galaxy F12 (Celestial Black, 64 GB)\\n4.32,47,645 Ratings & 19,712 Reviews\\n4 GB RAM | 64 GB ROM | Expandable Upto 512 GB\\n16.55 cm (6.515 inch) HD+ Display\\n48MP + 5MP + 2MP + 2MP | 8MP Front Camera\\n6000 mAh Lithium-ion Battery\\nExynos 850 Processor\\n1 Year Warranty Provided by the Manufacturer from Date of Purchase\\n₹10,499\\n₹12,99919% off\\nFree delivery\\nUpto \\n₹9,800\\n Off on Exchange\\nAdd to Compare\\nSAMSUNG Galaxy F23 5G (Forest Green, 128 GB)\\n4929 Ratings & 108 Reviews\\n4 GB RAM | 128 GB ROM | Expandable Upto 1 TB\\n16.76 cm (6.6 inch) Full HD+ Display\\n50MP + 8MP + 2MP | 8MP Front Camera\\n5000 mAh Lithium Ion Battery\\nQualcomm Snapdragon 750G Processor\\n1 Year Warranty Provided by the Manufacturer from Date of Purchase\\n₹15,999\\n₹22,99930% off\\nFree delivery\\nNo Cost EMI from ₹2,667/month\\nUpto \\n₹13,000\\n Off on Exchange\\nAdd to Compare\\nSAMSUNG Galaxy F22 (Denim Blue, 128 GB)\\n4.333,002 Ratings & 2,999 Reviews\\n6 GB RAM | 128 GB ROM | Expandable Upto 1 TB\\n16.26 cm (6.4 inch) HD+ Display\\n48MP + 8MP + 2MP + 2MP | 13MP Front Camera\\n6000 mAh Lithium-ion Battery\\nMediaTek Helio G80 Processor\\n1 Year Warranty Provided by the Manufacturer from Date of Purchase\\n₹14,999\\n₹16,99911% off\\nFree delivery\\nNo Cost EMI from ₹2,500/month\\nUpto \\n₹13,000\\n Off on Exchange\\nAdd to Compare\\nSAMSUNG Galaxy F22 (Denim Black, 128 GB)\\n4.333,002 Ratings & 2,999 Reviews\\n6 GB RAM | 128 GB ROM | Expandable Upto 1 TB\\n16.26 cm (6.4 inch) HD+ Display\\n48MP + 8MP + 2MP + 2MP | 13MP Front Camera\\n6000 mAh Lithium-ion Battery\\nMediaTek Helio G80 Processor\\n1 Year Warranty Provided by the Manufacturer from Date of Purchase\\n₹14,999\\n₹16,99911% off\\nFree delivery\\nNo Cost EMI from ₹2,500/month\\nUpto \\n₹13,000\\n Off on Exchange\\nAdd to Compare\\nSAMSUNG GURU MUSIC 2\\n4.2454 Ratings & 29 Reviews\\n8 MB RAM | 0 GB ROM | Expandable Upto 16 GB\\n5.08 cm (2 inch) QVGA Display\\n0MP | 0MP Front Camera\\n800 mAh Battery\\n0 0 0 208MHz Processor\\n1 Year Manufacturer\\'s Warranty\\n₹2,089\\nFree delivery\\nAdd to Compare\\nSAMSUNG Galaxy M32 (Light Blue, 64 GB)\\n4.21,532 Ratings & 150 Reviews\\n4 GB RAM | 64 GB ROM | Expandable Upto 1 TB\\n16.26 cm (6.4 inch) Full HD+ Display\\n64MP + 8MP + 2MP + 2MP | 20MP Front Camera\\n6000 mAh Battery\\nMediaTek Helio G80 Processor\\n1 Year Manufacturer Warranty for Device and 6 Months Manufacturer Warranty for In-box Accessories Including Batteries from the Date of Purchase\\n₹14,479\\n₹16,99914% off\\nFree delivery\\nAdd to Compare\\nSAMSUNG Guru Music 2\\n4.31,85,728 Ratings & 17,595 Reviews\\nNA ROM | Expandable Upto 16 GB\\n5.08 cm (2 inch) QVGA Display\\n0MP Front Camera\\n800 mAh Battery\\nNA 0 Single Core 208MHz Processor\\n1 Year Manufacturer Warranty\\n₹2,150\\nFree delivery\\nAdd to Compare\\nSAMSUNG Galaxy F23 5G (Aqua Blue, 128 GB)\\n4929 Ratings & 108 Reviews\\n4 GB RAM | 128 GB ROM | Expandable Upto 1 TB\\n16.76 cm (6.6 inch) Full HD+ Display\\n50MP + 8MP + 2MP | 8MP Front Camera\\n5000 mAh Lithium Ion Battery\\nQualcomm Snapdragon 750G Processor\\n1 Year Warranty Provided by the Manufacturer from Date of Purchase\\n₹15,999\\n₹22,99930% off\\nFree delivery\\nNo Cost EMI from ₹2,667/month\\nUpto \\n₹13,000\\n Off on Exchange\\nAdd to Compare\\nSAMSUNG Galaxy F22 (Denim Black, 64 GB)\\n4.352,685 Ratings & 5,193 Reviews\\n4 GB RAM | 64 GB ROM | Expandable Upto 1 TB\\n16.26 cm (6.4 inch) HD+ Display\\n48MP + 8MP + 2MP + 2MP | 13MP Front Camera\\n6000 mAh Lithium-ion Battery\\nMediaTek Helio G80 Processor\\n1 Year Warranty Provided by the Manufacturer from Date of Purchase\\n₹12,999\\n₹14,99913% off\\nFree delivery\\nNo Cost EMI from ₹2,167/month\\nUpto \\n₹11,550\\n Off on Exchange\\nAdd to Compare\\nSAMSUNG Galaxy F42 5G (Matte Black, 128 GB)\\n4.19,006 Ratings & 880 Reviews\\n6 GB RAM | 128 GB ROM | Expandable Upto 1 TB\\n16.76 cm (6.6 inch) Full HD+ Display\\n64MP + 5MP + 2MP | 8MP Front Camera\\n5000 mAh Lithium-ion Battery\\nMediaTek Dimensity 700 Processor\\n1 Year Warranty Provided by the Manufacturer from Date of Purchase\\n₹20,999\\n₹23,99912% off\\nFree delivery\\nNo Cost EMI from ₹3,500/month\\nAdd to Compare\\nSAMSUNG Galaxy F42 5G (Matte Black, 128 GB)\\n4.13,510 Ratings & 378 Reviews\\n8 GB RAM | 128 GB ROM | Expandable Upto 1 TB\\n16.76 cm (6.6 inch) Full HD+ Display\\n64MP + 5MP + 2MP | 8MP Front Camera\\n5000 mAh Lithium-ion Battery\\nMediaTek Dimensity 700 Processor\\n1 Year Warranty Provided by the Manufacturer from Date of Purchase\\n₹17,999\\n₹25,99930% off\\nFree delivery\\nNo Cost EMI from ₹3,000/month\\nUpto \\n₹13,000\\n Off on Exchange\\nAdd to Compare\\nSAMSUNG M21 2021 Edition (Charcoal Black, 64 GB)\\n4.2756 Ratings & 74 Reviews\\n4 GB RAM | 64 GB ROM\\n16.26 cm (6.4 inch) Display\\n48MP Rear Camera\\n6000 mAh Battery\\n1 Year\\n₹13,393\\nFree delivery\\nAdd to Compare\\nSAMSUNG Metro 313 Dual Sim\\n4.314,391 Ratings & 1,452 Reviews\\n16 MB RAM | 2 MB ROM\\n5.08 cm (2 inch) Display\\n0.3MP Rear Camera\\n1000 mAh Battery\\n1 Year Manufacturer Warranty\\n₹2,025\\nAdd to Compare\\nSAMSUNG GURU 1200\\n4.366 Ratings & 5 Reviews\\n4 MB RAM | 4 MB ROM\\n3.86 cm (1.52 inch) Display\\n800 mAh Battery\\n1 Year\\n₹1,585\\n₹1,79811% off\\nFree delivery\\nAdd to Compare\\nSAMSUNG Galaxy A52s 5G (Awesome Black, 128 GB)\\n4.2370 Ratings & 45 Reviews\\n6 GB RAM | 128 GB ROM | Expandable Upto 1 TB\\n16.51 cm (6.5 inch) Full HD+ Display\\n64MP + 12MP + 5MP + 5MP | 32MP Front Camera\\n4500 mAh Li-ion Battery\\nQualcomm Snapdragon 778G Processor\\n1 Year Manufacturer Warranty for Device and 6 Months Manufacturer Warranty for In-box Accessories\\n₹29,799\\n₹30,3501% off\\nFree delivery\\nAdd to Compare\\nSAMSUNG Galaxy F42 5G (Matte Aqua, 128 GB)\\n4.13,510 Ratings & 378 Reviews\\n8 GB RAM | 128 GB ROM | Expandable Upto 1 TB\\n16.76 cm (6.6 inch) Full HD+ Display\\n64MP + 5MP + 2MP | 8MP Front Camera\\n5000 mAh Lithium-ion Battery\\nMediaTek Dimensity 700 Processor\\n1 Year Warranty Provided by the Manufacturer from Date of Purchase\\n₹17,999\\n₹25,99930% off\\nFree delivery\\nNo Cost EMI from ₹3,000/month\\nUpto \\n₹13,000\\n Off on Exchange\\nAdd to Compare\\nSAMSUNG GURU 1200\\n3.8228 Ratings & 18 Reviews\\nNA MB ROM\\n3.86 cm (1.52 inch) Display\\n800 mAh Battery\\n1 YEAR\\n₹1,544\\n₹1,5601% off\\nFree delivery\\nAdd to Compare\\nSAMSUNG Guru Music 2\\n4.31,85,728 Ratings & 17,595 Reviews\\nNA ROM\\n5.08 cm (2 inch) NA Display\\n800 mAh Battery\\n1 Year Manufacturer Warranty\\n₹2,160\\n₹2,170\\nFree delivery\\nAdd to Compare\\nSAMSUNG Galaxy F42 5G (Matte Aqua, 128 GB)\\n4.19,006 Ratings & 880 Reviews\\n6 GB RAM | 128 GB ROM | Expandable Upto 1 TB\\n16.76 cm (6.6 inch) Full HD+ Display\\n64MP + 5MP + 2MP | 8MP Front Camera\\n5000 mAh Lithium-ion Battery\\nMediaTek Dimensity 700 Processor\\n1 Year Warranty Provided by the Manufacturer from Date of Purchase\\n₹15,999\\n₹23,99933% off\\nFree delivery\\nNo Cost EMI from ₹2,667/month\\nUpto \\n₹13,000\\n Off on Exchange\\nPage 1 of 31\\n1\\n2\\n3\\n4\\n5\\n6\\n7\\n8\\n9\\n10\\nNEXT\\nDid you find what you were looking for?YesNo']"
      ]
     },
     "execution_count": 158,
     "metadata": {},
     "output_type": "execute_result"
    }
   ],
   "source": [
    "featuresandspec=[features.text]\n",
    "featuresandspec"
   ]
  },
  {
   "cell_type": "code",
   "execution_count": 176,
   "id": "8fd3da95",
   "metadata": {},
   "outputs": [],
   "source": [
    "url= 'https://trak.in/india-startup-funding-investment-2015/'\n",
    "driver.get(url)"
   ]
  },
  {
   "cell_type": "code",
   "execution_count": 179,
   "id": "4f0e5077",
   "metadata": {},
   "outputs": [
    {
     "data": {
      "text/plain": [
       "<selenium.webdriver.remote.webelement.WebElement (session=\"3eecee8f45c19d663ee57aef4a2a645e\", element=\"f621835d-7b1c-456b-8a93-e7ce5d8adf87\")>"
      ]
     },
     "execution_count": 179,
     "metadata": {},
     "output_type": "execute_result"
    }
   ],
   "source": [
    "jan = driver.find_element_by_xpath('/html/body/div[1]/main/div/div/div/div[2]/div[1]/div/div/div/div[1]/div/div[5]/div[3]/div[2]/table/tbody')\n",
    "jan"
   ]
  },
  {
   "cell_type": "code",
   "execution_count": 180,
   "id": "dad3d0ca",
   "metadata": {},
   "outputs": [
    {
     "ename": "TypeError",
     "evalue": "'WebElement' object is not iterable",
     "output_type": "error",
     "traceback": [
      "\u001b[1;31m---------------------------------------------------------------------------\u001b[0m",
      "\u001b[1;31mTypeError\u001b[0m                                 Traceback (most recent call last)",
      "\u001b[1;32m<ipython-input-180-fc83357755dd>\u001b[0m in \u001b[0;36m<module>\u001b[1;34m\u001b[0m\n\u001b[0;32m      1\u001b[0m \u001b[0mfor_jan\u001b[0m \u001b[1;33m=\u001b[0m \u001b[1;33m[\u001b[0m\u001b[1;33m]\u001b[0m\u001b[1;33m\u001b[0m\u001b[1;33m\u001b[0m\u001b[0m\n\u001b[0;32m      2\u001b[0m \u001b[1;33m\u001b[0m\u001b[0m\n\u001b[1;32m----> 3\u001b[1;33m \u001b[1;32mfor\u001b[0m \u001b[0mi\u001b[0m \u001b[1;32min\u001b[0m \u001b[0mjan\u001b[0m\u001b[1;33m:\u001b[0m\u001b[1;33m\u001b[0m\u001b[1;33m\u001b[0m\u001b[0m\n\u001b[0m\u001b[0;32m      4\u001b[0m     \u001b[0mfor_jan\u001b[0m\u001b[1;33m.\u001b[0m\u001b[0mappend\u001b[0m\u001b[1;33m(\u001b[0m\u001b[0mi\u001b[0m\u001b[1;33m.\u001b[0m\u001b[0mtext\u001b[0m\u001b[1;33m)\u001b[0m\u001b[1;33m\u001b[0m\u001b[1;33m\u001b[0m\u001b[0m\n\u001b[0;32m      5\u001b[0m \u001b[0mfor_jan\u001b[0m\u001b[1;33m\u001b[0m\u001b[1;33m\u001b[0m\u001b[0m\n",
      "\u001b[1;31mTypeError\u001b[0m: 'WebElement' object is not iterable"
     ]
    }
   ],
   "source": [
    "for_jan = []\n",
    "\n",
    "for i in jan:\n",
    "    for_jan.append(i.text)\n",
    "for_jan"
   ]
  },
  {
   "cell_type": "code",
   "execution_count": 181,
   "id": "b43d5c1f",
   "metadata": {},
   "outputs": [
    {
     "data": {
      "text/plain": [
       "[<selenium.webdriver.remote.webelement.WebElement (session=\"3eecee8f45c19d663ee57aef4a2a645e\", element=\"7db19375-7b73-4ddb-b479-9f76f2e15748\")>]"
      ]
     },
     "execution_count": 181,
     "metadata": {},
     "output_type": "execute_result"
    }
   ],
   "source": [
    "feb=driver.find_elements_by_xpath('/html/body/div[1]/main/div/div/div/div[2]/div[1]/div/div/div/div[1]/div/div[4]/div[3]/div[2]/table/tbody')\n",
    "feb"
   ]
  },
  {
   "cell_type": "code",
   "execution_count": 182,
   "id": "39d39f98",
   "metadata": {},
   "outputs": [
    {
     "data": {
      "text/plain": [
       "['1 11/02/2021 Doubtnut Edu Tech E-Learning Platform Gurgaon SIG Global, Sequoia Capital, WaterBridge Ventures and ON Mauritius Series B 2,500,000\\n2 22/02/2021 Zomato Hospitality Online Food Delivery Platform Gurgaon Tiger Global, Kora Venture 250,000,000\\n3 19/02/2021 Fingerlix Hospitality Semi-cooked food delivery app Mumbai Rhodium Trust, Accel Partners and Swiggy Series C 2,747,045.20\\n4 17/02/2021 Zolve FinTech Global Neobank Venture Mumbai Accel Partners and Lightspeed Venture Partners Seed 1,50,00,000\\n5 15/02/2021 KreditBee Finance Digital lending platform Bengaluru Azim Premji’s PremjiInvest and South Korea’s Mirae Asset Venture Series C 75,000,000\\n6 12/02/2021 Pepperfry E-commerce Multi-brand furniture brand Mumbai InnoVen Capital Debt Financing 4,773,958\\n7 12/02/2021 Grofers E-Commerce Online supermarket Gurgaon SoftBank Vision Fund (SVF) Unspecified 55,000,000\\n8 09/02/2021 Nothing Technology Consumer Technology Venture London GV Series A 15,000,000\\n9 09/02/2021 SplashLearn EdTech Game-based learning programme Gurgaon Owl Ventures Series C 18,000,000']"
      ]
     },
     "execution_count": 182,
     "metadata": {},
     "output_type": "execute_result"
    }
   ],
   "source": [
    "for_feb = []\n",
    "\n",
    "for i in feb:\n",
    "    for_feb.append(i.text)\n",
    "for_feb"
   ]
  },
  {
   "cell_type": "code",
   "execution_count": 183,
   "id": "a2f7de44",
   "metadata": {},
   "outputs": [
    {
     "data": {
      "text/plain": [
       "[<selenium.webdriver.remote.webelement.WebElement (session=\"3eecee8f45c19d663ee57aef4a2a645e\", element=\"023f7de5-bb04-4e10-a943-80d0e4abf2d7\")>]"
      ]
     },
     "execution_count": 183,
     "metadata": {},
     "output_type": "execute_result"
    }
   ],
   "source": [
    "mar=driver.find_elements_by_xpath('/html/body/div[1]/main/div/div/div/div[2]/div[1]/div/div/div/div[1]/div/div[3]/div[3]/div[2]/table/tbody')\n",
    "mar"
   ]
  },
  {
   "cell_type": "code",
   "execution_count": 184,
   "id": "fc681ee6",
   "metadata": {},
   "outputs": [
    {
     "data": {
      "text/plain": [
       "['1 04/03/2021 DealShare E-commerce Online shopping platform Jaipur, Rajasthan Innoven Capital Debt Financing 250,000,000\\n2 31/03/2021 Uniphore Technology Conversational Service Automation (CSA) Palo Alto Sorenson Capital Partners Series D 140,000,000\\n3 30/03/2021 Dunzo E-commerce Hyper-local delivery app Bengaluru Krishtal Advisors Pte Ltd Series E 8,000,000\\n4 30/03/2021 BYJU’S Edu-tech Online tutoring Bengaluru MC Global Edtech, B Capital, Baron, others Series F 460,000,000\\n5 23/03/2021 SkilloVilla Edu-tech Career and job-oriented upskilling. Bengaluru Titan Capital, others Seed 300,000,000\\n6 25/03/2021 CityMall E-commerce Social ecommerce and online grocery platform Gurgaon Accel Partners Series A 11,000,000\\n7 26/03/2021 DotPe FinTech Commerce and payments platform to offline enterprise businesses. Gurgaon PayU Series A 27,500,000']"
      ]
     },
     "execution_count": 184,
     "metadata": {},
     "output_type": "execute_result"
    }
   ],
   "source": [
    "for_mar=[]\n",
    "\n",
    "for i in mar:\n",
    "    for_mar.append(i.text)\n",
    "for_mar"
   ]
  },
  {
   "cell_type": "code",
   "execution_count": 185,
   "id": "03ef7f84",
   "metadata": {},
   "outputs": [],
   "source": [
    "url = 'https://www.digit.in/'\n",
    "driver.get(url)"
   ]
  },
  {
   "cell_type": "code",
   "execution_count": 186,
   "id": "6594b60c",
   "metadata": {},
   "outputs": [
    {
     "data": {
      "text/plain": [
       "<selenium.webdriver.remote.webelement.WebElement (session=\"3eecee8f45c19d663ee57aef4a2a645e\", element=\"367a751d-9427-4362-a9d7-a1716a8eafa1\")>"
      ]
     },
     "execution_count": 186,
     "metadata": {},
     "output_type": "execute_result"
    }
   ],
   "source": [
    "search_items=driver.find_element_by_xpath('//input[@id=\"globalPageSearchText\"]')\n",
    "search_items"
   ]
  },
  {
   "cell_type": "code",
   "execution_count": 188,
   "id": "603c6010",
   "metadata": {},
   "outputs": [],
   "source": [
    "search_items.send_keys('gaming laptops')"
   ]
  },
  {
   "cell_type": "code",
   "execution_count": 190,
   "id": "c6e4a39f",
   "metadata": {},
   "outputs": [
    {
     "data": {
      "text/plain": [
       "[<selenium.webdriver.remote.webelement.WebElement (session=\"3eecee8f45c19d663ee57aef4a2a645e\", element=\"dda64181-0053-4f83-a20f-5ca744442ac9\")>,\n",
       " <selenium.webdriver.remote.webelement.WebElement (session=\"3eecee8f45c19d663ee57aef4a2a645e\", element=\"40179022-5472-48cc-bc50-d2aee73aa3a7\")>,\n",
       " <selenium.webdriver.remote.webelement.WebElement (session=\"3eecee8f45c19d663ee57aef4a2a645e\", element=\"d104938e-9072-4ab9-89fa-ba40a38c36dc\")>,\n",
       " <selenium.webdriver.remote.webelement.WebElement (session=\"3eecee8f45c19d663ee57aef4a2a645e\", element=\"323675aa-5ce8-4f32-9ee5-37934a5a099e\")>,\n",
       " <selenium.webdriver.remote.webelement.WebElement (session=\"3eecee8f45c19d663ee57aef4a2a645e\", element=\"66d8dbc0-931f-4f53-8fa6-2a7b02488e74\")>,\n",
       " <selenium.webdriver.remote.webelement.WebElement (session=\"3eecee8f45c19d663ee57aef4a2a645e\", element=\"9534feda-a4e0-481a-b398-e3bf4dac66a0\")>,\n",
       " <selenium.webdriver.remote.webelement.WebElement (session=\"3eecee8f45c19d663ee57aef4a2a645e\", element=\"a43d1f49-ad8f-43e3-96a2-e8de44082627\")>,\n",
       " <selenium.webdriver.remote.webelement.WebElement (session=\"3eecee8f45c19d663ee57aef4a2a645e\", element=\"8a96d01c-5dd5-4f31-b526-7539acf0e173\")>,\n",
       " <selenium.webdriver.remote.webelement.WebElement (session=\"3eecee8f45c19d663ee57aef4a2a645e\", element=\"d3acd7d0-0cac-43e2-88d4-da965ed9e6ec\")>,\n",
       " <selenium.webdriver.remote.webelement.WebElement (session=\"3eecee8f45c19d663ee57aef4a2a645e\", element=\"32c43aa4-453a-4cf2-98e6-b23c2c02d209\")>]"
      ]
     },
     "execution_count": 190,
     "metadata": {},
     "output_type": "execute_result"
    }
   ],
   "source": [
    "descrp=driver.find_elements_by_xpath(\"//div[@class='searchProduct-desc']\")\n",
    "descrp"
   ]
  },
  {
   "cell_type": "code",
   "execution_count": 191,
   "id": "7a1ea19e",
   "metadata": {},
   "outputs": [
    {
     "data": {
      "text/plain": [
       "[\"ASUS G53J - A 3D gamer's delight but we want more\",\n",
       " 'HP Envy 15-k006tx',\n",
       " 'Asus G750JX-CV069P',\n",
       " 'Lenovo IdeaPad Y570',\n",
       " 'ASUS ROG Flow x13',\n",
       " 'ASUS ROG Cetra',\n",
       " 'HP Pavilion g6 - Multimedia and gaming on a budget',\n",
       " 'Truvison TX3271',\n",
       " 'ASUS Zephyrus G15 Ryzen 9 5900HS (2021)',\n",
       " 'Lenovo G50-30']"
      ]
     },
     "execution_count": 191,
     "metadata": {},
     "output_type": "execute_result"
    }
   ],
   "source": [
    "pro_des = []\n",
    "\n",
    "for i in descrp:\n",
    "    pro_des.append(i.text)\n",
    "pro_des"
   ]
  },
  {
   "cell_type": "code",
   "execution_count": 192,
   "id": "c7bebb06",
   "metadata": {},
   "outputs": [],
   "source": [
    "url='https://www.forbes.com/real-time-billionaires/#1088fc073d78'\n",
    "driver.get(url)"
   ]
  },
  {
   "cell_type": "code",
   "execution_count": 193,
   "id": "c3b8b927",
   "metadata": {},
   "outputs": [
    {
     "data": {
      "text/plain": [
       "[<selenium.webdriver.remote.webelement.WebElement (session=\"3eecee8f45c19d663ee57aef4a2a645e\", element=\"b167f0b8-d004-4547-a0ef-ff7c49fbf19c\")>]"
      ]
     },
     "execution_count": 193,
     "metadata": {},
     "output_type": "execute_result"
    }
   ],
   "source": [
    "Bn=driver.find_elements_by_xpath(\"/html/body/div[2]/div[2]/div/div[2]/div[1]/div/section[5]/div[2]/div/div[4]/div[1]/table/tbody/tr[1]/td[3]/div/h3/a\")\n",
    "Bn"
   ]
  },
  {
   "cell_type": "code",
   "execution_count": 195,
   "id": "f60f5c8c",
   "metadata": {},
   "outputs": [
    {
     "data": {
      "text/plain": [
       "['Elon Musk']"
      ]
     },
     "execution_count": 195,
     "metadata": {},
     "output_type": "execute_result"
    }
   ],
   "source": [
    "PersonName=[]\n",
    "for i in Bn:\n",
    "    PersonName.append(i.text)\n",
    "PersonName"
   ]
  },
  {
   "cell_type": "code",
   "execution_count": 197,
   "id": "c321da8f",
   "metadata": {},
   "outputs": [
    {
     "data": {
      "text/plain": [
       "[<selenium.webdriver.remote.webelement.WebElement (session=\"3eecee8f45c19d663ee57aef4a2a645e\", element=\"57d90616-c409-4d1e-8df8-14d2569b72f0\")>]"
      ]
     },
     "execution_count": 197,
     "metadata": {},
     "output_type": "execute_result"
    }
   ],
   "source": [
    "rank = driver.find_elements_by_xpath('/html/body/div[2]/div[2]/div/div[2]/div[1]/div/section[5]/div[2]/div/div[4]/div[1]/table/tbody/tr[1]/td[2]/div/span')\n",
    "rank"
   ]
  },
  {
   "cell_type": "code",
   "execution_count": 198,
   "id": "6611a95a",
   "metadata": {},
   "outputs": [
    {
     "data": {
      "text/plain": [
       "['1']"
      ]
     },
     "execution_count": 198,
     "metadata": {},
     "output_type": "execute_result"
    }
   ],
   "source": [
    "ranking = []\n",
    "for i in rank:\n",
    "    ranking.append(i.text)\n",
    "ranking"
   ]
  },
  {
   "cell_type": "code",
   "execution_count": 199,
   "id": "726e352d",
   "metadata": {},
   "outputs": [
    {
     "data": {
      "text/plain": [
       "[<selenium.webdriver.remote.webelement.WebElement (session=\"3eecee8f45c19d663ee57aef4a2a645e\", element=\"f2a6c9a9-a7ef-4dcf-9caa-88f2fdb9817c\")>]"
      ]
     },
     "execution_count": 199,
     "metadata": {},
     "output_type": "execute_result"
    }
   ],
   "source": [
    "worth = driver.find_elements_by_xpath('/html/body/div[2]/div[2]/div/div[2]/div[1]/div/section[5]/div[2]/div/div[4]/div[1]/table/tbody/tr[1]/td[4]/div/span')\n",
    "worth"
   ]
  },
  {
   "cell_type": "code",
   "execution_count": 200,
   "id": "83dece7e",
   "metadata": {},
   "outputs": [
    {
     "data": {
      "text/plain": [
       "['$289.9 B']"
      ]
     },
     "execution_count": 200,
     "metadata": {},
     "output_type": "execute_result"
    }
   ],
   "source": [
    "networth = []\n",
    "for i in worth:\n",
    "    networth.append(i.text)\n",
    "networth"
   ]
  },
  {
   "cell_type": "code",
   "execution_count": 201,
   "id": "cedae233",
   "metadata": {},
   "outputs": [
    {
     "data": {
      "text/plain": [
       "[<selenium.webdriver.remote.webelement.WebElement (session=\"3eecee8f45c19d663ee57aef4a2a645e\", element=\"12510efd-7ccc-4f9f-a805-73165e60e243\")>]"
      ]
     },
     "execution_count": 201,
     "metadata": {},
     "output_type": "execute_result"
    }
   ],
   "source": [
    "age = driver.find_elements_by_xpath('/html/body/div[2]/div[2]/div/div[2]/div[1]/div/section[5]/div[2]/div/div[4]/div[1]/table/tbody/tr[1]/td[6]/div/span')\n",
    "age"
   ]
  },
  {
   "cell_type": "code",
   "execution_count": 202,
   "id": "a8329cf3",
   "metadata": {},
   "outputs": [
    {
     "data": {
      "text/plain": [
       "['50']"
      ]
     },
     "execution_count": 202,
     "metadata": {},
     "output_type": "execute_result"
    }
   ],
   "source": [
    "ages = []\n",
    "for i in age:\n",
    "    ages.append(i.text)\n",
    "ages"
   ]
  },
  {
   "cell_type": "code",
   "execution_count": 203,
   "id": "be0625ba",
   "metadata": {},
   "outputs": [
    {
     "data": {
      "text/plain": [
       "[<selenium.webdriver.remote.webelement.WebElement (session=\"3eecee8f45c19d663ee57aef4a2a645e\", element=\"1cf25020-7a89-4ad5-bb08-5a6c26c0b07c\")>]"
      ]
     },
     "execution_count": 203,
     "metadata": {},
     "output_type": "execute_result"
    }
   ],
   "source": [
    "source = driver.find_elements_by_xpath('/html/body/div[2]/div[2]/div/div[2]/div[1]/div/section[5]/div[2]/div/div[4]/div[1]/table/tbody/tr[1]/td[7]/div/span')\n",
    "source"
   ]
  },
  {
   "cell_type": "code",
   "execution_count": 204,
   "id": "845a48af",
   "metadata": {},
   "outputs": [
    {
     "data": {
      "text/plain": [
       "['Tesla, SpaceX']"
      ]
     },
     "execution_count": 204,
     "metadata": {},
     "output_type": "execute_result"
    }
   ],
   "source": [
    "sources = []\n",
    "for i in source:\n",
    "    sources.append(i.text)\n",
    "sources"
   ]
  },
  {
   "cell_type": "code",
   "execution_count": 205,
   "id": "b3defd73",
   "metadata": {},
   "outputs": [
    {
     "data": {
      "text/plain": [
       "[<selenium.webdriver.remote.webelement.WebElement (session=\"3eecee8f45c19d663ee57aef4a2a645e\", element=\"6634cee3-44af-4b1f-b359-6ee3d5332d47\")>]"
      ]
     },
     "execution_count": 205,
     "metadata": {},
     "output_type": "execute_result"
    }
   ],
   "source": [
    "citizen = driver.find_elements_by_xpath('/html/body/div[2]/div[2]/div/div[2]/div[1]/div/section[5]/div[2]/div/div[4]/div[1]/table/tbody/tr[1]/td[8]/div/span')\n",
    "citizen"
   ]
  },
  {
   "cell_type": "code",
   "execution_count": 207,
   "id": "71cf127e",
   "metadata": {},
   "outputs": [
    {
     "data": {
      "text/plain": [
       "['United States']"
      ]
     },
     "execution_count": 207,
     "metadata": {},
     "output_type": "execute_result"
    }
   ],
   "source": [
    "citizenship = []\n",
    "for i in citizen:\n",
    "    citizenship.append(i.text)\n",
    "citizenship"
   ]
  },
  {
   "cell_type": "code",
   "execution_count": 222,
   "id": "f39fe402",
   "metadata": {},
   "outputs": [],
   "source": [
    "url=('https://www.youtube.com/watch?v=_PBlykN4KIY')\n",
    "driver.get(url)"
   ]
  },
  {
   "cell_type": "code",
   "execution_count": 223,
   "id": "958ba630",
   "metadata": {},
   "outputs": [
    {
     "data": {
      "text/plain": [
       "[<selenium.webdriver.remote.webelement.WebElement (session=\"3eecee8f45c19d663ee57aef4a2a645e\", element=\"bfc9927a-f799-4292-a731-77cc5d68fc07\")>,\n",
       " <selenium.webdriver.remote.webelement.WebElement (session=\"3eecee8f45c19d663ee57aef4a2a645e\", element=\"4b691878-d409-48a4-9d8a-cc495847c6cf\")>,\n",
       " <selenium.webdriver.remote.webelement.WebElement (session=\"3eecee8f45c19d663ee57aef4a2a645e\", element=\"6beabfe3-3d00-4249-ab0a-4f18bc5b9ca0\")>,\n",
       " <selenium.webdriver.remote.webelement.WebElement (session=\"3eecee8f45c19d663ee57aef4a2a645e\", element=\"e7508d4f-6d93-4e7d-b4e3-dc88356b185a\")>,\n",
       " <selenium.webdriver.remote.webelement.WebElement (session=\"3eecee8f45c19d663ee57aef4a2a645e\", element=\"adbc42ea-b158-495f-a5eb-4e020de9e6cb\")>,\n",
       " <selenium.webdriver.remote.webelement.WebElement (session=\"3eecee8f45c19d663ee57aef4a2a645e\", element=\"17cf549c-ece6-4fe1-b2f6-c075d17f9279\")>,\n",
       " <selenium.webdriver.remote.webelement.WebElement (session=\"3eecee8f45c19d663ee57aef4a2a645e\", element=\"14408211-f6de-45ff-ac4d-0757fc2c663a\")>,\n",
       " <selenium.webdriver.remote.webelement.WebElement (session=\"3eecee8f45c19d663ee57aef4a2a645e\", element=\"b15bdc15-53bf-4fbe-af11-7a46be71c738\")>,\n",
       " <selenium.webdriver.remote.webelement.WebElement (session=\"3eecee8f45c19d663ee57aef4a2a645e\", element=\"18fac1ae-1295-4c5f-9fb6-888b17732edd\")>,\n",
       " <selenium.webdriver.remote.webelement.WebElement (session=\"3eecee8f45c19d663ee57aef4a2a645e\", element=\"86569537-8ef7-4269-be12-10f7eca523d7\")>,\n",
       " <selenium.webdriver.remote.webelement.WebElement (session=\"3eecee8f45c19d663ee57aef4a2a645e\", element=\"a5f66fe2-d3aa-4a05-b393-1725cb5d3ac2\")>,\n",
       " <selenium.webdriver.remote.webelement.WebElement (session=\"3eecee8f45c19d663ee57aef4a2a645e\", element=\"e2549ffe-7791-4b17-a23a-d8aeec2dddb8\")>,\n",
       " <selenium.webdriver.remote.webelement.WebElement (session=\"3eecee8f45c19d663ee57aef4a2a645e\", element=\"748b9801-7a75-4a18-a64b-3708befc90a7\")>,\n",
       " <selenium.webdriver.remote.webelement.WebElement (session=\"3eecee8f45c19d663ee57aef4a2a645e\", element=\"2492528b-1334-4415-8376-52800ded6e03\")>,\n",
       " <selenium.webdriver.remote.webelement.WebElement (session=\"3eecee8f45c19d663ee57aef4a2a645e\", element=\"b57edc47-d848-469d-ada1-dead53ff2042\")>,\n",
       " <selenium.webdriver.remote.webelement.WebElement (session=\"3eecee8f45c19d663ee57aef4a2a645e\", element=\"899a116c-5e64-40c3-9f05-f9e8a4e6ff3a\")>,\n",
       " <selenium.webdriver.remote.webelement.WebElement (session=\"3eecee8f45c19d663ee57aef4a2a645e\", element=\"c7684f12-98c7-4cb7-a3e8-4ece4f669500\")>,\n",
       " <selenium.webdriver.remote.webelement.WebElement (session=\"3eecee8f45c19d663ee57aef4a2a645e\", element=\"9561927f-2b98-40fe-9511-3277f186c137\")>,\n",
       " <selenium.webdriver.remote.webelement.WebElement (session=\"3eecee8f45c19d663ee57aef4a2a645e\", element=\"b6e2125f-e4a0-43e0-9a9a-c76b668e69d4\")>,\n",
       " <selenium.webdriver.remote.webelement.WebElement (session=\"3eecee8f45c19d663ee57aef4a2a645e\", element=\"16a33894-950f-45b1-bcf0-e2ddfd262544\")>]"
      ]
     },
     "execution_count": 223,
     "metadata": {},
     "output_type": "execute_result"
    }
   ],
   "source": [
    "ytc=driver.find_elements_by_xpath(\"//span[@class='style-scope yt-formatted-string']\")\n",
    "ytc"
   ]
  },
  {
   "cell_type": "code",
   "execution_count": 224,
   "id": "279503d0",
   "metadata": {},
   "outputs": [
    {
     "data": {
      "text/plain": [
       "['',\n",
       " '',\n",
       " '',\n",
       " '',\n",
       " '',\n",
       " '',\n",
       " '',\n",
       " '',\n",
       " '',\n",
       " '',\n",
       " 'The Score – “Unstoppable” (Official Lyric Video)\\nTaken from the album ATLAS\\n\\nStream/Download our new album ‘Carry On’ Now: ',\n",
       " '',\n",
       " '',\n",
       " '',\n",
       " '',\n",
       " '',\n",
       " '',\n",
       " '',\n",
       " '',\n",
       " '']"
      ]
     },
     "execution_count": 224,
     "metadata": {},
     "output_type": "execute_result"
    }
   ],
   "source": [
    "CommentsList=[]\n",
    "for i in ytc:\n",
    "    CommentsList.append(i.text)\n",
    "CommentsList"
   ]
  },
  {
   "cell_type": "code",
   "execution_count": 225,
   "id": "7c6a9cf7",
   "metadata": {},
   "outputs": [
    {
     "data": {
      "text/plain": [
       "20"
      ]
     },
     "execution_count": 225,
     "metadata": {},
     "output_type": "execute_result"
    }
   ],
   "source": [
    "len(CommentsList)"
   ]
  },
  {
   "cell_type": "code",
   "execution_count": 226,
   "id": "f10950c8",
   "metadata": {},
   "outputs": [
    {
     "data": {
      "text/plain": [
       "[<selenium.webdriver.remote.webelement.WebElement (session=\"3eecee8f45c19d663ee57aef4a2a645e\", element=\"c1b94bc6-10cc-4253-9b76-5ab393f13a9c\")>,\n",
       " <selenium.webdriver.remote.webelement.WebElement (session=\"3eecee8f45c19d663ee57aef4a2a645e\", element=\"cef367fe-e17c-4680-b3ff-975222056d2c\")>,\n",
       " <selenium.webdriver.remote.webelement.WebElement (session=\"3eecee8f45c19d663ee57aef4a2a645e\", element=\"87958ae5-05f3-4c65-a901-6e0efa434c0c\")>,\n",
       " <selenium.webdriver.remote.webelement.WebElement (session=\"3eecee8f45c19d663ee57aef4a2a645e\", element=\"241dffb5-3a9e-423f-8ab1-40fa5992bb78\")>,\n",
       " <selenium.webdriver.remote.webelement.WebElement (session=\"3eecee8f45c19d663ee57aef4a2a645e\", element=\"054055cb-94fa-4ac4-881d-80f67f3ee7f1\")>,\n",
       " <selenium.webdriver.remote.webelement.WebElement (session=\"3eecee8f45c19d663ee57aef4a2a645e\", element=\"50e5a99f-857d-4bef-85dc-ab9d607d3b68\")>,\n",
       " <selenium.webdriver.remote.webelement.WebElement (session=\"3eecee8f45c19d663ee57aef4a2a645e\", element=\"23cb765d-a0a1-47cb-b677-cd5344c45c8b\")>,\n",
       " <selenium.webdriver.remote.webelement.WebElement (session=\"3eecee8f45c19d663ee57aef4a2a645e\", element=\"54ef1e3e-d5cc-48f1-8d41-1c1b99721886\")>,\n",
       " <selenium.webdriver.remote.webelement.WebElement (session=\"3eecee8f45c19d663ee57aef4a2a645e\", element=\"f8a1d942-86f5-411d-96a6-b21095df45ad\")>,\n",
       " <selenium.webdriver.remote.webelement.WebElement (session=\"3eecee8f45c19d663ee57aef4a2a645e\", element=\"1a0d2adf-5ff0-4e74-a45a-78881df08636\")>,\n",
       " <selenium.webdriver.remote.webelement.WebElement (session=\"3eecee8f45c19d663ee57aef4a2a645e\", element=\"d082816d-9e52-4e9c-994a-eb5bfcb8e939\")>,\n",
       " <selenium.webdriver.remote.webelement.WebElement (session=\"3eecee8f45c19d663ee57aef4a2a645e\", element=\"bbc4dbf3-3c1e-4a41-a309-155fb3b692bd\")>,\n",
       " <selenium.webdriver.remote.webelement.WebElement (session=\"3eecee8f45c19d663ee57aef4a2a645e\", element=\"33bd0b1e-6018-46bc-b762-bd1bf0bbc499\")>,\n",
       " <selenium.webdriver.remote.webelement.WebElement (session=\"3eecee8f45c19d663ee57aef4a2a645e\", element=\"cb73af6e-28c5-42b8-824b-b94b01fa5354\")>,\n",
       " <selenium.webdriver.remote.webelement.WebElement (session=\"3eecee8f45c19d663ee57aef4a2a645e\", element=\"65b69875-190e-4d04-b863-cdf93d489dce\")>,\n",
       " <selenium.webdriver.remote.webelement.WebElement (session=\"3eecee8f45c19d663ee57aef4a2a645e\", element=\"26419590-24fe-41f6-afe2-5c27884e1e36\")>,\n",
       " <selenium.webdriver.remote.webelement.WebElement (session=\"3eecee8f45c19d663ee57aef4a2a645e\", element=\"6521f428-51f1-4860-9320-d0a463cf3314\")>,\n",
       " <selenium.webdriver.remote.webelement.WebElement (session=\"3eecee8f45c19d663ee57aef4a2a645e\", element=\"4a137d03-5890-465e-96b7-aa2a33c464b1\")>,\n",
       " <selenium.webdriver.remote.webelement.WebElement (session=\"3eecee8f45c19d663ee57aef4a2a645e\", element=\"fac42016-21fb-4c57-ab1e-b5819a775a55\")>,\n",
       " <selenium.webdriver.remote.webelement.WebElement (session=\"3eecee8f45c19d663ee57aef4a2a645e\", element=\"930b14cd-4ada-46dc-8f90-b7cb72af98c1\")>,\n",
       " <selenium.webdriver.remote.webelement.WebElement (session=\"3eecee8f45c19d663ee57aef4a2a645e\", element=\"6ef5d76c-d07f-4a94-86de-795c7b68ef82\")>]"
      ]
     },
     "execution_count": 226,
     "metadata": {},
     "output_type": "execute_result"
    }
   ],
   "source": [
    "toc=driver.find_elements_by_xpath(\"//a[@class='yt-simple-endpoint style-scope yt-formatted-string']\")\n",
    "toc"
   ]
  },
  {
   "cell_type": "code",
   "execution_count": 227,
   "id": "8252e3f7",
   "metadata": {},
   "outputs": [
    {
     "data": {
      "text/plain": [
       "['',\n",
       " '',\n",
       " '',\n",
       " '',\n",
       " '',\n",
       " '',\n",
       " '',\n",
       " '',\n",
       " '',\n",
       " '',\n",
       " 'The Score',\n",
       " '',\n",
       " '',\n",
       " '',\n",
       " '',\n",
       " '',\n",
       " '',\n",
       " '',\n",
       " '',\n",
       " '',\n",
       " '']"
      ]
     },
     "execution_count": 227,
     "metadata": {},
     "output_type": "execute_result"
    }
   ],
   "source": [
    "TimeComments=[]\n",
    "for i in toc:\n",
    "    TimeComments.append(i.text)\n",
    "TimeComments"
   ]
  },
  {
   "cell_type": "code",
   "execution_count": 228,
   "id": "3c2a480c",
   "metadata": {},
   "outputs": [
    {
     "data": {
      "text/plain": [
       "21"
      ]
     },
     "execution_count": 228,
     "metadata": {},
     "output_type": "execute_result"
    }
   ],
   "source": [
    "len(TimeComments)"
   ]
  },
  {
   "cell_type": "code",
   "execution_count": 229,
   "id": "fba1e7dc",
   "metadata": {},
   "outputs": [
    {
     "data": {
      "text/plain": [
       "[<selenium.webdriver.remote.webelement.WebElement (session=\"3eecee8f45c19d663ee57aef4a2a645e\", element=\"2dd5da69-33b6-4ab6-b557-178ef4856615\")>,\n",
       " <selenium.webdriver.remote.webelement.WebElement (session=\"3eecee8f45c19d663ee57aef4a2a645e\", element=\"9da0a20f-2973-4523-a0b1-057c8149ff0b\")>]"
      ]
     },
     "execution_count": 229,
     "metadata": {},
     "output_type": "execute_result"
    }
   ],
   "source": [
    "ytu= driver.find_elements_by_class_name('style-scope ytd-toggle-button-renderer')\n",
    "ytu"
   ]
  },
  {
   "cell_type": "code",
   "execution_count": 230,
   "id": "90e9e096",
   "metadata": {},
   "outputs": [
    {
     "data": {
      "text/plain": [
       "['1.2M', 'DISLIKE']"
      ]
     },
     "execution_count": 230,
     "metadata": {},
     "output_type": "execute_result"
    }
   ],
   "source": [
    "UpvotesY=[]\n",
    "for i in ytu:\n",
    "    UpvotesY.append(i.text)\n",
    "UpvotesY"
   ]
  },
  {
   "cell_type": "code",
   "execution_count": 231,
   "id": "4a6d3145",
   "metadata": {},
   "outputs": [
    {
     "data": {
      "text/plain": [
       "2"
      ]
     },
     "execution_count": 231,
     "metadata": {},
     "output_type": "execute_result"
    }
   ],
   "source": [
    "len(UpvotesY)"
   ]
  },
  {
   "cell_type": "code",
   "execution_count": 234,
   "id": "99df3566",
   "metadata": {},
   "outputs": [],
   "source": [
    "url='https://www.hostelworld.com/'\n",
    "driver.get(url)"
   ]
  },
  {
   "cell_type": "code",
   "execution_count": 236,
   "id": "54b13e1a",
   "metadata": {},
   "outputs": [
    {
     "data": {
      "text/plain": [
       "<selenium.webdriver.remote.webelement.WebElement (session=\"3eecee8f45c19d663ee57aef4a2a645e\", element=\"fe8db925-382d-46a3-914f-f80ba87beebc\")>"
      ]
     },
     "execution_count": 236,
     "metadata": {},
     "output_type": "execute_result"
    }
   ],
   "source": [
    "search_loc=driver.find_element_by_id('location-text-input-field')\n",
    "search_loc"
   ]
  },
  {
   "cell_type": "code",
   "execution_count": 237,
   "id": "01ec110e",
   "metadata": {},
   "outputs": [],
   "source": [
    "search_loc.send_keys('London')"
   ]
  },
  {
   "cell_type": "code",
   "execution_count": 244,
   "id": "a5ea42a9",
   "metadata": {},
   "outputs": [
    {
     "data": {
      "text/plain": [
       "<selenium.webdriver.remote.webelement.WebElement (session=\"3eecee8f45c19d663ee57aef4a2a645e\", element=\"85d5b402-7231-422a-8310-77d7346ccddb\")>"
      ]
     },
     "execution_count": 244,
     "metadata": {},
     "output_type": "execute_result"
    }
   ],
   "source": [
    "search_btn=driver.find_element_by_xpath(\"/html/body/div[3]/div/div/div[1]/div[2]/div/div[2]/div[4]/div/div[2]/div/div[5]/button\")\n",
    "search_btn"
   ]
  },
  {
   "cell_type": "code",
   "execution_count": 245,
   "id": "2cd2c077",
   "metadata": {},
   "outputs": [],
   "source": [
    "search_btn.click()"
   ]
  },
  {
   "cell_type": "markdown",
   "id": "c070f8a7",
   "metadata": {},
   "source": [
    "# When I try to search it's not working "
   ]
  },
  {
   "cell_type": "code",
   "execution_count": null,
   "id": "0293584e",
   "metadata": {},
   "outputs": [],
   "source": []
  },
  {
   "cell_type": "code",
   "execution_count": null,
   "id": "0b70fd34",
   "metadata": {},
   "outputs": [],
   "source": []
  },
  {
   "cell_type": "code",
   "execution_count": null,
   "id": "9dc203f4",
   "metadata": {},
   "outputs": [],
   "source": []
  },
  {
   "cell_type": "code",
   "execution_count": null,
   "id": "76303bbf",
   "metadata": {},
   "outputs": [],
   "source": []
  },
  {
   "cell_type": "code",
   "execution_count": null,
   "id": "64c59ba0",
   "metadata": {},
   "outputs": [],
   "source": []
  },
  {
   "cell_type": "code",
   "execution_count": null,
   "id": "9fc0f18c",
   "metadata": {},
   "outputs": [],
   "source": []
  },
  {
   "cell_type": "code",
   "execution_count": null,
   "id": "f07f2f2f",
   "metadata": {},
   "outputs": [],
   "source": []
  },
  {
   "cell_type": "code",
   "execution_count": null,
   "id": "78f3770f",
   "metadata": {},
   "outputs": [],
   "source": []
  }
 ],
 "metadata": {
  "kernelspec": {
   "display_name": "Python 3",
   "language": "python",
   "name": "python3"
  },
  "language_info": {
   "codemirror_mode": {
    "name": "ipython",
    "version": 3
   },
   "file_extension": ".py",
   "mimetype": "text/x-python",
   "name": "python",
   "nbconvert_exporter": "python",
   "pygments_lexer": "ipython3",
   "version": "3.8.8"
  }
 },
 "nbformat": 4,
 "nbformat_minor": 5
}
